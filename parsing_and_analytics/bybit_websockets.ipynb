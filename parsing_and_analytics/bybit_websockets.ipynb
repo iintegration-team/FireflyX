{
 "cells": [
  {
   "cell_type": "code",
   "execution_count": null,
   "id": "b65cad35",
   "metadata": {},
   "outputs": [],
   "source": [
    "import asyncio\n",
    "import websockets\n",
    "import json"
   ]
  },
  {
   "cell_type": "markdown",
   "id": "814ca310",
   "metadata": {},
   "source": [
    "# Получение цены тикера"
   ]
  },
  {
   "cell_type": "code",
   "execution_count": 3,
   "id": "a340ddfc",
   "metadata": {},
   "outputs": [
    {
     "name": "stdout",
     "output_type": "stream",
     "text": [
      "{'symbol': 'BTCUSDT', 'price': '104176.17000000'}\n",
      "{'symbol': 'ETHUSDT', 'price': '2500.50000000'}\n",
      "{'symbol': 'SOLUSDT', 'price': '173.89000000'}\n"
     ]
    }
   ],
   "source": [
    "import requests\n",
    "\n",
    "def get_binance_price(symbol=\"BTCUSDT\"):\n",
    "    url = f\"https://api.binance.com/api/v3/ticker/price?symbol={symbol}\"\n",
    "    response = requests.get(url)\n",
    "    data = response.json()\n",
    "    return data\n",
    "\n",
    "print(get_binance_price(\"BTCUSDT\"))\n",
    "print(get_binance_price(\"ETHUSDT\"))\n",
    "print(get_binance_price(\"SOLUSDT\"))"
   ]
  },
  {
   "cell_type": "markdown",
   "id": "83278670",
   "metadata": {},
   "source": [
    "# Получение цен всех тикеров"
   ]
  },
  {
   "cell_type": "code",
   "execution_count": 8,
   "id": "7f6fe836",
   "metadata": {},
   "outputs": [
    {
     "name": "stdout",
     "output_type": "stream",
     "text": [
      "[{'symbol': 'ETHBTC', 'price': '0.02406000'}, {'symbol': 'LTCBTC', 'price': '0.00097100'}, {'symbol': 'BNBBTC', 'price': '0.00630700'}, {'symbol': 'NEOBTC', 'price': '0.00006690'}, {'symbol': 'QTUMETH', 'price': '0.00101100'}, {'symbol': 'EOSETH', 'price': '0.00036350'}, {'symbol': 'SNTETH', 'price': '0.00001700'}, {'symbol': 'BNTETH', 'price': '0.00020260'}, {'symbol': 'BCCBTC', 'price': '0.00000000'}, {'symbol': 'GASBTC', 'price': '0.00003350'}, {'symbol': 'BNBETH', 'price': '0.26210000'}, {'symbol': 'BTCUSDT', 'price': '104187.08000000'}, {'symbol': 'ETHUSDT', 'price': '2507.93000000'}, {'symbol': 'HSRBTC', 'price': '0.00000000'}, {'symbol': 'OAXETH', 'price': '0.00000000'}, {'symbol': 'DNTETH', 'price': '0.00000000'}, {'symbol': 'MCOETH', 'price': '0.00000000'}, {'symbol': 'ICNETH', 'price': '0.00000000'}, {'symbol': 'MCOBTC', 'price': '0.00000000'}, {'symbol': 'WTCBTC', 'price': '0.00000024'}, {'symbol': 'WTCETH', 'price': '0.00000000'}, {'symbol': 'LRCBTC', 'price': '0.00000115'}, {'symbol': 'LRCETH', 'price': '0.00004782'}, {'symbol': 'QTUMBTC', 'price': '0.00002419'}, {'symbol': 'YOYOBTC', 'price': '0.00000000'}, {'symbol': 'OMGBTC', 'price': '0.00003080'}, {'symbol': 'OMGETH', 'price': '0.00079100'}, {'symbol': 'ZRXBTC', 'price': '0.00000285'}, {'symbol': 'ZRXETH', 'price': '0.00009940'}, {'symbol': 'STRATBTC', 'price': '0.00000000'}, {'symbol': 'STRATETH', 'price': '0.00000000'}, {'symbol': 'SNGLSBTC', 'price': '0.00000000'}, {'symbol': 'SNGLSETH', 'price': '0.00000000'}, {'symbol': 'BQXBTC', 'price': '0.00000000'}, {'symbol': 'BQXETH', 'price': '0.00000000'}, {'symbol': 'KNCBTC', 'price': '0.00000388'}, {'symbol': 'KNCETH', 'price': '0.00039410'}, {'symbol': 'FUNBTC', 'price': '0.00000000'}, {'symbol': 'FUNETH', 'price': '0.00000146'}, {'symbol': 'SNMBTC', 'price': '0.00000057'}, {'symbol': 'SNMETH', 'price': '0.00000000'}, {'symbol': 'NEOETH', 'price': '0.00477500'}, {'symbol': 'IOTABTC', 'price': '0.00000236'}, {'symbol': 'IOTAETH', 'price': '0.00009802'}, {'symbol': 'LINKBTC', 'price': '0.00015920'}, {'symbol': 'LINKETH', 'price': '0.00661800'}, {'symbol': 'XVGBTC', 'price': '0.00000000'}, {'symbol': 'XVGETH', 'price': '0.00000243'}, {'symbol': 'SALTBTC', 'price': '0.00000000'}, {'symbol': 'SALTETH', 'price': '0.00000000'}, {'symbol': 'MDABTC', 'price': '0.00000000'}, {'symbol': 'MDAETH', 'price': '0.00000000'}, {'symbol': 'MTLBTC', 'price': '0.00000868'}, {'symbol': 'MTLETH', 'price': '0.00068340'}, {'symbol': 'SUBBTC', 'price': '0.00000000'}, {'symbol': 'SUBETH', 'price': '0.00000000'}, {'symbol': 'EOSBTC', 'price': '0.00000875'}, {'symbol': 'SNTBTC', 'price': '0.00000032'}, {'symbol': 'ETCETH', 'price': '0.00791000'}, {'symbol': 'ETCBTC', 'price': '0.00019030'}, {'symbol': 'MTHBTC', 'price': '0.00000000'}, {'symbol': 'MTHETH', 'price': '0.00000000'}, {'symbol': 'ENGBTC', 'price': '0.00000000'}, {'symbol': 'ENGETH', 'price': '0.00000000'}, {'symbol': 'DNTBTC', 'price': '0.00000186'}, {'symbol': 'ZECBTC', 'price': '0.00040310'}, {'symbol': 'ZECETH', 'price': '0.01688000'}, {'symbol': 'BNTBTC', 'price': '0.00000794'}, {'symbol': 'ASTBTC', 'price': '0.00000124'}, {'symbol': 'ASTETH', 'price': '0.00000000'}, {'symbol': 'DASHBTC', 'price': '0.00023360'}, {'symbol': 'DASHETH', 'price': '0.00984000'}, {'symbol': 'OAXBTC', 'price': '0.00000038'}, {'symbol': 'ICNBTC', 'price': '0.00000000'}, {'symbol': 'BTGBTC', 'price': '0.00091300'}, {'symbol': 'BTGETH', 'price': '0.00000000'}, {'symbol': 'EVXBTC', 'price': '0.00000000'}, {'symbol': 'EVXETH', 'price': '0.00000000'}, {'symbol': 'REQBTC', 'price': '0.00000144'}, {'symbol': 'REQETH', 'price': '0.00000000'}, {'symbol': 'VIBBTC', 'price': '0.00000051'}, {'symbol': 'VIBETH', 'price': '0.00003450'}, {'symbol': 'HSRETH', 'price': '0.00000000'}, {'symbol': 'TRXBTC', 'price': '0.00000251'}, {'symbol': 'TRXETH', 'price': '0.00010437'}, {'symbol': 'POWRBTC', 'price': '0.00000191'}, {'symbol': 'POWRETH', 'price': '0.00007960'}, {'symbol': 'ARKBTC', 'price': '0.00001679'}, {'symbol': 'ARKETH', 'price': '0.00000000'}, {'symbol': 'YOYOETH', 'price': '0.00000000'}, {'symbol': 'XRPBTC', 'price': '0.00002274'}, {'symbol': 'XRPETH', 'price': '0.00094470'}, {'symbol': 'MODBTC', 'price': '0.00000000'}, {'symbol': 'MODETH', 'price': '0.00000000'}, {'symbol': 'ENJBTC', 'price': '0.00000091'}, {'symbol': 'ENJETH', 'price': '0.00006172'}, {'symbol': 'STORJBTC', 'price': '0.00000318'}, {'symbol': 'STORJETH', 'price': '0.00000000'}, {'symbol': 'BNBUSDT', 'price': '657.12000000'}, {'symbol': 'VENBNB', 'price': '0.00000000'}, {'symbol': 'YOYOBNB', 'price': '0.00000000'}, {'symbol': 'POWRBNB', 'price': '0.00000000'}, {'symbol': 'VENBTC', 'price': '0.00000000'}, {'symbol': 'VENETH', 'price': '0.00000000'}, {'symbol': 'KMDBTC', 'price': '0.00000157'}, {'symbol': 'KMDETH', 'price': '0.00000000'}, {'symbol': 'NULSBNB', 'price': '0.00000000'}, {'symbol': 'RCNBTC', 'price': '0.00000000'}, {'symbol': 'RCNETH', 'price': '0.00000000'}, {'symbol': 'RCNBNB', 'price': '0.00000000'}, {'symbol': 'NULSBTC', 'price': '0.00000030'}, {'symbol': 'NULSETH', 'price': '0.00000000'}, {'symbol': 'RDNBTC', 'price': '0.00000000'}, {'symbol': 'RDNETH', 'price': '0.00000000'}, {'symbol': 'RDNBNB', 'price': '0.00000000'}, {'symbol': 'XMRBTC', 'price': '0.00228700'}, {'symbol': 'XMRETH', 'price': '0.04032000'}, {'symbol': 'DLTBNB', 'price': '0.00000000'}, {'symbol': 'WTCBNB', 'price': '0.00000000'}, {'symbol': 'DLTBTC', 'price': '0.00000000'}, {'symbol': 'DLTETH', 'price': '0.00000000'}, {'symbol': 'AMBBTC', 'price': '0.00000010'}, {'symbol': 'AMBETH', 'price': '0.00000000'}, {'symbol': 'AMBBNB', 'price': '0.00000000'}, {'symbol': 'BCCETH', 'price': '0.00000000'}, {'symbol': 'BCCUSDT', 'price': '0.00000000'}, {'symbol': 'BCCBNB', 'price': '0.00000000'}, {'symbol': 'BATBTC', 'price': '0.00000156'}, {'symbol': 'BATETH', 'price': '0.00010630'}, {'symbol': 'BATBNB', 'price': '0.00000000'}, {'symbol': 'BCPTBTC', 'price': '0.00000000'}, {'symbol': 'BCPTETH', 'price': '0.00000000'}, {'symbol': 'BCPTBNB', 'price': '0.00000000'}, {'symbol': 'ARNBTC', 'price': '0.00000000'}, {'symbol': 'ARNETH', 'price': '0.00000000'}, {'symbol': 'GVTBTC', 'price': '0.00000000'}, {'symbol': 'GVTETH', 'price': '0.00000000'}, {'symbol': 'CDTBTC', 'price': '0.00000000'}, {'symbol': 'CDTETH', 'price': '0.00000000'}, {'symbol': 'GXSBTC', 'price': '0.00000000'}, {'symbol': 'GXSETH', 'price': '0.00000000'}, {'symbol': 'NEOUSDT', 'price': '6.98000000'}, {'symbol': 'NEOBNB', 'price': '0.03836000'}, {'symbol': 'POEBTC', 'price': '0.00000000'}, {'symbol': 'POEETH', 'price': '0.00000000'}, {'symbol': 'QSPBTC', 'price': '0.00000000'}, {'symbol': 'QSPETH', 'price': '0.00000000'}, {'symbol': 'QSPBNB', 'price': '0.00000000'}, {'symbol': 'BTSBTC', 'price': '0.00000043'}, {'symbol': 'BTSETH', 'price': '0.00000000'}, {'symbol': 'BTSBNB', 'price': '0.00000000'}, {'symbol': 'XZCBTC', 'price': '0.00000000'}, {'symbol': 'XZCETH', 'price': '0.00000000'}, {'symbol': 'XZCBNB', 'price': '0.00000000'}, {'symbol': 'LSKBTC', 'price': '0.00000543'}, {'symbol': 'LSKETH', 'price': '0.00033730'}, {'symbol': 'LSKBNB', 'price': '0.00000000'}, {'symbol': 'TNTBTC', 'price': '0.00000000'}, {'symbol': 'TNTETH', 'price': '0.00000000'}, {'symbol': 'FUELBTC', 'price': '0.00000000'}, {'symbol': 'FUELETH', 'price': '0.00000000'}, {'symbol': 'MANABTC', 'price': '0.00000351'}, {'symbol': 'MANAETH', 'price': '0.00014640'}, {'symbol': 'BCDBTC', 'price': '0.00000000'}, {'symbol': 'BCDETH', 'price': '0.00000000'}, {'symbol': 'DGDBTC', 'price': '0.00000000'}, {'symbol': 'DGDETH', 'price': '0.00000000'}, {'symbol': 'IOTABNB', 'price': '0.00071700'}, {'symbol': 'ADXBTC', 'price': '0.00000109'}, {'symbol': 'ADXETH', 'price': '0.00004547'}, {'symbol': 'ADXBNB', 'price': '0.00000000'}, {'symbol': 'ADABTC', 'price': '0.00000766'}, {'symbol': 'ADAETH', 'price': '0.00031870'}, {'symbol': 'PPTBTC', 'price': '0.00000000'}, {'symbol': 'PPTETH', 'price': '0.00000000'}, {'symbol': 'CMTBTC', 'price': '0.00000000'}, {'symbol': 'CMTETH', 'price': '0.00000000'}, {'symbol': 'CMTBNB', 'price': '0.00000000'}, {'symbol': 'XLMBTC', 'price': '0.00000292'}, {'symbol': 'XLMETH', 'price': '0.00012177'}, {'symbol': 'XLMBNB', 'price': '0.00030360'}, {'symbol': 'CNDBTC', 'price': '0.00000000'}, {'symbol': 'CNDETH', 'price': '0.00000000'}, {'symbol': 'CNDBNB', 'price': '0.00000000'}, {'symbol': 'LENDBTC', 'price': '0.00000000'}, {'symbol': 'LENDETH', 'price': '0.00000000'}, {'symbol': 'WABIBTC', 'price': '0.00000030'}, {'symbol': 'WABIETH', 'price': '0.00000000'}, {'symbol': 'WABIBNB', 'price': '0.00000000'}, {'symbol': 'LTCETH', 'price': '0.04033000'}, {'symbol': 'LTCUSDT', 'price': '101.18000000'}, {'symbol': 'LTCBNB', 'price': '0.15390000'}, {'symbol': 'TNBBTC', 'price': '0.00000000'}, {'symbol': 'TNBETH', 'price': '0.00000000'}, {'symbol': 'WAVESBTC', 'price': '0.00001626'}, {'symbol': 'WAVESETH', 'price': '0.00029800'}, {'symbol': 'WAVESBNB', 'price': '0.00513000'}, {'symbol': 'GTOBTC', 'price': '0.00000077'}, {'symbol': 'GTOETH', 'price': '0.00000000'}, {'symbol': 'GTOBNB', 'price': '0.00000000'}, {'symbol': 'ICXBTC', 'price': '0.00000104'}, {'symbol': 'ICXETH', 'price': '0.00011790'}, {'symbol': 'ICXBNB', 'price': '0.00000000'}, {'symbol': 'OSTBTC', 'price': '0.00000000'}, {'symbol': 'OSTETH', 'price': '0.00000000'}, {'symbol': 'OSTBNB', 'price': '0.00000000'}, {'symbol': 'ELFBTC', 'price': '0.00000274'}, {'symbol': 'ELFETH', 'price': '0.00014330'}, {'symbol': 'AIONBTC', 'price': '0.00000139'}, {'symbol': 'AIONETH', 'price': '0.00000000'}, {'symbol': 'AIONBNB', 'price': '0.00000000'}, {'symbol': 'NEBLBTC', 'price': '0.00001200'}, {'symbol': 'NEBLBNB', 'price': '0.00000000'}, {'symbol': 'BRDBTC', 'price': '0.00000000'}, {'symbol': 'BRDETH', 'price': '0.00000000'}, {'symbol': 'BRDBNB', 'price': '0.00000000'}, {'symbol': 'MCOBNB', 'price': '0.00000000'}, {'symbol': 'EDOBTC', 'price': '0.00000000'}, {'symbol': 'EDOETH', 'price': '0.00000000'}, {'symbol': 'WINGSBTC', 'price': '0.00000000'}, {'symbol': 'WINGSETH', 'price': '0.00000000'}, {'symbol': 'NAVBTC', 'price': '0.00000000'}, {'symbol': 'NAVETH', 'price': '0.00000000'}, {'symbol': 'NAVBNB', 'price': '0.00000000'}, {'symbol': 'LUNBTC', 'price': '0.00000000'}, {'symbol': 'LUNETH', 'price': '0.00000000'}, {'symbol': 'TRIGBTC', 'price': '0.00000000'}, {'symbol': 'TRIGETH', 'price': '0.00000000'}, {'symbol': 'TRIGBNB', 'price': '0.00000000'}, {'symbol': 'APPCBTC', 'price': '0.00000000'}, {'symbol': 'APPCETH', 'price': '0.00000000'}, {'symbol': 'APPCBNB', 'price': '0.00000000'}, {'symbol': 'VIBEBTC', 'price': '0.00000000'}, {'symbol': 'VIBEETH', 'price': '0.00000000'}, {'symbol': 'RLCBTC', 'price': '0.00001284'}, {'symbol': 'RLCETH', 'price': '0.00053660'}, {'symbol': 'RLCBNB', 'price': '0.00000000'}, {'symbol': 'INSBTC', 'price': '0.00000000'}, {'symbol': 'INSETH', 'price': '0.00000000'}, {'symbol': 'PIVXBTC', 'price': '0.00000171'}, {'symbol': 'PIVXBNB', 'price': '0.00000000'}, {'symbol': 'IOSTBTC', 'price': '0.00000010'}, {'symbol': 'IOSTETH', 'price': '0.00000372'}, {'symbol': 'CHATBTC', 'price': '0.00000000'}, {'symbol': 'CHATETH', 'price': '0.00000000'}, {'symbol': 'STEEMBTC', 'price': '0.00000152'}, {'symbol': 'STEEMETH', 'price': '0.00006360'}, {'symbol': 'STEEMBNB', 'price': '0.00000000'}, {'symbol': 'NANOBTC', 'price': '0.00000000'}, {'symbol': 'NANOETH', 'price': '0.00000000'}, {'symbol': 'NANOBNB', 'price': '0.00000000'}, {'symbol': 'VIABTC', 'price': '0.00000000'}, {'symbol': 'VIAETH', 'price': '0.00000000'}, {'symbol': 'VIABNB', 'price': '0.00000000'}, {'symbol': 'BLZBTC', 'price': '0.00000060'}, {'symbol': 'BLZETH', 'price': '0.00004159'}, {'symbol': 'BLZBNB', 'price': '0.00000000'}, {'symbol': 'AEBTC', 'price': '0.00000000'}, {'symbol': 'AEETH', 'price': '0.00000000'}, {'symbol': 'AEBNB', 'price': '0.00000000'}, {'symbol': 'RPXBTC', 'price': '0.00000000'}, {'symbol': 'RPXETH', 'price': '0.00000000'}, {'symbol': 'RPXBNB', 'price': '0.00000000'}, {'symbol': 'NCASHBTC', 'price': '0.00000000'}, {'symbol': 'NCASHETH', 'price': '0.00000000'}, {'symbol': 'NCASHBNB', 'price': '0.00000000'}, {'symbol': 'POABTC', 'price': '0.00000000'}, {'symbol': 'POAETH', 'price': '0.00000000'}, {'symbol': 'POABNB', 'price': '0.00000000'}, {'symbol': 'ZILBTC', 'price': '0.00000014'}, {'symbol': 'ZILETH', 'price': '0.00000580'}, {'symbol': 'ZILBNB', 'price': '0.00008858'}, {'symbol': 'ONTBTC', 'price': '0.00000162'}, {'symbol': 'ONTETH', 'price': '0.00012530'}, {'symbol': 'ONTBNB', 'price': '0.00000000'}, {'symbol': 'STORMBTC', 'price': '0.00000000'}, {'symbol': 'STORMETH', 'price': '0.00000000'}, {'symbol': 'STORMBNB', 'price': '0.00000000'}, {'symbol': 'QTUMBNB', 'price': '0.00000000'}, {'symbol': 'QTUMUSDT', 'price': '2.51700000'}, {'symbol': 'XEMBTC', 'price': '0.00000192'}, {'symbol': 'XEMETH', 'price': '0.00000000'}, {'symbol': 'XEMBNB', 'price': '0.00000000'}, {'symbol': 'WANBTC', 'price': '0.00000124'}, {'symbol': 'WANETH', 'price': '0.00009270'}, {'symbol': 'WANBNB', 'price': '0.00000000'}, {'symbol': 'WPRBTC', 'price': '0.00000000'}, {'symbol': 'WPRETH', 'price': '0.00000000'}, {'symbol': 'QLCBTC', 'price': '0.00000021'}, {'symbol': 'QLCETH', 'price': '0.00000000'}, {'symbol': 'SYSBTC', 'price': '0.00000060'}, {'symbol': 'SYSETH', 'price': '0.00000000'}, {'symbol': 'SYSBNB', 'price': '0.00000000'}, {'symbol': 'QLCBNB', 'price': '0.00000000'}, {'symbol': 'GRSBTC', 'price': '0.00000000'}, {'symbol': 'GRSETH', 'price': '0.00000000'}, {'symbol': 'ADAUSDT', 'price': '0.79890000'}, {'symbol': 'ADABNB', 'price': '0.00121500'}, {'symbol': 'CLOAKBTC', 'price': '0.00000000'}, {'symbol': 'CLOAKETH', 'price': '0.00000000'}, {'symbol': 'GNTBTC', 'price': '0.00000000'}, {'symbol': 'GNTETH', 'price': '0.00000000'}, {'symbol': 'GNTBNB', 'price': '0.00000000'}, {'symbol': 'LOOMBTC', 'price': '0.00000075'}, {'symbol': 'LOOMETH', 'price': '0.00003231'}, {'symbol': 'LOOMBNB', 'price': '0.00000000'}, {'symbol': 'XRPUSDT', 'price': '2.36950000'}, {'symbol': 'BCNBTC', 'price': '0.00000000'}, {'symbol': 'BCNETH', 'price': '0.00000000'}, {'symbol': 'BCNBNB', 'price': '0.00000000'}, {'symbol': 'REPBTC', 'price': '0.00034130'}, {'symbol': 'REPBNB', 'price': '0.00000000'}, {'symbol': 'BTCTUSD', 'price': '104354.52000000'}, {'symbol': 'TUSDBTC', 'price': '0.00000000'}, {'symbol': 'ETHTUSD', 'price': '2512.30000000'}, {'symbol': 'TUSDETH', 'price': '0.00000000'}, {'symbol': 'TUSDBNB', 'price': '0.00000000'}, {'symbol': 'ZENBTC', 'price': '0.00010120'}, {'symbol': 'ZENETH', 'price': '0.00399100'}, {'symbol': 'ZENBNB', 'price': '0.03290000'}, {'symbol': 'SKYBTC', 'price': '0.00000000'}, {'symbol': 'SKYETH', 'price': '0.00000000'}, {'symbol': 'SKYBNB', 'price': '0.00000000'}, {'symbol': 'EOSUSDT', 'price': '0.91180000'}, {'symbol': 'EOSBNB', 'price': '0.00258300'}, {'symbol': 'CVCBTC', 'price': '0.00000566'}, {'symbol': 'CVCETH', 'price': '0.00000000'}, {'symbol': 'CVCBNB', 'price': '0.00000000'}, {'symbol': 'THETABTC', 'price': '0.00000975'}, {'symbol': 'THETAETH', 'price': '0.00050170'}, {'symbol': 'THETABNB', 'price': '0.00273600'}, {'symbol': 'XRPBNB', 'price': '0.00360560'}, {'symbol': 'TUSDUSDT', 'price': '0.99820000'}, {'symbol': 'IOTAUSDT', 'price': '0.24600000'}, {'symbol': 'XLMUSDT', 'price': '0.30520000'}, {'symbol': 'IOTXBTC', 'price': '0.00000020'}, {'symbol': 'IOTXETH', 'price': '0.00000845'}, {'symbol': 'QKCBTC', 'price': '0.00000010'}, {'symbol': 'QKCETH', 'price': '0.00000430'}, {'symbol': 'AGIBTC', 'price': '0.00000000'}, {'symbol': 'AGIETH', 'price': '0.00000000'}, {'symbol': 'AGIBNB', 'price': '0.00000000'}, {'symbol': 'NXSBTC', 'price': '0.00000000'}, {'symbol': 'NXSETH', 'price': '0.00000000'}, {'symbol': 'NXSBNB', 'price': '0.00000000'}, {'symbol': 'ENJBNB', 'price': '0.00136800'}, {'symbol': 'DATABTC', 'price': '0.00000018'}, {'symbol': 'DATAETH', 'price': '0.00002034'}, {'symbol': 'ONTUSDT', 'price': '0.16920000'}, {'symbol': 'TRXBNB', 'price': '0.00039870'}, {'symbol': 'TRXUSDT', 'price': '0.26170000'}, {'symbol': 'ETCUSDT', 'price': '19.82000000'}, {'symbol': 'ETCBNB', 'price': '0.02998000'}, {'symbol': 'ICXUSDT', 'price': '0.10900000'}, {'symbol': 'SCBTC', 'price': '0.00000000'}, {'symbol': 'SCETH', 'price': '0.00000147'}, {'symbol': 'NPXSBTC', 'price': '0.00000000'}, {'symbol': 'NPXSETH', 'price': '0.00000000'}, {'symbol': 'VENUSDT', 'price': '0.00000000'}, {'symbol': 'KEYBTC', 'price': '0.00000000'}, {'symbol': 'KEYETH', 'price': '0.00000227'}, {'symbol': 'NASBTC', 'price': '0.00000000'}, {'symbol': 'NASETH', 'price': '0.00000000'}, {'symbol': 'NASBNB', 'price': '0.00000000'}, {'symbol': 'MFTBTC', 'price': '0.00000000'}, {'symbol': 'MFTETH', 'price': '0.00000433'}, {'symbol': 'MFTBNB', 'price': '0.00000000'}, {'symbol': 'DENTBTC', 'price': '0.00000000'}, {'symbol': 'DENTETH', 'price': '0.00000038'}, {'symbol': 'ARDRBTC', 'price': '0.00000100'}, {'symbol': 'ARDRETH', 'price': '0.00000000'}, {'symbol': 'ARDRBNB', 'price': '0.00000000'}, {'symbol': 'NULSUSDT', 'price': '0.02580000'}, {'symbol': 'HOTBTC', 'price': '0.00000000'}, {'symbol': 'HOTETH', 'price': '0.00000048'}, {'symbol': 'VETBTC', 'price': '0.00000029'}, {'symbol': 'VETETH', 'price': '0.00001232'}, {'symbol': 'VETUSDT', 'price': '0.03091000'}, {'symbol': 'VETBNB', 'price': '0.00004704'}, {'symbol': 'DOCKBTC', 'price': '0.00000005'}, {'symbol': 'DOCKETH', 'price': '0.00000000'}, {'symbol': 'POLYBTC', 'price': '0.00001384'}, {'symbol': 'POLYBNB', 'price': '0.00000000'}, {'symbol': 'PHXBTC', 'price': '0.00000000'}, {'symbol': 'PHXETH', 'price': '0.00000000'}, {'symbol': 'PHXBNB', 'price': '0.00000000'}, {'symbol': 'HCBTC', 'price': '0.00000000'}, {'symbol': 'HCETH', 'price': '0.00000000'}, {'symbol': 'GOBTC', 'price': '0.00000000'}, {'symbol': 'GOBNB', 'price': '0.00000000'}, {'symbol': 'PAXBTC', 'price': '0.00000000'}, {'symbol': 'PAXBNB', 'price': '0.00000000'}, {'symbol': 'PAXUSDT', 'price': '0.00000000'}, {'symbol': 'PAXETH', 'price': '0.00000000'}, {'symbol': 'RVNBTC', 'price': '0.00000012'}, {'symbol': 'DCRBTC', 'price': '0.00021850'}, {'symbol': 'DCRBNB', 'price': '0.00000000'}, {'symbol': 'USDCBNB', 'price': '0.00000000'}, {'symbol': 'MITHBTC', 'price': '0.00000080'}, {'symbol': 'MITHBNB', 'price': '0.00004410'}, {'symbol': 'BCHABCBTC', 'price': '0.00000000'}, {'symbol': 'BCHSVBTC', 'price': '0.00000000'}, {'symbol': 'BCHABCUSDT', 'price': '0.00000000'}, {'symbol': 'BCHSVUSDT', 'price': '0.00000000'}, {'symbol': 'BNBPAX', 'price': '0.00000000'}, {'symbol': 'BTCPAX', 'price': '0.00000000'}, {'symbol': 'ETHPAX', 'price': '0.00000000'}, {'symbol': 'XRPPAX', 'price': '0.00000000'}, {'symbol': 'EOSPAX', 'price': '0.00000000'}, {'symbol': 'XLMPAX', 'price': '0.00000000'}, {'symbol': 'RENBTC', 'price': '0.00000043'}, {'symbol': 'RENBNB', 'price': '0.00000000'}, {'symbol': 'BNBTUSD', 'price': '656.82000000'}, {'symbol': 'XRPTUSD', 'price': '2.36770000'}, {'symbol': 'EOSTUSD', 'price': '0.00000000'}, {'symbol': 'XLMTUSD', 'price': '0.00000000'}, {'symbol': 'BNBUSDC', 'price': '657.14000000'}, {'symbol': 'BTCUSDC', 'price': '104194.01000000'}, {'symbol': 'ETHUSDC', 'price': '2507.09000000'}, {'symbol': 'XRPUSDC', 'price': '2.37010000'}, {'symbol': 'EOSUSDC', 'price': '0.91210000'}, {'symbol': 'XLMUSDC', 'price': '0.30520000'}, {'symbol': 'USDCUSDT', 'price': '0.99980000'}, {'symbol': 'ADATUSD', 'price': '0.38470000'}, {'symbol': 'TRXTUSD', 'price': '0.05986000'}, {'symbol': 'NEOTUSD', 'price': '0.00000000'}, {'symbol': 'TRXXRP', 'price': '0.11050000'}, {'symbol': 'XZCXRP', 'price': '0.00000000'}, {'symbol': 'PAXTUSD', 'price': '0.00000000'}, {'symbol': 'USDCTUSD', 'price': '0.00000000'}, {'symbol': 'USDCPAX', 'price': '0.00000000'}, {'symbol': 'LINKUSDT', 'price': '16.58000000'}, {'symbol': 'LINKTUSD', 'price': '14.42300000'}, {'symbol': 'LINKPAX', 'price': '0.00000000'}, {'symbol': 'LINKUSDC', 'price': '16.59000000'}, {'symbol': 'WAVESUSDT', 'price': '1.07600000'}, {'symbol': 'WAVESTUSD', 'price': '0.00000000'}, {'symbol': 'WAVESPAX', 'price': '0.00000000'}, {'symbol': 'WAVESUSDC', 'price': '0.00000000'}, {'symbol': 'BCHABCTUSD', 'price': '0.00000000'}, {'symbol': 'BCHABCPAX', 'price': '0.00000000'}, {'symbol': 'BCHABCUSDC', 'price': '0.00000000'}, {'symbol': 'BCHSVTUSD', 'price': '0.00000000'}, {'symbol': 'BCHSVPAX', 'price': '0.00000000'}, {'symbol': 'BCHSVUSDC', 'price': '0.00000000'}, {'symbol': 'LTCTUSD', 'price': '83.07000000'}, {'symbol': 'LTCPAX', 'price': '0.00000000'}, {'symbol': 'LTCUSDC', 'price': '101.21000000'}, {'symbol': 'TRXPAX', 'price': '0.00000000'}, {'symbol': 'TRXUSDC', 'price': '0.26180000'}, {'symbol': 'BTTBTC', 'price': '0.00000000'}, {'symbol': 'BTTBNB', 'price': '0.00000000'}, {'symbol': 'BTTUSDT', 'price': '0.00000000'}, {'symbol': 'BNBUSDS', 'price': '0.00000000'}, {'symbol': 'BTCUSDS', 'price': '0.00000000'}, {'symbol': 'USDSUSDT', 'price': '0.00000000'}, {'symbol': 'USDSPAX', 'price': '0.00000000'}, {'symbol': 'USDSTUSD', 'price': '0.00000000'}, {'symbol': 'USDSUSDC', 'price': '0.00000000'}, {'symbol': 'BTTPAX', 'price': '0.00000000'}, {'symbol': 'BTTTUSD', 'price': '0.00000000'}, {'symbol': 'BTTUSDC', 'price': '0.00000000'}, {'symbol': 'ONGBNB', 'price': '0.00000000'}, {'symbol': 'ONGBTC', 'price': '0.00000220'}, {'symbol': 'ONGUSDT', 'price': '0.22840000'}, {'symbol': 'HOTBNB', 'price': '0.00000000'}, {'symbol': 'HOTUSDT', 'price': '0.00117600'}, {'symbol': 'ZILUSDT', 'price': '0.01453000'}, {'symbol': 'ZRXBNB', 'price': '0.00000000'}, {'symbol': 'ZRXUSDT', 'price': '0.29720000'}, {'symbol': 'FETBNB', 'price': '0.00130200'}, {'symbol': 'FETBTC', 'price': '0.00000821'}, {'symbol': 'FETUSDT', 'price': '0.85900000'}, {'symbol': 'BATUSDT', 'price': '0.16270000'}, {'symbol': 'XMRBNB', 'price': '0.33210000'}, {'symbol': 'XMRUSDT', 'price': '118.70000000'}, {'symbol': 'ZECBNB', 'price': '0.10260000'}, {'symbol': 'ZECUSDT', 'price': '42.03000000'}, {'symbol': 'ZECPAX', 'price': '0.00000000'}, {'symbol': 'ZECTUSD', 'price': '0.00000000'}, {'symbol': 'ZECUSDC', 'price': '55.80000000'}, {'symbol': 'IOSTUSDT', 'price': '0.00432700'}, {'symbol': 'CELRBNB', 'price': '0.00005294'}, {'symbol': 'CELRBTC', 'price': '0.00000009'}, {'symbol': 'CELRUSDT', 'price': '0.01147000'}, {'symbol': 'ADAPAX', 'price': '0.00000000'}, {'symbol': 'ADAUSDC', 'price': '0.79910000'}, {'symbol': 'NEOPAX', 'price': '0.00000000'}, {'symbol': 'NEOUSDC', 'price': '6.97000000'}, {'symbol': 'DASHBNB', 'price': '0.11830000'}, {'symbol': 'DASHUSDT', 'price': '24.40000000'}, {'symbol': 'NANOUSDT', 'price': '0.00000000'}, {'symbol': 'OMGBNB', 'price': '0.00000000'}, {'symbol': 'OMGUSDT', 'price': '0.38300000'}, {'symbol': 'THETAUSDT', 'price': '1.01600000'}, {'symbol': 'ENJUSDT', 'price': '0.09550000'}, {'symbol': 'MITHUSDT', 'price': '0.00345000'}, {'symbol': 'MATICBNB', 'price': '0.00073400'}, {'symbol': 'MATICBTC', 'price': '0.00000667'}, {'symbol': 'MATICUSDT', 'price': '0.37940000'}, {'symbol': 'ATOMBNB', 'price': '0.00739000'}, {'symbol': 'ATOMBTC', 'price': '0.00005000'}, {'symbol': 'ATOMUSDT', 'price': '5.21000000'}, {'symbol': 'ATOMUSDC', 'price': '5.21100000'}, {'symbol': 'ATOMPAX', 'price': '0.00000000'}, {'symbol': 'ATOMTUSD', 'price': '0.00000000'}, {'symbol': 'ETCUSDC', 'price': '0.00000000'}, {'symbol': 'ETCPAX', 'price': '0.00000000'}, {'symbol': 'ETCTUSD', 'price': '0.00000000'}, {'symbol': 'BATUSDC', 'price': '0.00000000'}, {'symbol': 'BATPAX', 'price': '0.00000000'}, {'symbol': 'BATTUSD', 'price': '0.00000000'}, {'symbol': 'PHBBNB', 'price': '0.00000000'}, {'symbol': 'PHBBTC', 'price': '0.00000674'}, {'symbol': 'PHBUSDC', 'price': '0.00000000'}, {'symbol': 'PHBTUSD', 'price': '0.00000000'}, {'symbol': 'PHBPAX', 'price': '0.00000000'}, {'symbol': 'TFUELBNB', 'price': '0.00000000'}, {'symbol': 'TFUELBTC', 'price': '0.00000039'}, {'symbol': 'TFUELUSDT', 'price': '0.04093000'}, {'symbol': 'TFUELUSDC', 'price': '0.00000000'}, {'symbol': 'TFUELTUSD', 'price': '0.00000000'}, {'symbol': 'TFUELPAX', 'price': '0.00000000'}, {'symbol': 'ONEBNB', 'price': '0.00004537'}, {'symbol': 'ONEBTC', 'price': '0.00000015'}, {'symbol': 'ONEUSDT', 'price': '0.01584000'}, {'symbol': 'ONETUSD', 'price': '0.00000000'}, {'symbol': 'ONEPAX', 'price': '0.00000000'}, {'symbol': 'ONEUSDC', 'price': '0.00000000'}, {'symbol': 'FTMBNB', 'price': '0.00101440'}, {'symbol': 'FTMBTC', 'price': '0.00000743'}, {'symbol': 'FTMUSDT', 'price': '0.69940000'}, {'symbol': 'FTMTUSD', 'price': '0.00000000'}, {'symbol': 'FTMPAX', 'price': '0.00000000'}, {'symbol': 'FTMUSDC', 'price': '0.69860000'}, {'symbol': 'BTCBBTC', 'price': '0.00000000'}, {'symbol': 'BCPTTUSD', 'price': '0.00000000'}, {'symbol': 'BCPTPAX', 'price': '0.00000000'}, {'symbol': 'BCPTUSDC', 'price': '0.00000000'}, {'symbol': 'ALGOBNB', 'price': '0.00058250'}, {'symbol': 'ALGOBTC', 'price': '0.00000233'}, {'symbol': 'ALGOUSDT', 'price': '0.24210000'}, {'symbol': 'ALGOTUSD', 'price': '0.00000000'}, {'symbol': 'ALGOPAX', 'price': '0.00000000'}, {'symbol': 'ALGOUSDC', 'price': '0.24210000'}, {'symbol': 'USDSBUSDT', 'price': '0.00000000'}, {'symbol': 'USDSBUSDS', 'price': '0.00000000'}, {'symbol': 'GTOUSDT', 'price': '0.01233000'}, {'symbol': 'GTOPAX', 'price': '0.00000000'}, {'symbol': 'GTOTUSD', 'price': '0.00000000'}, {'symbol': 'GTOUSDC', 'price': '0.00000000'}, {'symbol': 'ERDBNB', 'price': '0.00000000'}, {'symbol': 'ERDBTC', 'price': '0.00000000'}, {'symbol': 'ERDUSDT', 'price': '0.00000000'}, {'symbol': 'ERDPAX', 'price': '0.00000000'}, {'symbol': 'ERDUSDC', 'price': '0.00000000'}, {'symbol': 'DOGEBNB', 'price': '0.00000000'}, {'symbol': 'DOGEBTC', 'price': '0.00000224'}, {'symbol': 'DOGEUSDT', 'price': '0.23363000'}, {'symbol': 'DOGEPAX', 'price': '0.00000000'}, {'symbol': 'DOGEUSDC', 'price': '0.23366000'}, {'symbol': 'DUSKBNB', 'price': '0.00000000'}, {'symbol': 'DUSKBTC', 'price': '0.00000096'}, {'symbol': 'DUSKUSDT', 'price': '0.09910000'}, {'symbol': 'DUSKUSDC', 'price': '0.00000000'}, {'symbol': 'DUSKPAX', 'price': '0.00000000'}, {'symbol': 'BGBPUSDC', 'price': '0.00000000'}, {'symbol': 'ANKRBNB', 'price': '0.00008560'}, {'symbol': 'ANKRBTC', 'price': '0.00000020'}, {'symbol': 'ANKRUSDT', 'price': '0.02137000'}, {'symbol': 'ANKRTUSD', 'price': '0.00000000'}, {'symbol': 'ANKRPAX', 'price': '0.00000000'}, {'symbol': 'ANKRUSDC', 'price': '0.00000000'}, {'symbol': 'ONTPAX', 'price': '0.00000000'}, {'symbol': 'ONTUSDC', 'price': '0.16870000'}, {'symbol': 'WINBNB', 'price': '0.00000010'}, {'symbol': 'WINBTC', 'price': '0.00000000'}, {'symbol': 'WINUSDT', 'price': '0.00006132'}, {'symbol': 'WINUSDC', 'price': '0.00009730'}, {'symbol': 'COSBNB', 'price': '0.00002678'}, {'symbol': 'COSBTC', 'price': '0.00000008'}, {'symbol': 'COSUSDT', 'price': '0.00409600'}, {'symbol': 'TUSDBTUSD', 'price': '0.00000000'}, {'symbol': 'NPXSUSDT', 'price': '0.00000000'}, {'symbol': 'NPXSUSDC', 'price': '0.00000000'}, {'symbol': 'COCOSBNB', 'price': '0.00559000'}, {'symbol': 'COCOSBTC', 'price': '0.00000000'}, {'symbol': 'COCOSUSDT', 'price': '1.75460000'}, {'symbol': 'MTLUSDT', 'price': '0.90900000'}, {'symbol': 'TOMOBNB', 'price': '0.00000000'}, {'symbol': 'TOMOBTC', 'price': '0.00003699'}, {'symbol': 'TOMOUSDT', 'price': '1.38190000'}, {'symbol': 'TOMOUSDC', 'price': '0.00000000'}, {'symbol': 'PERLBNB', 'price': '0.00000000'}, {'symbol': 'PERLBTC', 'price': '0.00000113'}, {'symbol': 'PERLUSDC', 'price': '0.00000000'}, {'symbol': 'PERLUSDT', 'price': '0.00460000'}, {'symbol': 'DENTUSDT', 'price': '0.00096700'}, {'symbol': 'MFTUSDT', 'price': '0.00525400'}, {'symbol': 'KEYUSDT', 'price': '0.00125300'}, {'symbol': 'STORMUSDT', 'price': '0.00000000'}, {'symbol': 'DOCKUSDT', 'price': '0.00390000'}, {'symbol': 'WANUSDT', 'price': '0.13000000'}, {'symbol': 'FUNUSDT', 'price': '0.00510600'}, {'symbol': 'CVCUSDT', 'price': '0.11530000'}, {'symbol': 'BTTTRX', 'price': '0.00000000'}, {'symbol': 'WINTRX', 'price': '0.00023420'}, {'symbol': 'CHZBNB', 'price': '0.00007270'}, {'symbol': 'CHZBTC', 'price': '0.00000045'}, {'symbol': 'CHZUSDT', 'price': '0.04790000'}, {'symbol': 'BANDBNB', 'price': '0.00000000'}, {'symbol': 'BANDBTC', 'price': '0.00000898'}, {'symbol': 'BANDUSDT', 'price': '0.93900000'}, {'symbol': 'BNBBUSD', 'price': '251.80000000'}, {'symbol': 'BTCBUSD', 'price': '42769.40000000'}, {'symbol': 'BUSDUSDT', 'price': '1.00030000'}, {'symbol': 'BEAMBNB', 'price': '0.00000000'}, {'symbol': 'BEAMBTC', 'price': '0.00000716'}, {'symbol': 'BEAMUSDT', 'price': '0.06520000'}, {'symbol': 'XTZBNB', 'price': '0.00288300'}, {'symbol': 'XTZBTC', 'price': '0.00000635'}, {'symbol': 'XTZUSDT', 'price': '0.66200000'}, {'symbol': 'RENUSDT', 'price': '0.04274000'}, {'symbol': 'RVNUSDT', 'price': '0.01327000'}, {'symbol': 'HCUSDT', 'price': '0.00000000'}, {'symbol': 'HBARBNB', 'price': '0.00031529'}, {'symbol': 'HBARBTC', 'price': '0.00000199'}, {'symbol': 'HBARUSDT', 'price': '0.20722000'}, {'symbol': 'NKNBNB', 'price': '0.00000000'}, {'symbol': 'NKNBTC', 'price': '0.00000040'}, {'symbol': 'NKNUSDT', 'price': '0.04170000'}, {'symbol': 'XRPBUSD', 'price': '0.63450000'}, {'symbol': 'ETHBUSD', 'price': '2281.12000000'}, {'symbol': 'BCHABCBUSD', 'price': '0.00000000'}, {'symbol': 'LTCBUSD', 'price': '72.37000000'}, {'symbol': 'LINKBUSD', 'price': '14.07100000'}, {'symbol': 'ETCBUSD', 'price': '19.03000000'}, {'symbol': 'STXBNB', 'price': '0.00151200'}, {'symbol': 'STXBTC', 'price': '0.00000963'}, {'symbol': 'STXUSDT', 'price': '1.00400000'}, {'symbol': 'KAVABNB', 'price': '0.00276000'}, {'symbol': 'KAVABTC', 'price': '0.00000461'}, {'symbol': 'KAVAUSDT', 'price': '0.48110000'}, {'symbol': 'BUSDNGN', 'price': '0.00000000'}, {'symbol': 'BNBNGN', 'price': '0.00000000'}, {'symbol': 'BTCNGN', 'price': '99822596.00000000'}, {'symbol': 'ARPABNB', 'price': '0.00015470'}, {'symbol': 'ARPABTC', 'price': '0.00000027'}, {'symbol': 'ARPAUSDT', 'price': '0.02785000'}, {'symbol': 'TRXBUSD', 'price': '0.10329000'}, {'symbol': 'EOSBUSD', 'price': '0.63400000'}, {'symbol': 'IOTXUSDT', 'price': '0.02127000'}, {'symbol': 'RLCUSDT', 'price': '1.34000000'}, {'symbol': 'MCOUSDT', 'price': '0.00000000'}, {'symbol': 'XLMBUSD', 'price': '0.11970000'}, {'symbol': 'ADABUSD', 'price': '0.63740000'}, {'symbol': 'CTXCBNB', 'price': '0.00000000'}, {'symbol': 'CTXCBTC', 'price': '0.00000075'}, {'symbol': 'CTXCUSDT', 'price': '0.06340000'}, {'symbol': 'BCHBNB', 'price': '0.62900000'}, {'symbol': 'BCHBTC', 'price': '0.00397100'}, {'symbol': 'BCHUSDT', 'price': '413.90000000'}, {'symbol': 'BCHUSDC', 'price': '414.00000000'}, {'symbol': 'BCHTUSD', 'price': '322.00000000'}, {'symbol': 'BCHPAX', 'price': '0.00000000'}, {'symbol': 'BCHBUSD', 'price': '236.00000000'}, {'symbol': 'BTCRUB', 'price': '3900027.00000000'}, {'symbol': 'ETHRUB', 'price': '181477.60000000'}, {'symbol': 'XRPRUB', 'price': '56.31000000'}, {'symbol': 'BNBRUB', 'price': '22422.22000000'}, {'symbol': 'TROYBNB', 'price': '0.00001060'}, {'symbol': 'TROYBTC', 'price': '0.00000000'}, {'symbol': 'TROYUSDT', 'price': '0.00006900'}, {'symbol': 'BUSDRUB', 'price': '90.39000000'}, {'symbol': 'QTUMBUSD', 'price': '2.53700000'}, {'symbol': 'VETBUSD', 'price': '0.02120000'}, {'symbol': 'VITEBNB', 'price': '0.00000000'}, {'symbol': 'VITEBTC', 'price': '0.00000007'}, {'symbol': 'VITEUSDT', 'price': '0.00086000'}, {'symbol': 'FTTBNB', 'price': '0.00513000'}, {'symbol': 'FTTBTC', 'price': '0.00008560'}, {'symbol': 'FTTUSDT', 'price': '1.16140000'}, {'symbol': 'BTCTRY', 'price': '4022181.00000000'}, {'symbol': 'BNBTRY', 'price': '25369.00000000'}, {'symbol': 'BUSDTRY', 'price': '29.33000000'}, {'symbol': 'ETHTRY', 'price': '96794.00000000'}, {'symbol': 'XRPTRY', 'price': '91.50000000'}, {'symbol': 'USDTTRY', 'price': '38.61000000'}, {'symbol': 'USDTRUB', 'price': '91.10000000'}, {'symbol': 'BTCEUR', 'price': '92481.10000000'}, {'symbol': 'ETHEUR', 'price': '2225.28000000'}, {'symbol': 'BNBEUR', 'price': '583.14000000'}, {'symbol': 'XRPEUR', 'price': '2.10390000'}, {'symbol': 'EURBUSD', 'price': '1.07570000'}, {'symbol': 'EURUSDT', 'price': '1.12680000'}, {'symbol': 'OGNBNB', 'price': '0.00038300'}, {'symbol': 'OGNBTC', 'price': '0.00000071'}, {'symbol': 'OGNUSDT', 'price': '0.07460000'}, {'symbol': 'DREPBNB', 'price': '0.00000000'}, {'symbol': 'DREPBTC', 'price': '0.00000039'}, {'symbol': 'DREPUSDT', 'price': '0.02560000'}, {'symbol': 'BULLUSDT', 'price': '0.00000000'}, {'symbol': 'BULLBUSD', 'price': '0.00000000'}, {'symbol': 'BEARUSDT', 'price': '0.00000000'}, {'symbol': 'BEARBUSD', 'price': '0.00000000'}, {'symbol': 'ETHBULLUSDT', 'price': '0.00000000'}, {'symbol': 'ETHBULLBUSD', 'price': '0.00000000'}, {'symbol': 'ETHBEARUSDT', 'price': '0.00000000'}, {'symbol': 'ETHBEARBUSD', 'price': '0.00000000'}, {'symbol': 'TCTBNB', 'price': '0.00000000'}, {'symbol': 'TCTBTC', 'price': '0.00000016'}, {'symbol': 'TCTUSDT', 'price': '0.00312000'}, {'symbol': 'WRXBNB', 'price': '0.00039800'}, {'symbol': 'WRXBTC', 'price': '0.00000455'}, {'symbol': 'WRXUSDT', 'price': '0.01730000'}, {'symbol': 'ICXBUSD', 'price': '0.16420000'}, {'symbol': 'BTSUSDT', 'price': '0.00540000'}, {'symbol': 'BTSBUSD', 'price': '0.00000000'}, {'symbol': 'LSKUSDT', 'price': '0.56400000'}, {'symbol': 'BNTUSDT', 'price': '0.65410000'}, {'symbol': 'BNTBUSD', 'price': '0.35990000'}, {'symbol': 'LTOBNB', 'price': '0.00000000'}, {'symbol': 'LTOBTC', 'price': '0.00000046'}, {'symbol': 'LTOUSDT', 'price': '0.04780000'}, {'symbol': 'ATOMBUSD', 'price': '11.21900000'}, {'symbol': 'DASHBUSD', 'price': '25.83000000'}, {'symbol': 'NEOBUSD', 'price': '6.73000000'}, {'symbol': 'WAVESBUSD', 'price': '2.21600000'}, {'symbol': 'XTZBUSD', 'price': '0.67100000'}, {'symbol': 'EOSBULLUSDT', 'price': '0.00000000'}, {'symbol': 'EOSBULLBUSD', 'price': '0.00000000'}, {'symbol': 'EOSBEARUSDT', 'price': '0.00000000'}, {'symbol': 'EOSBEARBUSD', 'price': '0.00000000'}, {'symbol': 'XRPBULLUSDT', 'price': '0.00000000'}, {'symbol': 'XRPBULLBUSD', 'price': '0.00000000'}, {'symbol': 'XRPBEARUSDT', 'price': '0.00000000'}, {'symbol': 'XRPBEARBUSD', 'price': '0.00000000'}, {'symbol': 'BATBUSD', 'price': '0.17090000'}, {'symbol': 'ENJBUSD', 'price': '0.26070000'}, {'symbol': 'NANOBUSD', 'price': '0.00000000'}, {'symbol': 'ONTBUSD', 'price': '0.15740000'}, {'symbol': 'RVNBUSD', 'price': '0.01525000'}, {'symbol': 'STRATBUSD', 'price': '0.00000000'}, {'symbol': 'STRATBNB', 'price': '0.00000000'}, {'symbol': 'STRATUSDT', 'price': '0.00000000'}, {'symbol': 'AIONBUSD', 'price': '0.00000000'}, {'symbol': 'AIONUSDT', 'price': '0.00943000'}, {'symbol': 'MBLBNB', 'price': '0.00000000'}, {'symbol': 'MBLBTC', 'price': '0.00000000'}, {'symbol': 'MBLUSDT', 'price': '0.00254700'}, {'symbol': 'COTIBNB', 'price': '0.00021230'}, {'symbol': 'COTIBTC', 'price': '0.00000082'}, {'symbol': 'COTIUSDT', 'price': '0.08556000'}, {'symbol': 'ALGOBUSD', 'price': '0.20710000'}, {'symbol': 'BTTBUSD', 'price': '0.00000000'}, {'symbol': 'TOMOBUSD', 'price': '1.78070000'}, {'symbol': 'XMRBUSD', 'price': '170.20000000'}, {'symbol': 'ZECBUSD', 'price': '25.50000000'}, {'symbol': 'BNBBULLUSDT', 'price': '0.00000000'}, {'symbol': 'BNBBULLBUSD', 'price': '0.00000000'}, {'symbol': 'BNBBEARUSDT', 'price': '0.00000000'}, {'symbol': 'BNBBEARBUSD', 'price': '0.00000000'}, {'symbol': 'STPTBNB', 'price': '0.00000000'}, {'symbol': 'STPTBTC', 'price': '0.00000070'}, {'symbol': 'STPTUSDT', 'price': '0.07296000'}, {'symbol': 'BTCZAR', 'price': '1938759.00000000'}, {'symbol': 'ETHZAR', 'price': '47161.00000000'}, {'symbol': 'BNBZAR', 'price': '0.00000000'}, {'symbol': 'USDTZAR', 'price': '18.61000000'}, {'symbol': 'BUSDZAR', 'price': '18.85000000'}, {'symbol': 'BTCBKRW', 'price': '0.00000000'}, {'symbol': 'ETHBKRW', 'price': '0.00000000'}, {'symbol': 'BNBBKRW', 'price': '0.00000000'}, {'symbol': 'WTCUSDT', 'price': '0.01030000'}, {'symbol': 'DATABUSD', 'price': '0.02344000'}, {'symbol': 'DATAUSDT', 'price': '0.01921000'}, {'symbol': 'XZCUSDT', 'price': '0.00000000'}, {'symbol': 'SOLBNB', 'price': '0.26480000'}, {'symbol': 'SOLBTC', 'price': '0.00166970'}, {'symbol': 'SOLUSDT', 'price': '173.92000000'}, {'symbol': 'SOLBUSD', 'price': '74.62000000'}, {'symbol': 'BTCIDRT', 'price': '0.00'}, {'symbol': 'BNBIDRT', 'price': '0.00'}, {'symbol': 'USDTIDRT', 'price': '15907.00'}, {'symbol': 'BUSDIDRT', 'price': '0.00'}, {'symbol': 'CTSIBTC', 'price': '0.00000076'}, {'symbol': 'CTSIUSDT', 'price': '0.07830000'}, {'symbol': 'CTSIBNB', 'price': '0.00079830'}, {'symbol': 'CTSIBUSD', 'price': '0.16420000'}, {'symbol': 'HIVEBNB', 'price': '0.00000000'}, {'symbol': 'HIVEBTC', 'price': '0.00000253'}, {'symbol': 'HIVEUSDT', 'price': '0.26390000'}, {'symbol': 'CHRBNB', 'price': '0.00043770'}, {'symbol': 'CHRBTC', 'price': '0.00000107'}, {'symbol': 'CHRUSDT', 'price': '0.11120000'}, {'symbol': 'BTCUPUSDT', 'price': '16.60000000'}, {'symbol': 'BTCDOWNUSDT', 'price': '0.00118500'}, {'symbol': 'GXSUSDT', 'price': '0.00000000'}, {'symbol': 'ARDRUSDT', 'price': '0.10237000'}, {'symbol': 'ERDBUSD', 'price': '0.00000000'}, {'symbol': 'LENDUSDT', 'price': '0.00000000'}, {'symbol': 'HBARBUSD', 'price': '0.06020000'}, {'symbol': 'MATICBUSD', 'price': '0.86590000'}, {'symbol': 'WRXBUSD', 'price': '0.11050000'}, {'symbol': 'ZILBUSD', 'price': '0.01583000'}, {'symbol': 'MDTBNB', 'price': '0.00000000'}, {'symbol': 'MDTBTC', 'price': '0.00000030'}, {'symbol': 'MDTUSDT', 'price': '0.03347000'}, {'symbol': 'STMXBTC', 'price': '0.00000016'}, {'symbol': 'STMXETH', 'price': '0.00000292'}, {'symbol': 'STMXUSDT', 'price': '0.00456500'}, {'symbol': 'KNCBUSD', 'price': '0.63700000'}, {'symbol': 'KNCUSDT', 'price': '0.40450000'}, {'symbol': 'REPBUSD', 'price': '0.00000000'}, {'symbol': 'REPUSDT', 'price': '4.73000000'}, {'symbol': 'LRCBUSD', 'price': '0.17280000'}, {'symbol': 'LRCUSDT', 'price': '0.12010000'}, {'symbol': 'IQBNB', 'price': '0.00000000'}, {'symbol': 'IQBUSD', 'price': '0.00502000'}, {'symbol': 'PNTBTC', 'price': '0.00000864'}, {'symbol': 'PNTUSDT', 'price': '0.03500000'}, {'symbol': 'BTCGBP', 'price': '35986.75000000'}, {'symbol': 'ETHGBP', 'price': '1974.32000000'}, {'symbol': 'XRPGBP', 'price': '0.52570000'}, {'symbol': 'BNBGBP', 'price': '267.40000000'}, {'symbol': 'GBPBUSD', 'price': '1.23900000'}, {'symbol': 'DGBBTC', 'price': '0.00000009'}, {'symbol': 'DGBBUSD', 'price': '0.00632000'}, {'symbol': 'BTCUAH', 'price': '4435608.00000000'}, {'symbol': 'USDTUAH', 'price': '42.67000000'}, {'symbol': 'COMPBTC', 'price': '0.00045300'}, {'symbol': 'COMPBNB', 'price': '0.00000000'}, {'symbol': 'COMPBUSD', 'price': '45.79000000'}, {'symbol': 'COMPUSDT', 'price': '47.25000000'}, {'symbol': 'BTCBIDR', 'price': '1042508253.00'}, {'symbol': 'ETHBIDR', 'price': '47041943.00'}, {'symbol': 'BNBBIDR', 'price': '3335250.00'}, {'symbol': 'BUSDBIDR', 'price': '15559.00'}, {'symbol': 'USDTBIDR', 'price': '15980.00'}, {'symbol': 'BKRWUSDT', 'price': '0.00000000'}, {'symbol': 'BKRWBUSD', 'price': '0.00000000'}, {'symbol': 'SCUSDT', 'price': '0.00367700'}, {'symbol': 'ZENUSDT', 'price': '10.55000000'}, {'symbol': 'SXPBTC', 'price': '0.00000218'}, {'symbol': 'SXPBNB', 'price': '0.00044000'}, {'symbol': 'SXPBUSD', 'price': '0.37210000'}, {'symbol': 'SNXBTC', 'price': '0.00000819'}, {'symbol': 'SNXBNB', 'price': '0.01057000'}, {'symbol': 'SNXBUSD', 'price': '1.93600000'}, {'symbol': 'SNXUSDT', 'price': '0.85100000'}, {'symbol': 'ETHUPUSDT', 'price': '11.65100000'}, {'symbol': 'ETHDOWNUSDT', 'price': '0.04570000'}, {'symbol': 'ADAUPUSDT', 'price': '0.10400000'}, {'symbol': 'ADADOWNUSDT', 'price': '0.00191700'}, {'symbol': 'LINKUPUSDT', 'price': '0.00608000'}, {'symbol': 'LINKDOWNUSDT', 'price': '0.00089500'}, {'symbol': 'VTHOBNB', 'price': '0.00000000'}, {'symbol': 'VTHOBUSD', 'price': '0.00000000'}, {'symbol': 'VTHOUSDT', 'price': '0.00279400'}, {'symbol': 'DCRBUSD', 'price': '0.00000000'}, {'symbol': 'DGBUSDT', 'price': '0.01087000'}, {'symbol': 'GBPUSDT', 'price': '1.18000000'}, {'symbol': 'STORJBUSD', 'price': '0.23710000'}, {'symbol': 'SXPUSDT', 'price': '0.22790000'}, {'symbol': 'IRISBNB', 'price': '0.00000000'}, {'symbol': 'IRISBTC', 'price': '0.00000014'}, {'symbol': 'IRISBUSD', 'price': '0.00000000'}, {'symbol': 'MKRBNB', 'price': '0.00000000'}, {'symbol': 'MKRBTC', 'price': '0.01743000'}, {'symbol': 'MKRUSDT', 'price': '1817.00000000'}, {'symbol': 'MKRBUSD', 'price': '1293.00000000'}, {'symbol': 'DAIBNB', 'price': '0.00000000'}, {'symbol': 'DAIBTC', 'price': '0.00000000'}, {'symbol': 'DAIUSDT', 'price': '0.00000000'}, {'symbol': 'DAIBUSD', 'price': '0.00000000'}, {'symbol': 'RUNEBNB', 'price': '0.00188500'}, {'symbol': 'RUNEBTC', 'price': '0.00001653'}, {'symbol': 'RUNEBUSD', 'price': '5.46200000'}, {'symbol': 'MANABUSD', 'price': '0.43880000'}, {'symbol': 'DOGEBUSD', 'price': '0.09742000'}, {'symbol': 'LENDBUSD', 'price': '0.00000000'}, {'symbol': 'ZRXBUSD', 'price': '0.16890000'}, {'symbol': 'DCRUSDT', 'price': '15.05000000'}, {'symbol': 'STORJUSDT', 'price': '0.33220000'}, {'symbol': 'XRPBKRW', 'price': '0.00000000'}, {'symbol': 'ADABKRW', 'price': '0.00000000'}, {'symbol': 'BTCAUD', 'price': '37210.08000000'}, {'symbol': 'ETHAUD', 'price': '2565.09000000'}, {'symbol': 'AUDBUSD', 'price': '0.72550000'}, {'symbol': 'FIOBNB', 'price': '0.00000000'}, {'symbol': 'FIOBTC', 'price': '0.00000019'}, {'symbol': 'FIOBUSD', 'price': '0.01922000'}, {'symbol': 'BNBUPUSDT', 'price': '61.80000000'}, {'symbol': 'BNBDOWNUSDT', 'price': '0.00215100'}, {'symbol': 'XTZUPUSDT', 'price': '0.00000000'}, {'symbol': 'XTZDOWNUSDT', 'price': '0.00000000'}, {'symbol': 'AVABNB', 'price': '0.00000000'}, {'symbol': 'AVABTC', 'price': '0.00000662'}, {'symbol': 'AVABUSD', 'price': '0.47000000'}, {'symbol': 'USDTBKRW', 'price': '0.00000000'}, {'symbol': 'BUSDBKRW', 'price': '0.00000000'}, {'symbol': 'IOTABUSD', 'price': '0.14310000'}, {'symbol': 'MANAUSDT', 'price': '0.36630000'}, {'symbol': 'XRPAUD', 'price': '0.70000000'}, {'symbol': 'BNBAUD', 'price': '421.10000000'}, {'symbol': 'AUDUSDT', 'price': '0.72520000'}, {'symbol': 'BALBNB', 'price': '0.00000000'}, {'symbol': 'BALBTC', 'price': '0.00003122'}, {'symbol': 'BALBUSD', 'price': '3.15000000'}, {'symbol': 'YFIBNB', 'price': '0.00000000'}, {'symbol': 'YFIBTC', 'price': '0.06100000'}, {'symbol': 'YFIBUSD', 'price': '5325.00000000'}, {'symbol': 'YFIUSDT', 'price': '6381.00000000'}, {'symbol': 'BLZBUSD', 'price': '0.05530000'}, {'symbol': 'KMDBUSD', 'price': '0.00000000'}, {'symbol': 'BALUSDT', 'price': '0.96700000'}, {'symbol': 'BLZUSDT', 'price': '0.05820000'}, {'symbol': 'IRISUSDT', 'price': '0.00521000'}, {'symbol': 'KMDUSDT', 'price': '0.16370000'}, {'symbol': 'BTCDAI', 'price': '104259.00000000'}, {'symbol': 'ETHDAI', 'price': '2503.44000000'}, {'symbol': 'BNBDAI', 'price': '561.90000000'}, {'symbol': 'USDTDAI', 'price': '1.00000000'}, {'symbol': 'BUSDDAI', 'price': '1.00000000'}, {'symbol': 'JSTBNB', 'price': '0.00000000'}, {'symbol': 'JSTBTC', 'price': '0.00000036'}, {'symbol': 'JSTBUSD', 'price': '0.02103000'}, {'symbol': 'JSTUSDT', 'price': '0.03733000'}, {'symbol': 'SRMBNB', 'price': '0.00084000'}, {'symbol': 'SRMBTC', 'price': '0.00001523'}, {'symbol': 'SRMBUSD', 'price': '0.03530000'}, {'symbol': 'SRMUSDT', 'price': '0.24442000'}, {'symbol': 'ANTBNB', 'price': '0.01764000'}, {'symbol': 'ANTBTC', 'price': '0.00014320'}, {'symbol': 'ANTBUSD', 'price': '4.30300000'}, {'symbol': 'ANTUSDT', 'price': '7.40700000'}, {'symbol': 'CRVBNB', 'price': '0.00000000'}, {'symbol': 'CRVBTC', 'price': '0.00000746'}, {'symbol': 'CRVBUSD', 'price': '0.50410000'}, {'symbol': 'CRVUSDT', 'price': '0.77780000'}, {'symbol': 'SANDBNB', 'price': '0.00066800'}, {'symbol': 'SANDBTC', 'price': '0.00000338'}, {'symbol': 'SANDUSDT', 'price': '0.35270000'}, {'symbol': 'SANDBUSD', 'price': '0.32610000'}, {'symbol': 'OCEANBNB', 'price': '0.00104400'}, {'symbol': 'OCEANBTC', 'price': '0.00000964'}, {'symbol': 'OCEANBUSD', 'price': '0.28480000'}, {'symbol': 'OCEANUSDT', 'price': '0.61230000'}, {'symbol': 'NMRBTC', 'price': '0.00009160'}, {'symbol': 'NMRBUSD', 'price': '11.43000000'}, {'symbol': 'NMRUSDT', 'price': '9.58000000'}, {'symbol': 'DOTBNB', 'price': '0.00765000'}, {'symbol': 'DOTBTC', 'price': '0.00004840'}, {'symbol': 'DOTBUSD', 'price': '7.37300000'}, {'symbol': 'DOTUSDT', 'price': '5.04400000'}, {'symbol': 'LUNABNB', 'price': '0.00000000'}, {'symbol': 'LUNABTC', 'price': '0.00000000'}, {'symbol': 'LUNABUSD', 'price': '0.94420000'}, {'symbol': 'LUNAUSDT', 'price': '0.21820000'}, {'symbol': 'IDEXBTC', 'price': '0.00000035'}, {'symbol': 'IDEXBUSD', 'price': '0.04879000'}, {'symbol': 'RSRBNB', 'price': '0.00000852'}, {'symbol': 'RSRBTC', 'price': '0.00000000'}, {'symbol': 'RSRBUSD', 'price': '0.00184000'}, {'symbol': 'RSRUSDT', 'price': '0.00988500'}, {'symbol': 'PAXGBNB', 'price': '6.46900000'}, {'symbol': 'PAXGBTC', 'price': '0.03193000'}, {'symbol': 'PAXGBUSD', 'price': '1941.00000000'}, {'symbol': 'PAXGUSDT', 'price': '3328.00000000'}, {'symbol': 'WNXMBNB', 'price': '0.00000000'}, {'symbol': 'WNXMBTC', 'price': '0.00000000'}, {'symbol': 'WNXMBUSD', 'price': '0.00000000'}, {'symbol': 'WNXMUSDT', 'price': '73.26000000'}, {'symbol': 'TRBBNB', 'price': '0.00000000'}, {'symbol': 'TRBBTC', 'price': '0.00034400'}, {'symbol': 'TRBBUSD', 'price': '90.12000000'}, {'symbol': 'TRBUSDT', 'price': '35.80000000'}, {'symbol': 'ETHNGN', 'price': '0.00000000'}, {'symbol': 'DOTBIDR', 'price': '72297.00'}, {'symbol': 'LINKAUD', 'price': '7.98600000'}, {'symbol': 'SXPAUD', 'price': '0.00000000'}, {'symbol': 'BZRXBNB', 'price': '0.00000000'}, {'symbol': 'BZRXBTC', 'price': '0.00000000'}, {'symbol': 'BZRXBUSD', 'price': '0.00000000'}, {'symbol': 'BZRXUSDT', 'price': '0.00000000'}, {'symbol': 'WBTCBTC', 'price': '0.99960000'}, {'symbol': 'WBTCETH', 'price': '41.53000000'}, {'symbol': 'SUSHIBNB', 'price': '0.00269800'}, {'symbol': 'SUSHIBTC', 'price': '0.00000784'}, {'symbol': 'SUSHIBUSD', 'price': '0.56600000'}, {'symbol': 'SUSHIUSDT', 'price': '0.81700000'}, {'symbol': 'YFIIBNB', 'price': '0.00000000'}, {'symbol': 'YFIIBTC', 'price': '0.07249000'}, {'symbol': 'YFIIBUSD', 'price': '0.00000000'}, {'symbol': 'YFIIUSDT', 'price': '435.50000000'}, {'symbol': 'KSMBNB', 'price': '0.09080000'}, {'symbol': 'KSMBTC', 'price': '0.00017900'}, {'symbol': 'KSMBUSD', 'price': '18.87000000'}, {'symbol': 'KSMUSDT', 'price': '18.67000000'}, {'symbol': 'EGLDBNB', 'price': '0.02966000'}, {'symbol': 'EGLDBTC', 'price': '0.00018690'}, {'symbol': 'EGLDBUSD', 'price': '41.53000000'}, {'symbol': 'EGLDUSDT', 'price': '19.46000000'}, {'symbol': 'DIABNB', 'price': '0.00000000'}, {'symbol': 'DIABTC', 'price': '0.00000504'}, {'symbol': 'DIABUSD', 'price': '0.23840000'}, {'symbol': 'DIAUSDT', 'price': '0.52580000'}, {'symbol': 'RUNEUSDT', 'price': '1.72300000'}, {'symbol': 'FIOUSDT', 'price': '0.02032000'}, {'symbol': 'UMABTC', 'price': '0.00001277'}, {'symbol': 'UMAUSDT', 'price': '1.32900000'}, {'symbol': 'EOSUPUSDT', 'price': '0.00000000'}, {'symbol': 'EOSDOWNUSDT', 'price': '0.00000000'}, {'symbol': 'TRXUPUSDT', 'price': '0.03854000'}, {'symbol': 'TRXDOWNUSDT', 'price': '1.13900000'}, {'symbol': 'XRPUPUSDT', 'price': '0.08550000'}, {'symbol': 'XRPDOWNUSDT', 'price': '0.00008172'}, {'symbol': 'DOTUPUSDT', 'price': '0.09600000'}, {'symbol': 'DOTDOWNUSDT', 'price': '16.73700000'}, {'symbol': 'SRMBIDR', 'price': '0.00'}, {'symbol': 'ONEBIDR', 'price': '0.00'}, {'symbol': 'LINKTRY', 'price': '640.00000000'}, {'symbol': 'USDTNGN', 'price': '1518.40000000'}, {'symbol': 'BELBNB', 'price': '0.00253800'}, {'symbol': 'BELBTC', 'price': '0.00000363'}, {'symbol': 'BELBUSD', 'price': '0.53560000'}, {'symbol': 'BELUSDT', 'price': '0.38020000'}, {'symbol': 'WINGBNB', 'price': '0.00000000'}, {'symbol': 'WINGBTC', 'price': '0.00010930'}, {'symbol': 'SWRVBNB', 'price': '0.00000000'}, {'symbol': 'SWRVBUSD', 'price': '0.00000000'}, {'symbol': 'WINGBUSD', 'price': '5.79000000'}, {'symbol': 'WINGUSDT', 'price': '0.32600000'}, {'symbol': 'LTCUPUSDT', 'price': '0.00000000'}, {'symbol': 'LTCDOWNUSDT', 'price': '0.00000000'}, {'symbol': 'LENDBKRW', 'price': '0.00000000'}, {'symbol': 'SXPEUR', 'price': '0.26540000'}, {'symbol': 'CREAMBNB', 'price': '0.00000000'}, {'symbol': 'CREAMBUSD', 'price': '19.86000000'}, {'symbol': 'UNIBNB', 'price': '0.01464000'}, {'symbol': 'UNIBTC', 'price': '0.00006800'}, {'symbol': 'UNIBUSD', 'price': '4.58000000'}, {'symbol': 'UNIUSDT', 'price': '7.08600000'}, {'symbol': 'NBSBTC', 'price': '0.00000000'}, {'symbol': 'NBSUSDT', 'price': '0.00166000'}, {'symbol': 'OXTBTC', 'price': '0.00000070'}, {'symbol': 'OXTUSDT', 'price': '0.07220000'}, {'symbol': 'SUNBTC', 'price': '0.00000000'}, {'symbol': 'SUNUSDT', 'price': '0.01919000'}, {'symbol': 'AVAXBNB', 'price': '0.03760000'}, {'symbol': 'AVAXBTC', 'price': '0.00023710'}, {'symbol': 'AVAXBUSD', 'price': '38.99000000'}, {'symbol': 'AVAXUSDT', 'price': '24.70000000'}, {'symbol': 'HNTBTC', 'price': '0.00023570'}, {'symbol': 'HNTUSDT', 'price': '4.67000000'}, {'symbol': 'BAKEBNB', 'price': '0.00060280'}, {'symbol': 'BURGERBNB', 'price': '0.00153600'}, {'symbol': 'SXPBIDR', 'price': '0.00'}, {'symbol': 'LINKBKRW', 'price': '0.00000000'}, {'symbol': 'FLMBNB', 'price': '0.00000000'}, {'symbol': 'FLMBTC', 'price': '0.00000036'}, {'symbol': 'FLMBUSD', 'price': '0.00000000'}, {'symbol': 'FLMUSDT', 'price': '0.03770000'}, {'symbol': 'SCRTBTC', 'price': '0.00000229'}, {'symbol': 'SCRTETH', 'price': '0.00016400'}, {'symbol': 'CAKEBNB', 'price': '0.00369000'}, {'symbol': 'CAKEBUSD', 'price': '1.54000000'}, {'symbol': 'SPARTABNB', 'price': '0.00000000'}, {'symbol': 'UNIUPUSDT', 'price': '0.00000000'}, {'symbol': 'UNIDOWNUSDT', 'price': '0.00000000'}, {'symbol': 'ORNBTC', 'price': '0.00001586'}, {'symbol': 'ORNUSDT', 'price': '1.05300000'}, {'symbol': 'TRXNGN', 'price': '0.00000000'}, {'symbol': 'SXPTRY', 'price': '8.77400000'}, {'symbol': 'UTKBTC', 'price': '0.00000045'}, {'symbol': 'UTKUSDT', 'price': '0.03893000'}, {'symbol': 'XVSBNB', 'price': '0.01057000'}, {'symbol': 'XVSBTC', 'price': '0.00006680'}, {'symbol': 'XVSBUSD', 'price': '7.03000000'}, {'symbol': 'XVSUSDT', 'price': '6.95000000'}, {'symbol': 'ALPHABNB', 'price': '0.00029900'}, {'symbol': 'ALPHABTC', 'price': '0.00000035'}, {'symbol': 'ALPHABUSD', 'price': '0.07710000'}, {'symbol': 'ALPHAUSDT', 'price': '0.03030000'}, {'symbol': 'VIDTBTC', 'price': '0.00000002'}, {'symbol': 'VIDTBUSD', 'price': '0.02305000'}, {'symbol': 'AAVEBNB', 'price': '0.15170000'}, {'symbol': 'BTCBRL', 'price': '593460.00000000'}, {'symbol': 'USDTBRL', 'price': '5.69500000'}, {'symbol': 'AAVEBTC', 'price': '0.00210800'}, {'symbol': 'AAVEETH', 'price': '0.08781000'}, {'symbol': 'AAVEBUSD', 'price': '93.00000000'}, {'symbol': 'AAVEUSDT', 'price': '220.12000000'}, {'symbol': 'AAVEBKRW', 'price': '0.00000000'}, {'symbol': 'NEARBNB', 'price': '0.00486900'}, {'symbol': 'NEARBTC', 'price': '0.00003082'}, {'symbol': 'NEARBUSD', 'price': '2.24900000'}, {'symbol': 'NEARUSDT', 'price': '3.21400000'}, {'symbol': 'SXPUPUSDT', 'price': '0.00000000'}, {'symbol': 'SXPDOWNUSDT', 'price': '0.00000000'}, {'symbol': 'DOTBKRW', 'price': '0.00000000'}, {'symbol': 'SXPGBP', 'price': '0.00000000'}, {'symbol': 'FILBNB', 'price': '0.00656000'}, {'symbol': 'FILBTC', 'price': '0.00003020'}, {'symbol': 'FILBUSD', 'price': '4.55400000'}, {'symbol': 'FILUSDT', 'price': '3.15100000'}, {'symbol': 'FILUPUSDT', 'price': '0.00000000'}, {'symbol': 'FILDOWNUSDT', 'price': '0.00000000'}, {'symbol': 'YFIUPUSDT', 'price': '0.00000000'}, {'symbol': 'YFIDOWNUSDT', 'price': '0.00000000'}, {'symbol': 'INJBNB', 'price': '0.01945000'}, {'symbol': 'INJBTC', 'price': '0.00012320'}, {'symbol': 'INJBUSD', 'price': '25.46400000'}, {'symbol': 'INJUSDT', 'price': '12.83000000'}, {'symbol': 'AERGOBTC', 'price': '0.00000257'}, {'symbol': 'AERGOBUSD', 'price': '0.10030000'}, {'symbol': 'LINKEUR', 'price': '14.68000000'}, {'symbol': 'ONEBUSD', 'price': '0.01505000'}, {'symbol': 'EASYETH', 'price': '0.00000000'}, {'symbol': 'AUDIOBTC', 'price': '0.00000078'}, {'symbol': 'AUDIOBUSD', 'price': '0.15270000'}, {'symbol': 'AUDIOUSDT', 'price': '0.08150000'}, {'symbol': 'CTKBNB', 'price': '0.00060800'}, {'symbol': 'CTKBTC', 'price': '0.00000380'}, {'symbol': 'CTKBUSD', 'price': '0.53400000'}, {'symbol': 'CTKUSDT', 'price': '0.39950000'}, {'symbol': 'BCHUPUSDT', 'price': '0.00000000'}, {'symbol': 'BCHDOWNUSDT', 'price': '0.00000000'}, {'symbol': 'BOTBTC', 'price': '0.00000000'}, {'symbol': 'BOTBUSD', 'price': '0.00000000'}, {'symbol': 'ETHBRL', 'price': '14283.92000000'}, {'symbol': 'DOTEUR', 'price': '4.47700000'}, {'symbol': 'AKROBTC', 'price': '0.00000000'}, {'symbol': 'AKROUSDT', 'price': '0.00098100'}, {'symbol': 'KP3RBNB', 'price': '0.20250000'}, {'symbol': 'KP3RBUSD', 'price': '45.39000000'}, {'symbol': 'AXSBNB', 'price': '0.00473000'}, {'symbol': 'AXSBTC', 'price': '0.00002990'}, {'symbol': 'AXSBUSD', 'price': '5.88000000'}, {'symbol': 'AXSUSDT', 'price': '3.11400000'}, {'symbol': 'HARDBNB', 'price': '0.00059200'}, {'symbol': 'HARDBTC', 'price': '0.00000318'}, {'symbol': 'HARDBUSD', 'price': '0.10910000'}, {'symbol': 'HARDUSDT', 'price': '0.00950000'}, {'symbol': 'BNBBRL', 'price': '3745.00000000'}, {'symbol': 'LTCEUR', 'price': '89.67000000'}, {'symbol': 'RENBTCBTC', 'price': '0.00000000'}, {'symbol': 'RENBTCETH', 'price': '0.00000000'}, {'symbol': 'DNTBUSD', 'price': '0.03600000'}, {'symbol': 'DNTUSDT', 'price': '0.03600000'}, {'symbol': 'SLPETH', 'price': '0.00000077'}, {'symbol': 'ADAEUR', 'price': '0.70900000'}, {'symbol': 'LTCNGN', 'price': '0.00000000'}, {'symbol': 'CVPETH', 'price': '0.00032000'}, {'symbol': 'CVPBUSD', 'price': '0.34300000'}, {'symbol': 'STRAXBTC', 'price': '0.00000057'}, {'symbol': 'STRAXETH', 'price': '0.00031880'}, {'symbol': 'STRAXBUSD', 'price': '0.47100000'}, {'symbol': 'STRAXUSDT', 'price': '0.05920000'}, {'symbol': 'FORBTC', 'price': '0.00000006'}, {'symbol': 'FORBUSD', 'price': '0.01703000'}, {'symbol': 'UNFIBNB', 'price': '0.00000000'}, {'symbol': 'UNFIBTC', 'price': '0.00001850'}, {'symbol': 'UNFIBUSD', 'price': '7.81500000'}, {'symbol': 'UNFIUSDT', 'price': '1.34100000'}, {'symbol': 'FRONTETH', 'price': '0.00000000'}, {'symbol': 'FRONTBUSD', 'price': '0.33220000'}, {'symbol': 'BCHABUSD', 'price': '0.00000000'}, {'symbol': 'ROSEBTC', 'price': '0.00000036'}, {'symbol': 'ROSEBUSD', 'price': '0.06826000'}, {'symbol': 'ROSEUSDT', 'price': '0.03773000'}, {'symbol': 'AVAXTRY', 'price': '953.20000000'}, {'symbol': 'BUSDBRL', 'price': '4.99100000'}, {'symbol': 'AVAUSDT', 'price': '0.68840000'}, {'symbol': 'SYSBUSD', 'price': '0.08180000'}, {'symbol': 'XEMUSDT', 'price': '0.01596000'}, {'symbol': 'HEGICETH', 'price': '0.00000000'}, {'symbol': 'HEGICBUSD', 'price': '0.00000000'}, {'symbol': 'AAVEUPUSDT', 'price': '0.00000000'}, {'symbol': 'AAVEDOWNUSDT', 'price': '0.00000000'}, {'symbol': 'PROMBNB', 'price': '0.01443000'}, {'symbol': 'PROMBUSD', 'price': '4.42400000'}, {'symbol': 'XRPBRL', 'price': '13.47100000'}, {'symbol': 'XRPNGN', 'price': '0.00000000'}, {'symbol': 'SKLBTC', 'price': '0.00000026'}, {'symbol': 'SKLBUSD', 'price': '0.02150000'}, {'symbol': 'SKLUSDT', 'price': '0.02692000'}, {'symbol': 'BCHEUR', 'price': '366.50000000'}, {'symbol': 'YFIEUR', 'price': '4835.00000000'}, {'symbol': 'ZILBIDR', 'price': '253.40'}, {'symbol': 'SUSDBTC', 'price': '0.00000000'}, {'symbol': 'SUSDETH', 'price': '0.00000000'}, {'symbol': 'SUSDUSDT', 'price': '0.00000000'}, {'symbol': 'COVERETH', 'price': '0.00000000'}, {'symbol': 'COVERBUSD', 'price': '0.00000000'}, {'symbol': 'GLMBTC', 'price': '0.00000276'}, {'symbol': 'GLMETH', 'price': '0.00015020'}, {'symbol': 'GHSTETH', 'price': '0.00081750'}, {'symbol': 'GHSTBUSD', 'price': '0.95700000'}, {'symbol': 'SUSHIUPUSDT', 'price': '0.00000000'}, {'symbol': 'SUSHIDOWNUSDT', 'price': '0.00000000'}, {'symbol': 'XLMUPUSDT', 'price': '0.00000000'}, {'symbol': 'XLMDOWNUSDT', 'price': '0.00000000'}, {'symbol': 'LINKBRL', 'price': '94.16000000'}, {'symbol': 'LINKNGN', 'price': '0.00000000'}, {'symbol': 'LTCRUB', 'price': '6383.10000000'}, {'symbol': 'TRXTRY', 'price': '10.10900000'}, {'symbol': 'XLMEUR', 'price': '0.27090000'}, {'symbol': 'DFETH', 'price': '0.00000000'}, {'symbol': 'DFBUSD', 'price': '0.03600000'}, {'symbol': 'GRTBTC', 'price': '0.00000114'}, {'symbol': 'GRTETH', 'price': '0.00004745'}, {'symbol': 'GRTUSDT', 'price': '0.11920000'}, {'symbol': 'JUVBTC', 'price': '0.00013770'}, {'symbol': 'JUVBUSD', 'price': '2.06500000'}, {'symbol': 'JUVUSDT', 'price': '1.24100000'}, {'symbol': 'PSGBTC', 'price': '0.00006930'}, {'symbol': 'PSGBUSD', 'price': '3.01900000'}, {'symbol': 'PSGUSDT', 'price': '2.48200000'}, {'symbol': 'BUSDBVND', 'price': '0.00'}, {'symbol': 'USDTBVND', 'price': '0.00'}, {'symbol': '1INCHBTC', 'price': '0.00000225'}, {'symbol': '1INCHUSDT', 'price': '0.23420000'}, {'symbol': 'REEFBTC', 'price': '0.00000000'}, {'symbol': 'REEFUSDT', 'price': '0.00068800'}, {'symbol': 'OGBTC', 'price': '0.00004560'}, {'symbol': 'OGUSDT', 'price': '4.75300000'}, {'symbol': 'ATMBTC', 'price': '0.00009440'}, {'symbol': 'ATMUSDT', 'price': '1.35400000'}, {'symbol': 'ASRBTC', 'price': '0.00013390'}, {'symbol': 'ASRUSDT', 'price': '2.09400000'}, {'symbol': 'CELOBTC', 'price': '0.00000403'}, {'symbol': 'CELOUSDT', 'price': '0.41870000'}, {'symbol': 'RIFBTC', 'price': '0.00000055'}, {'symbol': 'RIFUSDT', 'price': '0.05670000'}, {'symbol': 'CHZTRY', 'price': '1.85000000'}, {'symbol': 'XLMTRY', 'price': '11.79200000'}, {'symbol': 'LINKGBP', 'price': '13.17300000'}, {'symbol': 'GRTEUR', 'price': '0.10490000'}, {'symbol': 'BTCSTBTC', 'price': '0.00033100'}, {'symbol': 'BTCSTBUSD', 'price': '1.16000000'}, {'symbol': 'BTCSTUSDT', 'price': '5.35000000'}, {'symbol': 'TRUBTC', 'price': '0.00000045'}, {'symbol': 'TRUBUSD', 'price': '0.00000000'}, {'symbol': 'TRUUSDT', 'price': '0.04690000'}, {'symbol': 'DEXEETH', 'price': '0.00137800'}, {'symbol': 'DEXEBUSD', 'price': '2.10000000'}, {'symbol': 'EOSEUR', 'price': '0.76200000'}, {'symbol': 'LTCBRL', 'price': '571.80000000'}, {'symbol': 'USDCBUSD', 'price': '0.99990000'}, {'symbol': 'TUSDBUSD', 'price': '0.99660000'}, {'symbol': 'PAXBUSD', 'price': '0.00000000'}, {'symbol': 'CKBBTC', 'price': '0.00000000'}, {'symbol': 'CKBBUSD', 'price': '0.00265000'}, {'symbol': 'CKBUSDT', 'price': '0.00582100'}, {'symbol': 'TWTBTC', 'price': '0.00001229'}, {'symbol': 'TWTBUSD', 'price': '0.79240000'}, {'symbol': 'TWTUSDT', 'price': '0.88530000'}, {'symbol': 'FIROBTC', 'price': '0.00002005'}, {'symbol': 'FIROETH', 'price': '0.00000000'}, {'symbol': 'FIROUSDT', 'price': '0.30000000'}, {'symbol': 'BETHETH', 'price': '0.99960000'}, {'symbol': 'DOGEEUR', 'price': '0.20738000'}, {'symbol': 'DOGETRY', 'price': '9.02600000'}, {'symbol': 'DOGEAUD', 'price': '0.09449000'}, {'symbol': 'DOGEBRL', 'price': '1.33100000'}, {'symbol': 'DOTNGN', 'price': '0.00000000'}, {'symbol': 'PROSETH', 'price': '0.00021600'}, {'symbol': 'LITBTC', 'price': '0.00000775'}, {'symbol': 'LITBUSD', 'price': '0.81200000'}, {'symbol': 'LITUSDT', 'price': '0.74300000'}, {'symbol': 'BTCVAI', 'price': '0.00000000'}, {'symbol': 'BUSDVAI', 'price': '1.01500000'}, {'symbol': 'SFPBTC', 'price': '0.00000562'}, {'symbol': 'SFPBUSD', 'price': '0.59920000'}, {'symbol': 'SFPUSDT', 'price': '0.58720000'}, {'symbol': 'DOGEGBP', 'price': '0.07759000'}, {'symbol': 'DOTTRY', 'price': '194.40000000'}, {'symbol': 'FXSBTC', 'price': '0.00002740'}, {'symbol': 'FXSBUSD', 'price': '6.96400000'}, {'symbol': 'DODOBTC', 'price': '0.00000058'}, {'symbol': 'DODOBUSD', 'price': '0.12330000'}, {'symbol': 'DODOUSDT', 'price': '0.05980000'}, {'symbol': 'FRONTBTC', 'price': '0.00001405'}, {'symbol': 'EASYBTC', 'price': '0.00000000'}, {'symbol': 'CAKEBTC', 'price': '0.00002326'}, {'symbol': 'CAKEUSDT', 'price': '2.42600000'}, {'symbol': 'BAKEBUSD', 'price': '0.14260000'}, {'symbol': 'UFTETH', 'price': '0.00016940'}, {'symbol': 'UFTBUSD', 'price': '0.20610000'}, {'symbol': '1INCHBUSD', 'price': '0.25190000'}, {'symbol': 'BANDBUSD', 'price': '1.53900000'}, {'symbol': 'GRTBUSD', 'price': '0.10520000'}, {'symbol': 'IOSTBUSD', 'price': '0.00700000'}, {'symbol': 'OMGBUSD', 'price': '0.46600000'}, {'symbol': 'REEFBUSD', 'price': '0.00139400'}, {'symbol': 'ACMBTC', 'price': '0.00009050'}, {'symbol': 'ACMBUSD', 'price': '2.07300000'}, {'symbol': 'ACMUSDT', 'price': '1.01500000'}, {'symbol': 'AUCTIONBTC', 'price': '0.00012870'}, {'symbol': 'AUCTIONBUSD', 'price': '8.04000000'}, {'symbol': 'PHABTC', 'price': '0.00000130'}, {'symbol': 'PHABUSD', 'price': '0.10340000'}, {'symbol': 'DOTGBP', 'price': '3.01500000'}, {'symbol': 'ADATRY', 'price': '30.85000000'}, {'symbol': 'ADABRL', 'price': '4.53100000'}, {'symbol': 'ADAGBP', 'price': '0.51300000'}, {'symbol': 'TVKBTC', 'price': '0.00000145'}, {'symbol': 'TVKBUSD', 'price': '0.02043000'}, {'symbol': 'BADGERBTC', 'price': '0.00000903'}, {'symbol': 'BADGERBUSD', 'price': '2.07900000'}, {'symbol': 'BADGERUSDT', 'price': '0.76200000'}, {'symbol': 'FISBTC', 'price': '0.00000205'}, {'symbol': 'FISBUSD', 'price': '0.24380000'}, {'symbol': 'FISUSDT', 'price': '0.21390000'}, {'symbol': 'DOTBRL', 'price': '28.52000000'}, {'symbol': 'ADAAUD', 'price': '0.50540000'}, {'symbol': 'HOTTRY', 'price': '0.04530000'}, {'symbol': 'EGLDEUR', 'price': '17.09000000'}, {'symbol': 'OMBTC', 'price': '0.00000414'}, {'symbol': 'OMBUSD', 'price': '0.01891000'}, {'symbol': 'OMUSDT', 'price': '0.43210000'}, {'symbol': 'PONDBTC', 'price': '0.00000010'}, {'symbol': 'PONDBUSD', 'price': '0.00936000'}, {'symbol': 'PONDUSDT', 'price': '0.01075000'}, {'symbol': 'DEGOBTC', 'price': '0.00003540'}, {'symbol': 'DEGOBUSD', 'price': '1.34700000'}, {'symbol': 'DEGOUSDT', 'price': '1.96800000'}, {'symbol': 'AVAXEUR', 'price': '21.86000000'}, {'symbol': 'BTTTRY', 'price': '0.00000000'}, {'symbol': 'CHZBRL', 'price': '0.30210000'}, {'symbol': 'UNIEUR', 'price': '4.85600000'}, {'symbol': 'ALICEBTC', 'price': '0.00000631'}, {'symbol': 'ALICEBUSD', 'price': '0.72600000'}, {'symbol': 'ALICEUSDT', 'price': '0.53600000'}, {'symbol': 'CHZBUSD', 'price': '0.07460000'}, {'symbol': 'CHZEUR', 'price': '0.05300000'}, {'symbol': 'CHZGBP', 'price': '0.05720000'}, {'symbol': 'BIFIBNB', 'price': '0.00000000'}, {'symbol': 'BIFIBUSD', 'price': '359.60000000'}, {'symbol': 'LINABTC', 'price': '0.00000008'}, {'symbol': 'LINABUSD', 'price': '0.01013100'}, {'symbol': 'LINAUSDT', 'price': '0.00033700'}, {'symbol': 'ADARUB', 'price': '34.49000000'}, {'symbol': 'ENJBRL', 'price': '1.32800000'}, {'symbol': 'ENJEUR', 'price': '0.19460000'}, {'symbol': 'MATICEUR', 'price': '0.34440000'}, {'symbol': 'NEOTRY', 'price': '269.20000000'}, {'symbol': 'PERPBTC', 'price': '0.00000430'}, {'symbol': 'PERPBUSD', 'price': '0.54698000'}, {'symbol': 'PERPUSDT', 'price': '0.34710000'}, {'symbol': 'RAMPBTC', 'price': '0.00000000'}, {'symbol': 'RAMPBUSD', 'price': '0.00000000'}, {'symbol': 'RAMPUSDT', 'price': '0.00000000'}, {'symbol': 'SUPERBTC', 'price': '0.00000830'}, {'symbol': 'SUPERBUSD', 'price': '0.07270000'}, {'symbol': 'SUPERUSDT', 'price': '0.86630000'}, {'symbol': 'CFXBTC', 'price': '0.00000095'}, {'symbol': 'CFXBUSD', 'price': '0.15400000'}, {'symbol': 'CFXUSDT', 'price': '0.09920000'}, {'symbol': 'ENJGBP', 'price': '0.36760000'}, {'symbol': 'EOSTRY', 'price': '35.22000000'}, {'symbol': 'LTCGBP', 'price': '63.56000000'}, {'symbol': 'LUNAEUR', 'price': '0.00000000'}, {'symbol': 'RVNTRY', 'price': '0.51390000'}, {'symbol': 'THETAEUR', 'price': '0.61400000'}, {'symbol': 'XVGBUSD', 'price': '0.00365100'}, {'symbol': 'EPSBTC', 'price': '0.00000000'}, {'symbol': 'EPSBUSD', 'price': '0.00000000'}, {'symbol': 'EPSUSDT', 'price': '0.00000000'}, {'symbol': 'AUTOBTC', 'price': '0.00324000'}, {'symbol': 'AUTOBUSD', 'price': '95.10000000'}, {'symbol': 'AUTOUSDT', 'price': '95.30000000'}, {'symbol': 'TKOBTC', 'price': '0.00000397'}, {'symbol': 'TKOBIDR', 'price': '3360.00'}, {'symbol': 'TKOBUSD', 'price': '0.20820000'}, {'symbol': 'TKOUSDT', 'price': '0.19170000'}, {'symbol': 'PUNDIXETH', 'price': '0.00016660'}, {'symbol': 'PUNDIXUSDT', 'price': '0.47640000'}, {'symbol': 'BTTBRL', 'price': '0.00000000'}, {'symbol': 'BTTEUR', 'price': '0.00000000'}, {'symbol': 'HOTEUR', 'price': '0.00178900'}, {'symbol': 'WINEUR', 'price': '0.00005440'}, {'symbol': 'TLMBTC', 'price': '0.00000006'}, {'symbol': 'TLMBUSD', 'price': '0.00941000'}, {'symbol': 'TLMUSDT', 'price': '0.00634000'}, {'symbol': '1INCHUPUSDT', 'price': '0.00000000'}, {'symbol': '1INCHDOWNUSDT', 'price': '0.00000000'}, {'symbol': 'BTGBUSD', 'price': '17.62000000'}, {'symbol': 'BTGUSDT', 'price': '17.65000000'}, {'symbol': 'HOTBUSD', 'price': '0.00105800'}, {'symbol': 'BNBUAH', 'price': '26372.00000000'}, {'symbol': 'ONTTRY', 'price': '6.52800000'}, {'symbol': 'VETEUR', 'price': '0.02749000'}, {'symbol': 'VETGBP', 'price': '0.01430000'}, {'symbol': 'WINBRL', 'price': '0.00065760'}, {'symbol': 'MIRBTC', 'price': '0.00000838'}, {'symbol': 'MIRBUSD', 'price': '0.13237000'}, {'symbol': 'MIRUSDT', 'price': '0.14168000'}, {'symbol': 'BARBTC', 'price': '0.00014100'}, {'symbol': 'BARBUSD', 'price': '2.53300000'}, {'symbol': 'BARUSDT', 'price': '2.10600000'}, {'symbol': 'FORTHBTC', 'price': '0.00002951'}, {'symbol': 'FORTHBUSD', 'price': '3.02700000'}, {'symbol': 'FORTHUSDT', 'price': '3.07600000'}, {'symbol': 'CAKEGBP', 'price': '2.71400000'}, {'symbol': 'DOGERUB', 'price': '6.94000000'}, {'symbol': 'HOTBRL', 'price': '0.00000000'}, {'symbol': 'WRXEUR', 'price': '0.00000000'}, {'symbol': 'EZBTC', 'price': '0.00000000'}, {'symbol': 'EZETH', 'price': '0.00000000'}, {'symbol': 'BAKEUSDT', 'price': '0.14780000'}, {'symbol': 'BURGERBUSD', 'price': '0.32080000'}, {'symbol': 'BURGERUSDT', 'price': '0.01720000'}, {'symbol': 'SLPBUSD', 'price': '0.00148700'}, {'symbol': 'SLPUSDT', 'price': '0.00194300'}, {'symbol': 'TRXAUD', 'price': '0.00000000'}, {'symbol': 'TRXEUR', 'price': '0.23240000'}, {'symbol': 'VETTRY', 'price': '1.19290000'}, {'symbol': 'SHIBUSDT', 'price': '0.00001592'}, {'symbol': 'SHIBBUSD', 'price': '0.00000931'}, {'symbol': 'ICPBTC', 'price': '0.00005370'}, {'symbol': 'ICPBNB', 'price': '0.01680000'}, {'symbol': 'ICPBUSD', 'price': '3.89700000'}, {'symbol': 'ICPUSDT', 'price': '5.60200000'}, {'symbol': 'SHIBEUR', 'price': '0.00001413'}, {'symbol': 'SHIBRUB', 'price': '0.00000000'}, {'symbol': 'ETCEUR', 'price': '20.00000000'}, {'symbol': 'ETCBRL', 'price': '0.00000000'}, {'symbol': 'DOGEBIDR', 'price': '955.00'}, {'symbol': 'ARBTC', 'price': '0.00007980'}, {'symbol': 'ARBNB', 'price': '0.02183000'}, {'symbol': 'ARBUSD', 'price': '3.85200000'}, {'symbol': 'ARUSDT', 'price': '8.31000000'}, {'symbol': 'POLSBTC', 'price': '0.00001859'}, {'symbol': 'POLSBNB', 'price': '0.00265000'}, {'symbol': 'POLSBUSD', 'price': '0.25670000'}, {'symbol': 'POLSUSDT', 'price': '0.30790000'}, {'symbol': 'MDXBTC', 'price': '0.00000077'}, {'symbol': 'MDXBNB', 'price': '0.00000000'}, {'symbol': 'MDXBUSD', 'price': '0.06440000'}, {'symbol': 'MDXUSDT', 'price': '0.03450000'}, {'symbol': 'MASKBNB', 'price': '0.00216500'}, {'symbol': 'MASKBUSD', 'price': '3.58700000'}, {'symbol': 'MASKUSDT', 'price': '1.42700000'}, {'symbol': 'LPTBTC', 'price': '0.00005700'}, {'symbol': 'LPTBNB', 'price': '0.00904000'}, {'symbol': 'LPTBUSD', 'price': '6.16000000'}, {'symbol': 'LPTUSDT', 'price': '5.93900000'}, {'symbol': 'ETHUAH', 'price': '97990.00000000'}, {'symbol': 'MATICBRL', 'price': '2.12500000'}, {'symbol': 'SOLEUR', 'price': '154.45000000'}, {'symbol': 'SHIBBRL', 'price': '0.00009042'}, {'symbol': 'AGIXBTC', 'price': '0.00000969'}, {'symbol': 'ICPEUR', 'price': '4.93300000'}, {'symbol': 'MATICGBP', 'price': '0.81900000'}, {'symbol': 'SHIBTRY', 'price': '0.00061480'}, {'symbol': 'MATICBIDR', 'price': '8382.00'}, {'symbol': 'MATICRUB', 'price': '76.47000000'}, {'symbol': 'NUBTC', 'price': '0.00000000'}, {'symbol': 'NUBNB', 'price': '0.00000000'}, {'symbol': 'NUBUSD', 'price': '0.00000000'}, {'symbol': 'NUUSDT', 'price': '0.00000000'}, {'symbol': 'XVGUSDT', 'price': '0.00612200'}, {'symbol': 'RLCBUSD', 'price': '0.00000000'}, {'symbol': 'CELRBUSD', 'price': '0.01148000'}, {'symbol': 'ATMBUSD', 'price': '2.42000000'}, {'symbol': 'ZENBUSD', 'price': '7.19000000'}, {'symbol': 'FTMBUSD', 'price': '0.42180000'}, {'symbol': 'THETABUSD', 'price': '0.61600000'}, {'symbol': 'WINBUSD', 'price': '0.00006940'}, {'symbol': 'KAVABUSD', 'price': '0.62400000'}, {'symbol': 'XEMBUSD', 'price': '0.00000000'}, {'symbol': 'ATABTC', 'price': '0.00000068'}, {'symbol': 'ATABNB', 'price': '0.00036900'}, {'symbol': 'ATABUSD', 'price': '0.07920000'}, {'symbol': 'ATAUSDT', 'price': '0.07010000'}, {'symbol': 'GTCBTC', 'price': '0.00000688'}, {'symbol': 'GTCBNB', 'price': '0.00000000'}, {'symbol': 'GTCBUSD', 'price': '0.95200000'}, {'symbol': 'GTCUSDT', 'price': '0.34500000'}, {'symbol': 'TORNBTC', 'price': '0.00023980'}, {'symbol': 'TORNBNB', 'price': '0.00000000'}, {'symbol': 'TORNBUSD', 'price': '1.69000000'}, {'symbol': 'TORNUSDT', 'price': '4.06000000'}, {'symbol': 'MATICTRY', 'price': '12.92000000'}, {'symbol': 'ETCGBP', 'price': '0.00000000'}, {'symbol': 'SOLGBP', 'price': '88.08000000'}, {'symbol': 'BAKEBTC', 'price': '0.00000141'}, {'symbol': 'COTIBUSD', 'price': '0.03732000'}, {'symbol': 'KEEPBTC', 'price': '0.00000000'}, {'symbol': 'KEEPBNB', 'price': '0.00000000'}, {'symbol': 'KEEPBUSD', 'price': '0.00000000'}, {'symbol': 'KEEPUSDT', 'price': '0.00000000'}, {'symbol': 'SOLTRY', 'price': '6715.80000000'}, {'symbol': 'RUNEGBP', 'price': '1.27800000'}, {'symbol': 'SOLBRL', 'price': '990.80000000'}, {'symbol': 'SCBUSD', 'price': '0.00366400'}, {'symbol': 'CHRBUSD', 'price': '0.10850000'}, {'symbol': 'STMXBUSD', 'price': '0.00585100'}, {'symbol': 'HNTBUSD', 'price': '1.22800000'}, {'symbol': 'FTTBUSD', 'price': '1.13000000'}, {'symbol': 'DOCKBUSD', 'price': '0.01527000'}, {'symbol': 'ADABIDR', 'price': '3965.00'}, {'symbol': 'ERNBNB', 'price': '0.00669000'}, {'symbol': 'ERNBUSD', 'price': '1.47100000'}, {'symbol': 'ERNUSDT', 'price': '2.18300000'}, {'symbol': 'KLAYBTC', 'price': '0.00000185'}, {'symbol': 'KLAYBNB', 'price': '0.00061800'}, {'symbol': 'KLAYBUSD', 'price': '0.13540000'}, {'symbol': 'KLAYUSDT', 'price': '0.12550000'}, {'symbol': 'RUNEEUR', 'price': '3.76200000'}, {'symbol': 'MATICAUD', 'price': '1.21410000'}, {'symbol': 'DOTRUB', 'price': '493.50000000'}, {'symbol': 'UTKBUSD', 'price': '0.05610000'}, {'symbol': 'IOTXBUSD', 'price': '0.02148000'}, {'symbol': 'PHAUSDT', 'price': '0.13560000'}, {'symbol': 'SOLRUB', 'price': '5467.00000000'}, {'symbol': 'RUNEAUD', 'price': '0.00000000'}, {'symbol': 'BUSDUAH', 'price': '41.12000000'}, {'symbol': 'BONDBTC', 'price': '0.00003108'}, {'symbol': 'BONDBNB', 'price': '0.00000000'}, {'symbol': 'BONDBUSD', 'price': '4.26200000'}, {'symbol': 'BONDUSDT', 'price': '2.15200000'}, {'symbol': 'MLNBTC', 'price': '0.00011280'}, {'symbol': 'MLNBNB', 'price': '0.00000000'}, {'symbol': 'MLNBUSD', 'price': '15.73000000'}, {'symbol': 'MLNUSDT', 'price': '9.77000000'}, {'symbol': 'GRTTRY', 'price': '4.59400000'}, {'symbol': 'CAKEBRL', 'price': '0.00000000'}, {'symbol': 'ICPRUB', 'price': '0.00000000'}, {'symbol': 'DOTAUD', 'price': '6.63100000'}, {'symbol': 'AAVEBRL', 'price': '0.00000000'}, {'symbol': 'EOSAUD', 'price': '0.00000000'}, {'symbol': 'DEXEUSDT', 'price': '13.89700000'}, {'symbol': 'LTOBUSD', 'price': '0.05590000'}, {'symbol': 'ADXBUSD', 'price': '0.13340000'}, {'symbol': 'QUICKBTC', 'price': '0.00000074'}, {'symbol': 'QUICKBNB', 'price': '0.00000000'}, {'symbol': 'QUICKBUSD', 'price': '74.10000000'}, {'symbol': 'C98USDT', 'price': '0.07210000'}, {'symbol': 'C98BUSD', 'price': '0.13430000'}, {'symbol': 'C98BNB', 'price': '0.00080500'}, {'symbol': 'C98BTC', 'price': '0.00000162'}, {'symbol': 'CLVBTC', 'price': '0.00000029'}, {'symbol': 'CLVBNB', 'price': '0.00026430'}, {'symbol': 'CLVBUSD', 'price': '0.03282000'}, {'symbol': 'CLVUSDT', 'price': '0.02937000'}, {'symbol': 'QNTBTC', 'price': '0.00092800'}, {'symbol': 'QNTBNB', 'price': '0.40150000'}, {'symbol': 'QNTBUSD', 'price': '85.50000000'}, {'symbol': 'QNTUSDT', 'price': '96.80000000'}, {'symbol': 'FLOWBTC', 'price': '0.00000432'}, {'symbol': 'FLOWBNB', 'price': '0.00247400'}, {'symbol': 'FLOWBUSD', 'price': '0.51300000'}, {'symbol': 'FLOWUSDT', 'price': '0.45000000'}, {'symbol': 'XECBUSD', 'price': '0.00003100'}, {'symbol': 'AXSBRL', 'price': '38.36000000'}, {'symbol': 'AXSAUD', 'price': '8.66000000'}, {'symbol': 'TVKUSDT', 'price': '0.05405000'}, {'symbol': 'MINABTC', 'price': '0.00000271'}, {'symbol': 'MINABNB', 'price': '0.00166600'}, {'symbol': 'MINABUSD', 'price': '0.37790000'}, {'symbol': 'MINAUSDT', 'price': '0.28260000'}, {'symbol': 'RAYBNB', 'price': '0.00386800'}, {'symbol': 'RAYBUSD', 'price': '0.17010000'}, {'symbol': 'RAYUSDT', 'price': '3.14300000'}, {'symbol': 'FARMBTC', 'price': '0.00075100'}, {'symbol': 'FARMBNB', 'price': '0.00000000'}, {'symbol': 'FARMBUSD', 'price': '21.12000000'}, {'symbol': 'FARMUSDT', 'price': '36.65000000'}, {'symbol': 'ALPACABTC', 'price': '0.00000234'}, {'symbol': 'ALPACABNB', 'price': '0.00000000'}, {'symbol': 'ALPACABUSD', 'price': '0.14390000'}, {'symbol': 'ALPACAUSDT', 'price': '0.22440000'}, {'symbol': 'TLMTRY', 'price': '0.24480000'}, {'symbol': 'QUICKUSDT', 'price': '0.02592000'}, {'symbol': 'ORNBUSD', 'price': '0.55190000'}, {'symbol': 'MBOXBTC', 'price': '0.00000102'}, {'symbol': 'MBOXBNB', 'price': '0.00069200'}, {'symbol': 'MBOXBUSD', 'price': '0.20900000'}, {'symbol': 'MBOXUSDT', 'price': '0.07140000'}, {'symbol': 'VGXBTC', 'price': '0.00002524'}, {'symbol': 'VGXETH', 'price': '0.00034800'}, {'symbol': 'FORUSDT', 'price': '0.00306000'}, {'symbol': 'REQUSDT', 'price': '0.15040000'}, {'symbol': 'GHSTUSDT', 'price': '0.58200000'}, {'symbol': 'TRURUB', 'price': '2.98000000'}, {'symbol': 'FISBRL', 'price': '1.78100000'}, {'symbol': 'WAXPUSDT', 'price': '0.02655000'}, {'symbol': 'WAXPBUSD', 'price': '0.04170000'}, {'symbol': 'WAXPBNB', 'price': '0.00017060'}, {'symbol': 'WAXPBTC', 'price': '0.00000026'}, {'symbol': 'TRIBEBTC', 'price': '0.00000000'}, {'symbol': 'TRIBEBNB', 'price': '0.00000000'}, {'symbol': 'TRIBEBUSD', 'price': '0.20570000'}, {'symbol': 'TRIBEUSDT', 'price': '0.20180000'}, {'symbol': 'GNOUSDT', 'price': '138.30000000'}, {'symbol': 'GNOBUSD', 'price': '0.00000000'}, {'symbol': 'GNOBNB', 'price': '0.00000000'}, {'symbol': 'GNOBTC', 'price': '0.00000000'}, {'symbol': 'ARPATRY', 'price': '1.07330000'}, {'symbol': 'PROMBTC', 'price': '0.00008960'}, {'symbol': 'MTLBUSD', 'price': '1.35300000'}, {'symbol': 'OGNBUSD', 'price': '0.11290000'}, {'symbol': 'XECUSDT', 'price': '0.00002447'}, {'symbol': 'C98BRL', 'price': '1.30800000'}, {'symbol': 'SOLAUD', 'price': '28.48000000'}, {'symbol': 'XRPBIDR', 'price': '7835.00'}, {'symbol': 'POLYBUSD', 'price': '0.27000000'}, {'symbol': 'ELFUSDT', 'price': '0.22720000'}, {'symbol': 'DYDXUSDT', 'price': '0.71660000'}, {'symbol': 'DYDXBUSD', 'price': '3.77100000'}, {'symbol': 'DYDXBNB', 'price': '0.00333300'}, {'symbol': 'DYDXBTC', 'price': '0.00000685'}, {'symbol': 'ELFBUSD', 'price': '0.34030000'}, {'symbol': 'POLYUSDT', 'price': '0.26960000'}, {'symbol': 'IDEXUSDT', 'price': '0.02797000'}, {'symbol': 'VIDTUSDT', 'price': '0.00115000'}, {'symbol': 'SOLBIDR', 'price': '311087.00'}, {'symbol': 'AXSBIDR', 'price': '72500.00'}, {'symbol': 'BTCUSDP', 'price': '19435.03000000'}, {'symbol': 'ETHUSDP', 'price': '1344.37000000'}, {'symbol': 'BNBUSDP', 'price': '282.09000000'}, {'symbol': 'USDPBUSD', 'price': '1.00000000'}, {'symbol': 'USDPUSDT', 'price': '1.00000000'}, {'symbol': 'GALAUSDT', 'price': '0.02195000'}, {'symbol': 'GALABUSD', 'price': '0.02957000'}, {'symbol': 'GALABNB', 'price': '0.00002877'}, {'symbol': 'GALABTC', 'price': '0.00000021'}, {'symbol': 'FTMBIDR', 'price': '3413.00'}, {'symbol': 'ALGOBIDR', 'price': '0.00'}, {'symbol': 'CAKEAUD', 'price': '0.00000000'}, {'symbol': 'KSMAUD', 'price': '0.00000000'}, {'symbol': 'WAVESRUB', 'price': '0.00000000'}, {'symbol': 'SUNBUSD', 'price': '0.00544000'}, {'symbol': 'ILVUSDT', 'price': '16.68000000'}, {'symbol': 'ILVBUSD', 'price': '39.06000000'}, {'symbol': 'ILVBNB', 'price': '0.17900000'}, {'symbol': 'ILVBTC', 'price': '0.00015900'}, {'symbol': 'RENBUSD', 'price': '0.04539800'}, {'symbol': 'YGGUSDT', 'price': '0.23540000'}, {'symbol': 'YGGBUSD', 'price': '0.40530000'}, {'symbol': 'YGGBNB', 'price': '0.00068700'}, {'symbol': 'YGGBTC', 'price': '0.00000226'}, {'symbol': 'STXBUSD', 'price': '0.67560000'}, {'symbol': 'SYSUSDT', 'price': '0.06170000'}, {'symbol': 'DFUSDT', 'price': '0.05096000'}, {'symbol': 'SOLUSDC', 'price': '173.92000000'}, {'symbol': 'ARPARUB', 'price': '4.92800000'}, {'symbol': 'LTCUAH', 'price': '3191.00000000'}, {'symbol': 'FETBUSD', 'price': '0.49150000'}, {'symbol': 'ARPABUSD', 'price': '0.04660000'}, {'symbol': 'LSKBUSD', 'price': '0.84400000'}, {'symbol': 'AVAXBIDR', 'price': '266752.00'}, {'symbol': 'ALICEBIDR', 'price': '29103.00'}, {'symbol': 'FIDAUSDT', 'price': '0.07850000'}, {'symbol': 'FIDABUSD', 'price': '0.17820000'}, {'symbol': 'FIDABNB', 'price': '0.00000000'}, {'symbol': 'FIDABTC', 'price': '0.00000075'}, {'symbol': 'DENTBUSD', 'price': '0.00070700'}, {'symbol': 'FRONTUSDT', 'price': '0.88000000'}, {'symbol': 'CVPUSDT', 'price': '0.03390000'}, {'symbol': 'AGLDBTC', 'price': '0.00001028'}, {'symbol': 'AGLDBNB', 'price': '0.00000000'}, {'symbol': 'AGLDBUSD', 'price': '0.82700000'}, {'symbol': 'AGLDUSDT', 'price': '1.07000000'}, {'symbol': 'RADBTC', 'price': '0.00001387'}, {'symbol': 'RADBNB', 'price': '0.01032000'}, {'symbol': 'RADBUSD', 'price': '1.32100000'}, {'symbol': 'RADUSDT', 'price': '0.84600000'}, {'symbol': 'UNIAUD', 'price': '0.00000000'}, {'symbol': 'HIVEBUSD', 'price': '0.27580000'}, {'symbol': 'STPTBUSD', 'price': '0.04185000'}, {'symbol': 'BETABTC', 'price': '0.00000067'}, {'symbol': 'BETABNB', 'price': '0.00033500'}, {'symbol': 'BETABUSD', 'price': '0.06354000'}, {'symbol': 'BETAUSDT', 'price': '0.00036000'}, {'symbol': 'SHIBAUD', 'price': '0.00001121'}, {'symbol': 'RAREBTC', 'price': '0.00000070'}, {'symbol': 'RAREBNB', 'price': '0.00069100'}, {'symbol': 'RAREBUSD', 'price': '0.05960000'}, {'symbol': 'RAREUSDT', 'price': '0.07210000'}, {'symbol': 'AVAXBRL', 'price': '140.20000000'}, {'symbol': 'AVAXAUD', 'price': '17.91000000'}, {'symbol': 'LUNAAUD', 'price': '0.00000000'}, {'symbol': 'TROYBUSD', 'price': '0.00226900'}, {'symbol': 'AXSETH', 'price': '0.00124200'}, {'symbol': 'FTMETH', 'price': '0.00021480'}, {'symbol': 'SOLETH', 'price': '0.06936000'}, {'symbol': 'SSVBTC', 'price': '0.00009280'}, {'symbol': 'SSVETH', 'price': '0.00387400'}, {'symbol': 'LAZIOTRY', 'price': '42.93000000'}, {'symbol': 'LAZIOEUR', 'price': '2.54800000'}, {'symbol': 'LAZIOBTC', 'price': '0.00003995'}, {'symbol': 'LAZIOUSDT', 'price': '1.11100000'}, {'symbol': 'CHESSBTC', 'price': '0.00000272'}, {'symbol': 'CHESSBNB', 'price': '0.00000000'}, {'symbol': 'CHESSBUSD', 'price': '0.12000000'}, {'symbol': 'CHESSUSDT', 'price': '0.07730000'}, {'symbol': 'FTMAUD', 'price': '0.42000000'}, {'symbol': 'FTMBRL', 'price': '1.92300000'}, {'symbol': 'SCRTBUSD', 'price': '0.26290000'}, {'symbol': 'ADXUSDT', 'price': '0.11390000'}, {'symbol': 'AUCTIONUSDT', 'price': '13.42000000'}, {'symbol': 'CELOBUSD', 'price': '0.47000000'}, {'symbol': 'FTMRUB', 'price': '36.85000000'}, {'symbol': 'NUAUD', 'price': '0.00000000'}, {'symbol': 'NURUB', 'price': '0.00000000'}, {'symbol': 'REEFTRY', 'price': '0.02349000'}, {'symbol': 'REEFBIDR', 'price': '0.00'}, {'symbol': 'SHIBDOGE', 'price': '0.00006810'}, {'symbol': 'DARUSDT', 'price': '0.21707000'}, {'symbol': 'DARBUSD', 'price': '0.07995000'}, {'symbol': 'DARBNB', 'price': '0.00037248'}, {'symbol': 'DARBTC', 'price': '0.00000157'}, {'symbol': 'BNXBTC', 'price': '0.00000384'}, {'symbol': 'BNXBNB', 'price': '0.00122700'}, {'symbol': 'BNXBUSD', 'price': '0.27430000'}, {'symbol': 'BNXUSDT', 'price': '1.78190000'}, {'symbol': 'RGTUSDT', 'price': '0.00000000'}, {'symbol': 'RGTBTC', 'price': '0.00000000'}, {'symbol': 'RGTBUSD', 'price': '0.00000000'}, {'symbol': 'RGTBNB', 'price': '0.00000000'}, {'symbol': 'LAZIOBUSD', 'price': '1.64400000'}, {'symbol': 'OXTBUSD', 'price': '0.05130000'}, {'symbol': 'MANATRY', 'price': '14.14000000'}, {'symbol': 'ALGORUB', 'price': '12.60000000'}, {'symbol': 'SHIBUAH', 'price': '0.00000000'}, {'symbol': 'LUNABIDR', 'price': '0.00'}, {'symbol': 'AUDUSDC', 'price': '0.64770000'}, {'symbol': 'MOVRBTC', 'price': '0.00007600'}, {'symbol': 'MOVRBNB', 'price': '0.00000000'}, {'symbol': 'MOVRBUSD', 'price': '3.69000000'}, {'symbol': 'MOVRUSDT', 'price': '8.01100000'}, {'symbol': 'CITYBTC', 'price': '0.00006030'}, {'symbol': 'CITYBNB', 'price': '0.01454000'}, {'symbol': 'CITYBUSD', 'price': '2.96400000'}, {'symbol': 'CITYUSDT', 'price': '1.23500000'}, {'symbol': 'ENSBTC', 'price': '0.00022500'}, {'symbol': 'ENSBNB', 'price': '0.03091000'}, {'symbol': 'ENSBUSD', 'price': '6.96000000'}, {'symbol': 'ENSUSDT', 'price': '23.46000000'}, {'symbol': 'SANDETH', 'price': '0.00014660'}, {'symbol': 'DOTETH', 'price': '0.00201100'}, {'symbol': 'MATICETH', 'price': '0.00016160'}, {'symbol': 'ANKRBUSD', 'price': '0.01906000'}, {'symbol': 'SANDTRY', 'price': '13.60000000'}, {'symbol': 'MANABRL', 'price': '1.66100000'}, {'symbol': 'KP3RUSDT', 'price': '16.48000000'}, {'symbol': 'QIUSDT', 'price': '0.00946000'}, {'symbol': 'QIBUSD', 'price': '0.00507000'}, {'symbol': 'QIBNB', 'price': '0.00000000'}, {'symbol': 'QIBTC', 'price': '0.00000012'}, {'symbol': 'PORTOBTC', 'price': '0.00002103'}, {'symbol': 'PORTOUSDT', 'price': '1.16400000'}, {'symbol': 'PORTOTRY', 'price': '44.87000000'}, {'symbol': 'PORTOEUR', 'price': '2.71500000'}, {'symbol': 'POWRUSDT', 'price': '0.19930000'}, {'symbol': 'POWRBUSD', 'price': '0.15040000'}, {'symbol': 'AVAXETH', 'price': '0.00985000'}, {'symbol': 'SLPTRY', 'price': '0.07502000'}, {'symbol': 'FISTRY', 'price': '0.00000000'}, {'symbol': 'LRCTRY', 'price': '4.62200000'}, {'symbol': 'CHRETH', 'price': '0.00007080'}, {'symbol': 'FISBIDR', 'price': '0.00'}, {'symbol': 'VGXUSDT', 'price': '0.01800000'}, {'symbol': 'GALAETH', 'price': '0.00000875'}, {'symbol': 'JASMYUSDT', 'price': '0.01873000'}, {'symbol': 'JASMYBUSD', 'price': '0.00359300'}, {'symbol': 'JASMYBNB', 'price': '0.00001767'}, {'symbol': 'JASMYBTC', 'price': '0.00000017'}, {'symbol': 'AMPBTC', 'price': '0.00000010'}, {'symbol': 'AMPBNB', 'price': '0.00000000'}, {'symbol': 'AMPBUSD', 'price': '0.00142900'}, {'symbol': 'AMPUSDT', 'price': '0.00447400'}, {'symbol': 'PLABTC', 'price': '0.00000465'}, {'symbol': 'PLABNB', 'price': '0.00069680'}, {'symbol': 'PLABUSD', 'price': '0.14770000'}, {'symbol': 'PLAUSDT', 'price': '0.23470000'}, {'symbol': 'PYRBTC', 'price': '0.00001273'}, {'symbol': 'PYRBUSD', 'price': '3.90300000'}, {'symbol': 'PYRUSDT', 'price': '1.32500000'}, {'symbol': 'RNDRBTC', 'price': '0.00010320'}, {'symbol': 'RNDRUSDT', 'price': '7.03000000'}, {'symbol': 'RNDRBUSD', 'price': '3.04000000'}, {'symbol': 'ALCXBTC', 'price': '0.00023730'}, {'symbol': 'ALCXBUSD', 'price': '10.73000000'}, {'symbol': 'ALCXUSDT', 'price': '10.91000000'}, {'symbol': 'SANTOSBTC', 'price': '0.00002585'}, {'symbol': 'SANTOSUSDT', 'price': '2.70200000'}, {'symbol': 'SANTOSBRL', 'price': '20.00000000'}, {'symbol': 'SANTOSTRY', 'price': '104.25000000'}, {'symbol': 'MCBTC', 'price': '0.00001400'}, {'symbol': 'MCBUSD', 'price': '0.26570000'}, {'symbol': 'MCUSDT', 'price': '0.48610000'}, {'symbol': 'BELTRY', 'price': '14.69000000'}, {'symbol': 'COCOSBUSD', 'price': '1.75890000'}, {'symbol': 'DENTTRY', 'price': '0.03715000'}, {'symbol': 'ENJTRY', 'price': '3.67700000'}, {'symbol': 'NEORUB', 'price': '734.00000000'}, {'symbol': 'SANDAUD', 'price': '0.63590000'}, {'symbol': 'SLPBIDR', 'price': '32.30'}, {'symbol': 'ANYBTC', 'price': '0.00000000'}, {'symbol': 'ANYBUSD', 'price': '0.00000000'}, {'symbol': 'ANYUSDT', 'price': '0.00000000'}, {'symbol': 'BICOBTC', 'price': '0.00000140'}, {'symbol': 'BICOBUSD', 'price': '0.25140000'}, {'symbol': 'BICOUSDT', 'price': '0.14590000'}, {'symbol': 'FLUXBTC', 'price': '0.00000349'}, {'symbol': 'FLUXBUSD', 'price': '0.32650000'}, {'symbol': 'FLUXUSDT', 'price': '0.36190000'}, {'symbol': 'ALICETRY', 'price': '20.69000000'}, {'symbol': 'FXSUSDT', 'price': '2.68700000'}, {'symbol': 'GALABRL', 'price': '0.12490000'}, {'symbol': 'GALATRY', 'price': '0.84770000'}, {'symbol': 'LUNATRY', 'price': '8.43000000'}, {'symbol': 'REQBUSD', 'price': '0.06330000'}, {'symbol': 'SANDBRL', 'price': '1.80700000'}, {'symbol': 'MANABIDR', 'price': '10781.00'}, {'symbol': 'SANDBIDR', 'price': '6598.00'}, {'symbol': 'VOXELBTC', 'price': '0.00000216'}, {'symbol': 'VOXELBNB', 'price': '0.00069340'}, {'symbol': 'VOXELBUSD', 'price': '0.13250000'}, {'symbol': 'VOXELUSDT', 'price': '0.08810000'}, {'symbol': 'COSBUSD', 'price': '0.00517000'}, {'symbol': 'CTXCBUSD', 'price': '0.11500000'}, {'symbol': 'FTMTRY', 'price': '24.82000000'}, {'symbol': 'MANABNB', 'price': '0.00155000'}, {'symbol': 'MINATRY', 'price': '10.92000000'}, {'symbol': 'XTZTRY', 'price': '29.03000000'}, {'symbol': 'HIGHBTC', 'price': '0.00001415'}, {'symbol': 'HIGHBUSD', 'price': '1.42100000'}, {'symbol': 'HIGHUSDT', 'price': '0.77500000'}, {'symbol': 'CVXBTC', 'price': '0.00008550'}, {'symbol': 'CVXBUSD', 'price': '2.59700000'}, {'symbol': 'CVXUSDT', 'price': '3.49300000'}, {'symbol': 'PEOPLEBTC', 'price': '0.00000020'}, {'symbol': 'PEOPLEBUSD', 'price': '0.00950000'}, {'symbol': 'PEOPLEUSDT', 'price': '0.02074000'}, {'symbol': 'OOKIBUSD', 'price': '0.00162900'}, {'symbol': 'OOKIUSDT', 'price': '0.00011900'}, {'symbol': 'COCOSTRY', 'price': '36.66000000'}, {'symbol': 'GXSBNB', 'price': '0.00000000'}, {'symbol': 'LINKBNB', 'price': '0.02522000'}, {'symbol': 'LUNAETH', 'price': '0.00000000'}, {'symbol': 'MDTBUSD', 'price': '0.04578000'}, {'symbol': 'NULSBUSD', 'price': '0.17850000'}, {'symbol': 'SPELLBTC', 'price': '0.00000000'}, {'symbol': 'SPELLUSDT', 'price': '0.00065190'}, {'symbol': 'SPELLBUSD', 'price': '0.00039730'}, {'symbol': 'USTBTC', 'price': '0.00000000'}, {'symbol': 'USTBUSD', 'price': '0.00000000'}, {'symbol': 'USTUSDT', 'price': '0.00000000'}, {'symbol': 'JOEBTC', 'price': '0.00000212'}, {'symbol': 'JOEBUSD', 'price': '0.21880000'}, {'symbol': 'JOEUSDT', 'price': '0.22110000'}, {'symbol': 'ATOMETH', 'price': '0.00208100'}, {'symbol': 'DUSKBUSD', 'price': '0.14310000'}, {'symbol': 'EGLDETH', 'price': '0.00778000'}, {'symbol': 'ICPETH', 'price': '0.00224200'}, {'symbol': 'LUNABRL', 'price': '0.00000000'}, {'symbol': 'LUNAUST', 'price': '0.00000000'}, {'symbol': 'NEARETH', 'price': '0.00128200'}, {'symbol': 'ROSEBNB', 'price': '0.00015340'}, {'symbol': 'VOXELETH', 'price': '0.00020220'}, {'symbol': 'ALICEBNB', 'price': '0.00524000'}, {'symbol': 'ATOMTRY', 'price': '200.90000000'}, {'symbol': 'ETHUST', 'price': '0.00000000'}, {'symbol': 'GALAAUD', 'price': '0.03960000'}, {'symbol': 'LRCBNB', 'price': '0.00083900'}, {'symbol': 'ONEETH', 'price': '0.00000617'}, {'symbol': 'OOKIBNB', 'price': '0.00001491'}, {'symbol': 'ACHBTC', 'price': '0.00000028'}, {'symbol': 'ACHBUSD', 'price': '0.01646000'}, {'symbol': 'ACHUSDT', 'price': '0.02919000'}, {'symbol': 'IMXBTC', 'price': '0.00000695'}, {'symbol': 'IMXBUSD', 'price': '0.65080000'}, {'symbol': 'IMXUSDT', 'price': '0.72500000'}, {'symbol': 'GLMRBTC', 'price': '0.00000094'}, {'symbol': 'GLMRBUSD', 'price': '0.20650000'}, {'symbol': 'GLMRUSDT', 'price': '0.09810000'}, {'symbol': 'ATOMBIDR', 'price': '0.00'}, {'symbol': 'DYDXETH', 'price': '0.00000000'}, {'symbol': 'FARMETH', 'price': '0.00000000'}, {'symbol': 'FORBNB', 'price': '0.00000000'}, {'symbol': 'ICPTRY', 'price': '216.30000000'}, {'symbol': 'JASMYETH', 'price': '0.00000302'}, {'symbol': 'LINABNB', 'price': '0.00000000'}, {'symbol': 'OOKIETH', 'price': '0.00000251'}, {'symbol': 'ROSEETH', 'price': '0.00001645'}, {'symbol': 'UMABUSD', 'price': '1.32700000'}, {'symbol': 'UNIETH', 'price': '0.00282400'}, {'symbol': 'XTZETH', 'price': '0.00044000'}, {'symbol': 'LOKABTC', 'price': '0.00000095'}, {'symbol': 'LOKABNB', 'price': '0.00104270'}, {'symbol': 'LOKABUSD', 'price': '0.18490000'}, {'symbol': 'LOKAUSDT', 'price': '0.09950000'}, {'symbol': 'ATOMBRL', 'price': '66.35000000'}, {'symbol': 'BNBUST', 'price': '0.00000000'}, {'symbol': 'CRVETH', 'price': '0.00020780'}, {'symbol': 'HIGHBNB', 'price': '0.00455700'}, {'symbol': 'NEARRUB', 'price': '183.40000000'}, {'symbol': 'ROSETRY', 'price': '1.45900000'}, {'symbol': 'SCRTUSDT', 'price': '0.23930000'}, {'symbol': 'API3BTC', 'price': '0.00000891'}, {'symbol': 'API3BUSD', 'price': '1.00000000'}, {'symbol': 'API3USDT', 'price': '0.93200000'}, {'symbol': 'BTTCUSDT', 'price': '0.00000080'}, {'symbol': 'BTTCUSDC', 'price': '0.00000078'}, {'symbol': 'BTTCTRY', 'price': '0.00003110'}, {'symbol': 'ACABTC', 'price': '0.00000034'}, {'symbol': 'ACABUSD', 'price': '0.04640000'}, {'symbol': 'ACAUSDT', 'price': '0.03510000'}, {'symbol': 'ANCBTC', 'price': '0.00000186'}, {'symbol': 'ANCBUSD', 'price': '0.02872000'}, {'symbol': 'ANCUSDT', 'price': '0.03151000'}, {'symbol': 'BDOTDOT', 'price': '0.99820000'}, {'symbol': 'XNOBTC', 'price': '0.00000972'}, {'symbol': 'XNOETH', 'price': '0.00050170'}, {'symbol': 'XNOBUSD', 'price': '0.66300000'}, {'symbol': 'XNOUSDT', 'price': '1.01900000'}, {'symbol': 'COSTRY', 'price': '0.15790000'}, {'symbol': 'KAVAETH', 'price': '0.00030660'}, {'symbol': 'MCBNB', 'price': '0.00069800'}, {'symbol': 'ONETRY', 'price': '0.61170000'}, {'symbol': 'WOOBTC', 'price': '0.00000064'}, {'symbol': 'WOOBNB', 'price': '0.00114100'}, {'symbol': 'WOOBUSD', 'price': '0.16450000'}, {'symbol': 'WOOUSDT', 'price': '0.09150000'}, {'symbol': 'CELRETH', 'price': '0.00000789'}, {'symbol': 'PEOPLEBNB', 'price': '0.00004675'}, {'symbol': 'SLPBNB', 'price': '0.00000884'}, {'symbol': 'SPELLBNB', 'price': '0.00000000'}, {'symbol': 'SPELLTRY', 'price': '0.02516000'}, {'symbol': 'TFUELBUSD', 'price': '0.04390000'}, {'symbol': 'AXSTRY', 'price': '120.00000000'}, {'symbol': 'DARTRY', 'price': '7.66600000'}, {'symbol': 'NEARTRY', 'price': '123.80000000'}, {'symbol': 'IDEXBNB', 'price': '0.00019820'}, {'symbol': 'ALPINEEUR', 'price': '2.19600000'}, {'symbol': 'ALPINETRY', 'price': '44.00000000'}, {'symbol': 'ALPINEUSDT', 'price': '1.14100000'}, {'symbol': 'ALPINEBTC', 'price': '0.00002994'}, {'symbol': 'TUSDT', 'price': '0.01878000'}, {'symbol': 'TBUSD', 'price': '0.02312000'}, {'symbol': 'API3BNB', 'price': '0.00000000'}, {'symbol': 'BETAETH', 'price': '0.00003349'}, {'symbol': 'INJTRY', 'price': '494.60000000'}, {'symbol': 'TLMBNB', 'price': '0.00000000'}, {'symbol': 'ASTRBUSD', 'price': '0.05000000'}, {'symbol': 'ASTRUSDT', 'price': '0.03199000'}, {'symbol': 'API3TRY', 'price': '35.96000000'}, {'symbol': 'GLMRBNB', 'price': '0.00102100'}, {'symbol': 'MBOXTRY', 'price': '2.75700000'}, {'symbol': 'NBTBIDR', 'price': '39.10'}, {'symbol': 'NBTUSDT', 'price': '0.00252000'}, {'symbol': 'GMTBTC', 'price': '0.00000061'}, {'symbol': 'GMTBNB', 'price': '0.00076900'}, {'symbol': 'GMTBUSD', 'price': '0.22700000'}, {'symbol': 'GMTUSDT', 'price': '0.06340000'}, {'symbol': 'ANCBNB', 'price': '0.00012880'}, {'symbol': 'ATOMEUR', 'price': '4.59000000'}, {'symbol': 'GALAEUR', 'price': '0.01927000'}, {'symbol': 'KSMETH', 'price': '0.02114000'}, {'symbol': 'UMATRY', 'price': '51.35000000'}, {'symbol': 'KDABTC', 'price': '0.00000617'}, {'symbol': 'KDABUSD', 'price': '0.42000000'}, {'symbol': 'KDAUSDT', 'price': '0.64300000'}, {'symbol': 'APEUSDT', 'price': '0.65500000'}, {'symbol': 'APEBUSD', 'price': '1.42300000'}, {'symbol': 'APEBTC', 'price': '0.00000627'}, {'symbol': 'ALPINEBUSD', 'price': '1.74900000'}, {'symbol': 'LUNAGBP', 'price': '0.00000000'}, {'symbol': 'NEAREUR', 'price': '2.84600000'}, {'symbol': 'TWTTRY', 'price': '34.19000000'}, {'symbol': 'WAVESEUR', 'price': '1.35400000'}, {'symbol': 'APEEUR', 'price': '1.50800000'}, {'symbol': 'APEGBP', 'price': '3.30500000'}, {'symbol': 'APETRY', 'price': '25.30000000'}, {'symbol': 'BSWUSDT', 'price': '0.03950000'}, {'symbol': 'BSWBUSD', 'price': '0.06700000'}, {'symbol': 'BSWBNB', 'price': '0.00029870'}, {'symbol': 'APEBNB', 'price': '0.00527700'}, {'symbol': 'GMTBRL', 'price': '1.32500000'}, {'symbol': 'GMTETH', 'price': '0.00010150'}, {'symbol': 'JASMYTRY', 'price': '0.72300000'}, {'symbol': 'SANTOSBUSD', 'price': '2.91700000'}, {'symbol': 'APEAUD', 'price': '4.07200000'}, {'symbol': 'BIFIUSDT', 'price': '212.70000000'}, {'symbol': 'GMTEUR', 'price': '0.05630000'}, {'symbol': 'IMXBNB', 'price': '0.00236200'}, {'symbol': 'RUNEETH', 'price': '0.00068920'}, {'symbol': 'AVAXGBP', 'price': '14.18000000'}, {'symbol': 'MULTIBTC', 'price': '0.00003673'}, {'symbol': 'MULTIBUSD', 'price': '2.09700000'}, {'symbol': 'MULTIUSDT', 'price': '0.83400000'}, {'symbol': 'APEETH', 'price': '0.00029190'}, {'symbol': 'BSWETH', 'price': '0.00013660'}, {'symbol': 'FILTRY', 'price': '121.76000000'}, {'symbol': 'FTMEUR', 'price': '0.68090000'}, {'symbol': 'GMTGBP', 'price': '0.21070000'}, {'symbol': 'ZILTRY', 'price': '0.56080000'}, {'symbol': 'GMTTRY', 'price': '2.45200000'}, {'symbol': 'WAVESTRY', 'price': '36.02000000'}, {'symbol': 'BTCUST', 'price': '0.00000000'}, {'symbol': 'ASTRBTC', 'price': '0.00000031'}, {'symbol': 'ASTRETH', 'price': '0.00003108'}, {'symbol': 'BSWTRY', 'price': '1.52900000'}, {'symbol': 'FTTETH', 'price': '0.00114100'}, {'symbol': 'FUNBNB', 'price': '0.00001888'}, {'symbol': 'PORTOBUSD', 'price': '1.75700000'}, {'symbol': 'STEEMUSDT', 'price': '0.15930000'}, {'symbol': 'ZILEUR', 'price': '0.02063000'}, {'symbol': 'APEBRL', 'price': '22.16000000'}, {'symbol': 'AUDIOTRY', 'price': '3.15000000'}, {'symbol': 'BTTCBUSD', 'price': '0.00000045'}, {'symbol': 'GMTAUD', 'price': '0.56950000'}, {'symbol': 'MBLBUSD', 'price': '0.00265800'}, {'symbol': 'MOBUSDT', 'price': '0.06230000'}, {'symbol': 'MOBBUSD', 'price': '0.55000000'}, {'symbol': 'MOBBTC', 'price': '0.00000094'}, {'symbol': 'NEXOUSDT', 'price': '1.27500000'}, {'symbol': 'NEXOBUSD', 'price': '0.62700000'}, {'symbol': 'NEXOBTC', 'price': '0.00001225'}, {'symbol': 'REIUSDT', 'price': '0.02008000'}, {'symbol': 'REIBNB', 'price': '0.00008210'}, {'symbol': 'REIETH', 'price': '0.00001928'}, {'symbol': 'GALUSDT', 'price': '2.54200000'}, {'symbol': 'GALBUSD', 'price': '1.35100000'}, {'symbol': 'GALBNB', 'price': '0.00489300'}, {'symbol': 'GALBTC', 'price': '0.00004073'}, {'symbol': 'JASMYEUR', 'price': '0.00456800'}, {'symbol': 'KNCBNB', 'price': '0.00255000'}, {'symbol': 'SHIBGBP', 'price': '0.00000696'}, {'symbol': 'GALEUR', 'price': '0.99500000'}, {'symbol': 'GALTRY', 'price': '84.24000000'}, {'symbol': 'LDOBUSD', 'price': '1.74400000'}, {'symbol': 'LDOUSDT', 'price': '1.10900000'}, {'symbol': 'LDOBTC', 'price': '0.00001059'}, {'symbol': 'ENSTRY', 'price': '904.60000000'}, {'symbol': 'DAREUR', 'price': '0.12133000'}, {'symbol': 'DARETH', 'price': '0.00010140'}, {'symbol': 'ALGOETH', 'price': '0.00004447'}, {'symbol': 'ALGOTRY', 'price': '9.34000000'}, {'symbol': 'GALETH', 'price': '0.00076200'}, {'symbol': 'EPXUSDT', 'price': '0.00001940'}, {'symbol': 'EPXBUSD', 'price': '0.00016980'}, {'symbol': 'RUNETRY', 'price': '31.38000000'}, {'symbol': 'GALBRL', 'price': '8.68000000'}, {'symbol': 'STEEMBUSD', 'price': '0.18470000'}, {'symbol': 'CVCBUSD', 'price': '0.06880000'}, {'symbol': 'REIBUSD', 'price': '0.03079000'}, {'symbol': 'DREPBUSD', 'price': '0.25360000'}, {'symbol': 'AKROBUSD', 'price': '0.00618000'}, {'symbol': 'PUNDIXBUSD', 'price': '0.33360000'}, {'symbol': 'LUNCBUSD', 'price': '0.00017100'}, {'symbol': 'USTCBUSD', 'price': '0.01326580'}, {'symbol': 'OPBTC', 'price': '0.00000839'}, {'symbol': 'OPBUSD', 'price': '1.80300000'}, {'symbol': 'OPUSDT', 'price': '0.87400000'}, {'symbol': 'OGBUSD', 'price': '4.41600000'}, {'symbol': 'KEYBUSD', 'price': '0.00543000'}, {'symbol': 'ASRBUSD', 'price': '2.15900000'}, {'symbol': 'FIROBUSD', 'price': '1.44100000'}, {'symbol': 'NKNBUSD', 'price': '0.09720000'}, {'symbol': 'OPBNB', 'price': '0.00281800'}, {'symbol': 'OPEUR', 'price': '0.77400000'}, {'symbol': 'GTOBUSD', 'price': '0.02863000'}, {'symbol': 'SNXETH', 'price': '0.00076800'}, {'symbol': 'WBTCBUSD', 'price': '40760.13000000'}, {'symbol': 'BELETH', 'price': '0.00041170'}, {'symbol': 'LITETH', 'price': '0.00035510'}, {'symbol': 'LEVERUSDT', 'price': '0.00063900'}, {'symbol': 'LEVERBUSD', 'price': '0.00130800'}, {'symbol': 'BURGERETH', 'price': '0.00045000'}, {'symbol': 'PEOPLEETH', 'price': '0.00000668'}, {'symbol': 'UNFIETH', 'price': '0.00224100'}, {'symbol': 'BONDETH', 'price': '0.00266500'}, {'symbol': 'STORJTRY', 'price': '12.79000000'}, {'symbol': 'OPETH', 'price': '0.00034700'}, {'symbol': 'ETCTRY', 'price': '765.80000000'}, {'symbol': 'WINGETH', 'price': '0.00352100'}, {'symbol': 'FILETH', 'price': '0.00125700'}, {'symbol': 'GLMBUSD', 'price': '0.17860000'}, {'symbol': 'SSVBUSD', 'price': '15.74000000'}, {'symbol': 'STGBTC', 'price': '0.00000219'}, {'symbol': 'STGBUSD', 'price': '0.41400000'}, {'symbol': 'STGUSDT', 'price': '0.22780000'}, {'symbol': 'ANKRTRY', 'price': '0.82630000'}, {'symbol': 'ARKBUSD', 'price': '0.53560000'}, {'symbol': 'BETHBUSD', 'price': '1551.73000000'}, {'symbol': 'LOOMBUSD', 'price': '0.04003000'}, {'symbol': 'SNMBUSD', 'price': '0.01470000'}, {'symbol': 'AMBBUSD', 'price': '0.00796000'}, {'symbol': 'LUNCUSDT', 'price': '0.00006823'}, {'symbol': 'PHBBUSD', 'price': '0.65880000'}, {'symbol': 'GASBUSD', 'price': '9.21600000'}, {'symbol': 'NEBLBUSD', 'price': '0.35400000'}, {'symbol': 'PROSBUSD', 'price': '0.31500000'}, {'symbol': 'VIBBUSD', 'price': '0.04217000'}, {'symbol': 'GMXBTC', 'price': '0.00033200'}, {'symbol': 'GMXBUSD', 'price': '31.67000000'}, {'symbol': 'GMXUSDT', 'price': '16.24000000'}, {'symbol': 'AGIXBUSD', 'price': '0.29947000'}, {'symbol': 'NEBLUSDT', 'price': '0.35500000'}, {'symbol': 'SNTBUSD', 'price': '0.02283000'}, {'symbol': 'POLYXBTC', 'price': '0.00000159'}, {'symbol': 'POLYXBUSD', 'price': '0.12170000'}, {'symbol': 'POLYXUSDT', 'price': '0.16650000'}, {'symbol': 'APTBTC', 'price': '0.00005691'}, {'symbol': 'APTUSDT', 'price': '5.92900000'}, {'symbol': 'APTBUSD', 'price': '7.31980000'}, {'symbol': 'BTCPLN', 'price': '389740.00000000'}, {'symbol': 'ETHPLN', 'price': '9332.00000000'}, {'symbol': 'BUSDPLN', 'price': '4.06500000'}, {'symbol': 'APTEUR', 'price': '5.16000000'}, {'symbol': 'APTTRY', 'price': '229.10000000'}, {'symbol': 'APTBRL', 'price': '39.76000000'}, {'symbol': 'QKCBUSD', 'price': '0.00869500'}, {'symbol': 'OSMOBTC', 'price': '0.00000884'}, {'symbol': 'OSMOUSDT', 'price': '0.26110000'}, {'symbol': 'OSMOBUSD', 'price': '0.46400000'}, {'symbol': 'HFTBTC', 'price': '0.00000081'}, {'symbol': 'HFTBUSD', 'price': '0.25890000'}, {'symbol': 'HFTUSDT', 'price': '0.08500000'}, {'symbol': 'ARPAETH', 'price': '0.00002363'}, {'symbol': 'PHBUSDT', 'price': '0.70300000'}, {'symbol': 'VITEBUSD', 'price': '0.01726000'}, {'symbol': 'HOOKBTC', 'price': '0.00000788'}, {'symbol': 'HOOKUSDT', 'price': '0.17350000'}, {'symbol': 'HOOKBUSD', 'price': '0.89410000'}, {'symbol': 'HOOKBNB', 'price': '0.00319530'}, {'symbol': 'MAGICBTC', 'price': '0.00000183'}, {'symbol': 'MAGICBUSD', 'price': '0.55850000'}, {'symbol': 'MAGICUSDT', 'price': '0.19080000'}, {'symbol': 'BUSDRON', 'price': '4.62800000'}, {'symbol': 'HIFIETH', 'price': '0.00025310'}, {'symbol': 'HIFIUSDT', 'price': '0.13630000'}, {'symbol': 'RPLBTC', 'price': '0.00064100'}, {'symbol': 'RPLBUSD', 'price': '24.17000000'}, {'symbol': 'RPLUSDT', 'price': '6.02000000'}, {'symbol': 'PROSUSDT', 'price': '0.03720000'}, {'symbol': 'FETTRY', 'price': '33.17000000'}, {'symbol': 'GFTBUSD', 'price': '0.02911000'}, {'symbol': 'AGIXUSDT', 'price': '0.61410000'}, {'symbol': 'APTETH', 'price': '0.00237100'}, {'symbol': 'BTCRON', 'price': '473662.00000000'}, {'symbol': 'GNSUSDT', 'price': '1.63000000'}, {'symbol': 'GNSBTC', 'price': '0.00007210'}, {'symbol': 'SYNBTC', 'price': '0.00001152'}, {'symbol': 'SYNUSDT', 'price': '0.27290000'}, {'symbol': 'VIBUSDT', 'price': '0.00223000'}, {'symbol': 'SSVUSDT', 'price': '9.67000000'}, {'symbol': 'LQTYUSDT', 'price': '0.94500000'}, {'symbol': 'LQTYBTC', 'price': '0.00000841'}, {'symbol': 'AMBUSDT', 'price': '0.00032000'}, {'symbol': 'BETHUSDT', 'price': '1556.27000000'}, {'symbol': 'CFXTRY', 'price': '3.81500000'}, {'symbol': 'STXTRY', 'price': '38.77000000'}, {'symbol': 'USTCUSDT', 'price': '0.01401000'}, {'symbol': 'GASUSDT', 'price': '3.50400000'}, {'symbol': 'GLMUSDT', 'price': '0.28730000'}, {'symbol': 'PROMUSDT', 'price': '5.57900000'}, {'symbol': 'QKCUSDT', 'price': '0.00807700'}, {'symbol': 'UFTUSDT', 'price': '0.00890000'}, {'symbol': 'IDBTC', 'price': '0.00000228'}, {'symbol': 'IDBNB', 'price': '0.00094930'}, {'symbol': 'IDUSDT', 'price': '0.23780000'}, {'symbol': 'ARBBTC', 'price': '0.00000444'}, {'symbol': 'ARBUSDT', 'price': '0.46370000'}, {'symbol': 'AGIXTRY', 'price': '20.14000000'}, {'symbol': 'LOOMUSDT', 'price': '0.04831000'}, {'symbol': 'OAXUSDT', 'price': '0.03580000'}, {'symbol': 'ARBTUSD', 'price': '0.45840000'}, {'symbol': 'ARBTRY', 'price': '17.90000000'}, {'symbol': 'ARBEUR', 'price': '0.41140000'}, {'symbol': 'IDTUSD', 'price': '0.88208000'}, {'symbol': 'IDTRY', 'price': '9.18000000'}, {'symbol': 'IDEUR', 'price': '0.18769000'}, {'symbol': 'LDOTUSD', 'price': '2.46700000'}, {'symbol': 'MATICTUSD', 'price': '0.50430000'}, {'symbol': 'OPTUSD', 'price': '2.99700000'}, {'symbol': 'SOLTUSD', 'price': '174.53000000'}, {'symbol': 'SSVTUSD', 'price': '45.55000000'}, {'symbol': 'RDNTBTC', 'price': '0.00000107'}, {'symbol': 'RDNTUSDT', 'price': '0.03004000'}, {'symbol': 'RDNTTUSD', 'price': '0.30100000'}, {'symbol': 'ARBRUB', 'price': '95.10000000'}, {'symbol': 'JOETRY', 'price': '12.22000000'}, {'symbol': 'MAGICTRY', 'price': '7.33000000'}, {'symbol': 'USDTPLN', 'price': '3.74100000'}, {'symbol': 'ACHTRY', 'price': '1.12740000'}, {'symbol': 'XVSTRY', 'price': '268.40000000'}, {'symbol': 'EGLDRON', 'price': '87.30000000'}, {'symbol': 'USDTRON', 'price': '4.59800000'}, {'symbol': 'USDTARS', 'price': '1168.00000000'}, {'symbol': 'DOGETUSD', 'price': '0.22970000'}, {'symbol': 'WBTCUSDT', 'price': '104148.05000000'}, {'symbol': 'EDUUSDT', 'price': '0.17030000'}, {'symbol': 'EDUTUSD', 'price': '1.06098000'}, {'symbol': 'EDUBNB', 'price': '0.00181050'}, {'symbol': 'EDUBTC', 'price': '0.00000324'}, {'symbol': 'EDUEUR', 'price': '0.47455000'}, {'symbol': 'EDUTRY', 'price': '6.57000000'}, {'symbol': 'SUIUSDT', 'price': '3.98360000'}, {'symbol': 'SUITUSD', 'price': '4.06690000'}, {'symbol': 'SUIBTC', 'price': '0.00003824'}, {'symbol': 'SUIBNB', 'price': '0.00606400'}, {'symbol': 'SUIEUR', 'price': '3.53510000'}, {'symbol': 'SUITRY', 'price': '153.84000000'}, {'symbol': 'AERGOUSDT', 'price': '0.06350000'}, {'symbol': 'RNDRTRY', 'price': '233.63000000'}, {'symbol': 'PEPEUSDT', 'price': '0.00001300'}, {'symbol': 'PEPETUSD', 'price': '0.00002351'}, {'symbol': 'FLOKIUSDT', 'price': '0.00010361'}, {'symbol': 'FLOKITUSD', 'price': '0.00003203'}, {'symbol': 'OGTRY', 'price': '183.40000000'}, {'symbol': 'PEPETRY', 'price': '0.00050217'}, {'symbol': 'WBETHETH', 'price': '1.06700000'}, {'symbol': 'ASTUSDT', 'price': '0.02610000'}, {'symbol': 'SNTUSDT', 'price': '0.02720000'}, {'symbol': 'FLOKITRY', 'price': '0.00400000'}, {'symbol': 'CITYTRY', 'price': '47.60000000'}, {'symbol': 'COMBOUSDT', 'price': '0.02760000'}, {'symbol': 'COMBOBNB', 'price': '0.00227200'}, {'symbol': 'COMBOTRY', 'price': '1.05000000'}, {'symbol': 'LTCTRY', 'price': '3907.00000000'}, {'symbol': 'RADTRY', 'price': '32.65000000'}, {'symbol': 'BTCARS', 'price': '121208247.00000000'}, {'symbol': 'OPTRY', 'price': '33.80000000'}, {'symbol': 'PAXGTRY', 'price': '128503.00000000'}, {'symbol': 'MAVBTC', 'price': '0.00000072'}, {'symbol': 'MAVUSDT', 'price': '0.07528000'}, {'symbol': 'MAVTUSD', 'price': '0.21940000'}, {'symbol': 'CFXTUSD', 'price': '0.22120000'}, {'symbol': 'PENDLEBTC', 'price': '0.00003685'}, {'symbol': 'PENDLEUSDT', 'price': '3.82200000'}, {'symbol': 'PENDLETUSD', 'price': '2.70440000'}, {'symbol': 'MAVTRY', 'price': '2.91000000'}, {'symbol': 'OCEANTRY', 'price': '20.10000000'}, {'symbol': 'TUSDTRY', 'price': '35.34000000'}, {'symbol': 'ARBETH', 'price': '0.00018480'}, {'symbol': 'BCHTRY', 'price': '15958.00000000'}, {'symbol': 'XVGTRY', 'price': '0.23630000'}, {'symbol': 'XVGTUSD', 'price': '0.00626900'}, {'symbol': 'ARKMUSDT', 'price': '0.70900000'}, {'symbol': 'ARKMTUSD', 'price': '1.15100000'}, {'symbol': 'ARKMTRY', 'price': '27.35000000'}, {'symbol': 'ARKMBNB', 'price': '0.00107000'}, {'symbol': 'ARKMBTC', 'price': '0.00000680'}, {'symbol': 'WBETHUSDT', 'price': '2673.44000000'}, {'symbol': 'ACATRY', 'price': '1.35700000'}, {'symbol': 'AVAXTUSD', 'price': '27.66000000'}, {'symbol': 'COMPTUSD', 'price': '84.22000000'}, {'symbol': 'COMPTRY', 'price': '1819.00000000'}, {'symbol': 'XECTRY', 'price': '0.00094350'}, {'symbol': 'QUICKTUSD', 'price': '0.04668000'}, {'symbol': 'WLDUSDT', 'price': '1.26800000'}, {'symbol': 'WLDBTC', 'price': '0.00001218'}, {'symbol': 'BNBFDUSD', 'price': '658.06000000'}, {'symbol': 'FDUSDBUSD', 'price': '1.00000000'}, {'symbol': 'FDUSDUSDT', 'price': '0.99840000'}, {'symbol': 'ARKMRUB', 'price': '40.11000000'}, {'symbol': 'WLDTRY', 'price': '48.95000000'}, {'symbol': 'WLDRUB', 'price': '218.30000000'}, {'symbol': 'AMPTRY', 'price': '0.17250000'}, {'symbol': 'OGNTRY', 'price': '2.88500000'}, {'symbol': 'BTCFDUSD', 'price': '104346.87000000'}, {'symbol': 'ETHFDUSD', 'price': '2511.77000000'}, {'symbol': 'ASRTRY', 'price': '80.80000000'}, {'symbol': 'ATMTRY', 'price': '52.20000000'}, {'symbol': 'ACMTRY', 'price': '55.29000000'}, {'symbol': 'BARTRY', 'price': '81.40000000'}, {'symbol': 'JUVTRY', 'price': '47.96000000'}, {'symbol': 'PSGTRY', 'price': '95.86000000'}, {'symbol': 'SEIBNB', 'price': '0.00039720'}, {'symbol': 'SEIBTC', 'price': '0.00000251'}, {'symbol': 'SEIFDUSD', 'price': '0.26250000'}, {'symbol': 'SEITRY', 'price': '10.11800000'}, {'symbol': 'SEIUSDT', 'price': '0.26200000'}, {'symbol': 'CYBERBNB', 'price': '0.00241200'}, {'symbol': 'CYBERBTC', 'price': '0.00001521'}, {'symbol': 'CYBERFDUSD', 'price': '1.58300000'}, {'symbol': 'CYBERTRY', 'price': '61.30000000'}, {'symbol': 'CYBERUSDT', 'price': '1.58800000'}, {'symbol': 'CYBERTUSD', 'price': '3.76500000'}, {'symbol': 'SEITUSD', 'price': '0.36330000'}, {'symbol': 'LPTTRY', 'price': '228.90000000'}, {'symbol': 'UNITRY', 'price': '272.80000000'}, {'symbol': 'SOLFDUSD', 'price': '174.18000000'}, {'symbol': 'TOMOTRY', 'price': '40.26000000'}, {'symbol': 'UNFITRY', 'price': '46.10000000'}, {'symbol': 'XRPFDUSD', 'price': '2.37300000'}, {'symbol': 'DOGEFDUSD', 'price': '0.23399000'}, {'symbol': 'CYBERETH', 'price': '0.00063400'}, {'symbol': 'MTLTRY', 'price': '38.80000000'}, {'symbol': 'ARKUSDT', 'price': '0.44220000'}, {'symbol': 'CREAMUSDT', 'price': '2.10000000'}, {'symbol': 'GFTUSDT', 'price': '0.00196000'}, {'symbol': 'IQUSDT', 'price': '0.00456000'}, {'symbol': 'USDTVAI', 'price': '1.01300000'}, {'symbol': 'ARBFDUSD', 'price': '0.46280000'}, {'symbol': 'FDUSDTRY', 'price': '38.55000000'}, {'symbol': 'FRONTTRY', 'price': '30.14000000'}, {'symbol': 'SUIFDUSD', 'price': '3.99260000'}, {'symbol': 'NTRNBTC', 'price': '0.00000621'}, {'symbol': 'NTRNUSDT', 'price': '0.15920000'}, {'symbol': 'NTRNBNB', 'price': '0.00024200'}, {'symbol': 'FILFDUSD', 'price': '3.15000000'}, {'symbol': 'FRONTTUSD', 'price': '0.91380000'}, {'symbol': 'LEVERTRY', 'price': '0.02467000'}, {'symbol': 'LTCFDUSD', 'price': '101.23000000'}, {'symbol': 'ADAFDUSD', 'price': '0.80000000'}, {'symbol': 'RUNETUSD', 'price': '5.50100000'}, {'symbol': 'TRBTRY', 'price': '1384.00000000'}, {'symbol': 'ATOMFDUSD', 'price': '5.21900000'}, {'symbol': 'AVAXFDUSD', 'price': '24.72000000'}, {'symbol': 'BANDTRY', 'price': '37.91000000'}, {'symbol': 'BCHFDUSD', 'price': '413.40000000'}, {'symbol': 'LOOMTRY', 'price': '1.65400000'}, {'symbol': 'MATICFDUSD', 'price': '0.37950000'}, {'symbol': 'ALGOFDUSD', 'price': '0.12140000'}, {'symbol': 'DOTFDUSD', 'price': '5.03800000'}, {'symbol': 'FTMFDUSD', 'price': '0.70080000'}, {'symbol': 'LINKFDUSD', 'price': '16.61000000'}, {'symbol': 'NEARFDUSD', 'price': '3.22000000'}, {'symbol': 'STRAXTRY', 'price': '2.28000000'}, {'symbol': 'TIABTC', 'price': '0.00003040'}, {'symbol': 'TIAUSDT', 'price': '3.16600000'}, {'symbol': 'TIATRY', 'price': '122.10000000'}, {'symbol': 'MEMEBNB', 'price': '0.00004107'}, {'symbol': 'MEMEUSDT', 'price': '0.00271800'}, {'symbol': 'MEMEFDUSD', 'price': '0.00272500'}, {'symbol': 'MEMETUSD', 'price': '0.02722000'}, {'symbol': 'MEMETRY', 'price': '0.10490000'}, {'symbol': 'ORDIBTC', 'price': '0.00009890'}, {'symbol': 'ORDIUSDT', 'price': '10.37000000'}, {'symbol': 'ORDITRY', 'price': '401.00000000'}, {'symbol': 'EGLDFDUSD', 'price': '19.47000000'}, {'symbol': 'FETFDUSD', 'price': '0.86000000'}, {'symbol': 'GASFDUSD', 'price': '2.78500000'}, {'symbol': 'INJETH', 'price': '0.00510600'}, {'symbol': 'INJTUSD', 'price': '26.23000000'}, {'symbol': 'OPFDUSD', 'price': '0.87500000'}, {'symbol': 'ORDIFDUSD', 'price': '10.40000000'}, {'symbol': 'ORDITUSD', 'price': '36.89000000'}, {'symbol': 'RNDRFDUSD', 'price': '7.02900000'}, {'symbol': 'SHIBTUSD', 'price': '0.00001766'}, {'symbol': 'BEAMXUSDT', 'price': '0.00902000'}, {'symbol': 'ARKTRY', 'price': '17.04000000'}, {'symbol': 'BEAMXTRY', 'price': '0.34860000'}, {'symbol': 'CAKETRY', 'price': '93.70000000'}, {'symbol': 'CAKETUSD', 'price': '2.77400000'}, {'symbol': 'DYDXFDUSD', 'price': '0.71440000'}, {'symbol': 'PIVXUSDT', 'price': '0.17780000'}, {'symbol': 'RUNEFDUSD', 'price': '1.72700000'}, {'symbol': 'TIATUSD', 'price': '6.40000000'}, {'symbol': 'DOTTUSD', 'price': '7.09800000'}, {'symbol': 'GALAFDUSD', 'price': '0.02191000'}, {'symbol': 'WLDFDUSD', 'price': '1.27100000'}, {'symbol': 'GASTRY', 'price': '135.30000000'}, {'symbol': 'NTRNTRY', 'price': '6.14000000'}, {'symbol': 'VICBTC', 'price': '0.00000276'}, {'symbol': 'VICUSDT', 'price': '0.25040000'}, {'symbol': 'VICTRY', 'price': '9.66000000'}, {'symbol': 'BLURBTC', 'price': '0.00000117'}, {'symbol': 'BLURUSDT', 'price': '0.12220000'}, {'symbol': 'BLURTRY', 'price': '4.71000000'}, {'symbol': 'BLURFDUSD', 'price': '0.20900000'}, {'symbol': 'SUPERFDUSD', 'price': '0.60120000'}, {'symbol': 'USTCFDUSD', 'price': '0.01829000'}, {'symbol': 'USTCTRY', 'price': '0.54070000'}, {'symbol': 'DYDXTRY', 'price': '27.52000000'}, {'symbol': 'VANRYUSDT', 'price': '0.04170000'}, {'symbol': 'VANRYBTC', 'price': '0.00000027'}, {'symbol': 'BTCAEUR', 'price': '51466.50000000'}, {'symbol': 'AEURUSDT', 'price': '1.05350000'}, {'symbol': 'ETHAEUR', 'price': '2700.00000000'}, {'symbol': 'EURAEUR', 'price': '1.08310000'}, {'symbol': 'AUCTIONFDUSD', 'price': '13.35000000'}, {'symbol': 'IOTAFDUSD', 'price': '0.14040000'}, {'symbol': 'LUNCTRY', 'price': '0.00263300'}, {'symbol': 'SUPERTRY', 'price': '33.42000000'}, {'symbol': 'JTOUSDT', 'price': '2.06100000'}, {'symbol': 'JTOFDUSD', 'price': '2.05300000'}, {'symbol': 'JTOTRY', 'price': '79.30000000'}, {'symbol': '1000SATSUSDT', 'price': '0.00005180'}, {'symbol': '1000SATSFDUSD', 'price': '0.00005180'}, {'symbol': '1000SATSTRY', 'price': '0.00200500'}, {'symbol': 'SHIBFDUSD', 'price': '0.00001594'}, {'symbol': 'SANDFDUSD', 'price': '0.35330000'}, {'symbol': 'MEMEETH', 'price': '0.00000576'}, {'symbol': 'IOTATRY', 'price': '9.47800000'}, {'symbol': 'INJFDUSD', 'price': '12.83000000'}, {'symbol': 'FIDATRY', 'price': '3.03100000'}, {'symbol': 'BONKUSDT', 'price': '0.00002202'}, {'symbol': 'BONKFDUSD', 'price': '0.00002195'}, {'symbol': 'BONKTRY', 'price': '0.00085050'}, {'symbol': 'ACEFDUSD', 'price': '2.02200000'}, {'symbol': 'ACEUSDT', 'price': '0.72600000'}, {'symbol': 'ACEBNB', 'price': '0.00894000'}, {'symbol': 'ACEBTC', 'price': '0.00002169'}, {'symbol': 'ACETRY', 'price': '28.02000000'}, {'symbol': 'BLZFDUSD', 'price': '0.12600000'}, {'symbol': 'RARETRY', 'price': '2.78000000'}, {'symbol': 'VANRYTRY', 'price': '1.61200000'}, {'symbol': 'NFPBTC', 'price': '0.00000095'}, {'symbol': 'NFPUSDT', 'price': '0.09990000'}, {'symbol': 'NFPBNB', 'price': '0.00056200'}, {'symbol': 'NFPFDUSD', 'price': '0.09970000'}, {'symbol': 'NFPTUSD', 'price': '0.39750000'}, {'symbol': 'NFPTRY', 'price': '3.86000000'}, {'symbol': 'ARBUSDC', 'price': '0.46390000'}, {'symbol': 'AVAXUSDC', 'price': '24.71000000'}, {'symbol': 'DOTUSDC', 'price': '5.04300000'}, {'symbol': 'INJUSDC', 'price': '12.85000000'}, {'symbol': 'MATICUSDC', 'price': '0.37910000'}, {'symbol': 'OPUSDC', 'price': '0.87500000'}, {'symbol': 'ORDIUSDC', 'price': '10.38000000'}, {'symbol': 'AIBTC', 'price': '0.00000195'}, {'symbol': 'AIUSDT', 'price': '0.20300000'}, {'symbol': 'AIBNB', 'price': '0.00030900'}, {'symbol': 'AIFDUSD', 'price': '0.20350000'}, {'symbol': 'AITUSD', 'price': '0.51400000'}, {'symbol': 'AITRY', 'price': '7.83000000'}, {'symbol': 'ICPFDUSD', 'price': '5.59300000'}, {'symbol': 'LDOFDUSD', 'price': '1.10800000'}, {'symbol': 'MOVRTRY', 'price': '309.00000000'}, {'symbol': 'XAIBTC', 'price': '0.00000089'}, {'symbol': 'XAIUSDT', 'price': '0.08330000'}, {'symbol': 'XAIBNB', 'price': '0.00103800'}, {'symbol': 'XAIFDUSD', 'price': '0.08300000'}, {'symbol': 'XAITUSD', 'price': '0.89860000'}, {'symbol': 'XAITRY', 'price': '3.22000000'}, {'symbol': 'SKLTRY', 'price': '1.03600000'}, {'symbol': 'STXFDUSD', 'price': '1.00400000'}, {'symbol': 'TIAFDUSD', 'price': '3.17300000'}, {'symbol': 'MANTABTC', 'price': '0.00000291'}, {'symbol': 'MANTAUSDT', 'price': '0.30500000'}, {'symbol': 'MANTABNB', 'price': '0.00157000'}, {'symbol': 'MANTAFDUSD', 'price': '0.30600000'}, {'symbol': 'MANTATRY', 'price': '11.72000000'}, {'symbol': 'ENSFDUSD', 'price': '23.38000000'}, {'symbol': 'ETCFDUSD', 'price': '19.82000000'}, {'symbol': 'SUIUSDC', 'price': '3.98340000'}, {'symbol': 'TIAUSDC', 'price': '3.16600000'}, {'symbol': 'CHZFDUSD', 'price': '0.08760000'}, {'symbol': 'MANTAUSDC', 'price': '0.30400000'}, {'symbol': 'ALTBTC', 'price': '0.00000036'}, {'symbol': 'ALTUSDT', 'price': '0.03716000'}, {'symbol': 'ALTBNB', 'price': '0.00005660'}, {'symbol': 'ALTFDUSD', 'price': '0.03693000'}, {'symbol': 'ALTTRY', 'price': '1.43700000'}, {'symbol': 'APTFDUSD', 'price': '5.94000000'}, {'symbol': 'BLURUSDC', 'price': '0.12210000'}, {'symbol': 'JUPUSDT', 'price': '0.55840000'}, {'symbol': 'JUPFDUSD', 'price': '0.56060000'}, {'symbol': 'JUPTRY', 'price': '21.55000000'}, {'symbol': 'ALTUSDC', 'price': '0.03718000'}, {'symbol': 'MAGICFDUSD', 'price': '0.90500000'}, {'symbol': 'SEIUSDC', 'price': '0.26210000'}, {'symbol': 'PYTHBTC', 'price': '0.00000178'}, {'symbol': 'PYTHUSDT', 'price': '0.18570000'}, {'symbol': 'PYTHFDUSD', 'price': '0.18660000'}, {'symbol': 'PYTHTRY', 'price': '7.17000000'}, {'symbol': 'RONINBTC', 'price': '0.00000675'}, {'symbol': 'RONINUSDT', 'price': '0.70500000'}, {'symbol': 'RONINFDUSD', 'price': '0.70500000'}, {'symbol': 'RONINTRY', 'price': '27.19000000'}, {'symbol': 'DYMBTC', 'price': '0.00001452'}, {'symbol': 'DYMUSDT', 'price': '0.42000000'}, {'symbol': 'DYMFDUSD', 'price': '1.34000000'}, {'symbol': 'DYMTRY', 'price': '16.25000000'}, {'symbol': 'JUPUSDC', 'price': '0.55900000'}, {'symbol': 'PENDLEFDUSD', 'price': '3.83000000'}, {'symbol': 'PIXELBTC', 'price': '0.00000146'}, {'symbol': 'PIXELBNB', 'price': '0.00022800'}, {'symbol': 'PIXELUSDT', 'price': '0.05432000'}, {'symbol': 'PIXELFDUSD', 'price': '0.15530000'}, {'symbol': 'PIXELTRY', 'price': '2.10000000'}, {'symbol': 'STRKBTC', 'price': '0.00000149'}, {'symbol': 'STRKUSDT', 'price': '0.18000000'}, {'symbol': 'STRKFDUSD', 'price': '0.18050000'}, {'symbol': 'STRKTRY', 'price': '6.95000000'}, {'symbol': 'FILUSDC', 'price': '3.15000000'}, {'symbol': 'HBARTRY', 'price': '8.00100000'}, {'symbol': 'PENDLETRY', 'price': '147.70000000'}, {'symbol': 'WLDUSDC', 'price': '1.26800000'}, {'symbol': 'CKBTRY', 'price': '0.22470000'}, {'symbol': 'COTITRY', 'price': '3.30800000'}, {'symbol': 'LDOTRY', 'price': '42.84000000'}, {'symbol': 'UNIUSDC', 'price': '7.08800000'}, {'symbol': 'PORTALBTC', 'price': '0.00000063'}, {'symbol': 'PORTALUSDT', 'price': '0.06600000'}, {'symbol': 'PORTALBNB', 'price': '0.00010120'}, {'symbol': 'PORTALFDUSD', 'price': '0.06630000'}, {'symbol': 'PORTALTRY', 'price': '2.54900000'}, {'symbol': 'PDABTC', 'price': '0.00000079'}, {'symbol': 'PDAUSDT', 'price': '0.00977000'}, {'symbol': 'AXLBTC', 'price': '0.00000405'}, {'symbol': 'AXLUSDT', 'price': '0.42320000'}, {'symbol': 'AXLFDUSD', 'price': '0.61060000'}, {'symbol': 'AXLTRY', 'price': '16.25000000'}, {'symbol': 'PEPEFDUSD', 'price': '0.00001302'}, {'symbol': 'PIXELUSDC', 'price': '0.05436000'}, {'symbol': 'STRKUSDC', 'price': '0.18000000'}, {'symbol': 'UNIFDUSD', 'price': '7.08000000'}, {'symbol': 'OMTRY', 'price': '16.68000000'}, {'symbol': 'THETATRY', 'price': '39.20000000'}, {'symbol': 'WIFBTC', 'price': '0.00000847'}, {'symbol': 'WIFUSDT', 'price': '0.88500000'}, {'symbol': 'WIFFDUSD', 'price': '0.88800000'}, {'symbol': 'WIFTRY', 'price': '34.20000000'}, {'symbol': 'AGIXFDUSD', 'price': '0.61880000'}, {'symbol': 'PEPEUSDC', 'price': '0.00001301'}, {'symbol': 'SHIBUSDC', 'price': '0.00001592'}, {'symbol': 'THETAFDUSD', 'price': '1.01600000'}, {'symbol': 'ARTRY', 'price': '319.40000000'}, {'symbol': 'METISBTC', 'price': '0.00053900'}, {'symbol': 'METISUSDT', 'price': '22.58000000'}, {'symbol': 'METISFDUSD', 'price': '49.49000000'}, {'symbol': 'METISTRY', 'price': '870.00000000'}, {'symbol': 'BNBJPY', 'price': '95608.00000000'}, {'symbol': 'BTCJPY', 'price': '15160624.00000000'}, {'symbol': 'ETHJPY', 'price': '364902.00000000'}, {'symbol': 'FLOKIFDUSD', 'price': '0.00010373'}, {'symbol': 'GRTFDUSD', 'price': '0.11810000'}, {'symbol': 'NEARUSDC', 'price': '3.21600000'}, {'symbol': 'SNXTRY', 'price': '32.88000000'}, {'symbol': 'AEVOBTC', 'price': '0.00000136'}, {'symbol': 'AEVOUSDT', 'price': '0.14210000'}, {'symbol': 'AEVOBNB', 'price': '0.00077700'}, {'symbol': 'AEVOFDUSD', 'price': '0.14280000'}, {'symbol': 'AEVOTRY', 'price': '5.48000000'}, {'symbol': 'FETUSDC', 'price': '0.85900000'}, {'symbol': 'IMXTRY', 'price': '38.57000000'}, {'symbol': 'EURUSDC', 'price': '1.12680000'}, {'symbol': 'BOMETRY', 'price': '0.08010000'}, {'symbol': 'BOMEBTC', 'price': '0.00000006'}, {'symbol': 'BOMEUSDT', 'price': '0.00207300'}, {'symbol': 'BOMEFDUSD', 'price': '0.00207800'}, {'symbol': 'ETHFIBTC', 'price': '0.00000790'}, {'symbol': 'ETHFIUSDT', 'price': '1.12000000'}, {'symbol': 'ETHFIBNB', 'price': '0.00252300'}, {'symbol': 'ETHFIFDUSD', 'price': '1.11900000'}, {'symbol': 'ETHFITRY', 'price': '43.29000000'}, {'symbol': 'AAVETRY', 'price': '8490.00000000'}, {'symbol': 'ARKMFDUSD', 'price': '0.70700000'}, {'symbol': 'CRVTRY', 'price': '29.99000000'}, {'symbol': 'FETBRL', 'price': '4.33000000'}, {'symbol': 'RAYFDUSD', 'price': '3.14500000'}, {'symbol': 'RNDREUR', 'price': '6.47500000'}, {'symbol': 'BONKUSDC', 'price': '0.00002203'}, {'symbol': 'FLOKIUSDC', 'price': '0.00010359'}, {'symbol': 'MKRTRY', 'price': '70182.00000000'}, {'symbol': 'RAYTRY', 'price': '121.22000000'}, {'symbol': 'RNDRBRL', 'price': '39.58000000'}, {'symbol': 'ENABTC', 'price': '0.00000384'}, {'symbol': 'ENAUSDT', 'price': '0.40060000'}, {'symbol': 'ENABNB', 'price': '0.00060870'}, {'symbol': 'ENAFDUSD', 'price': '0.40100000'}, {'symbol': 'ENATRY', 'price': '15.46900000'}, {'symbol': 'LQTYFDUSD', 'price': '0.65100000'}, {'symbol': 'MASKTRY', 'price': '55.08000000'}, {'symbol': 'PENDLEUSDC', 'price': '3.82400000'}, {'symbol': 'RDNTTRY', 'price': '1.15700000'}, {'symbol': 'WBTC', 'price': '0.00000097'}, {'symbol': 'WUSDT', 'price': '0.10110000'}, {'symbol': 'WFDUSD', 'price': '0.10160000'}, {'symbol': 'WTRY', 'price': '3.89600000'}, {'symbol': 'BOMEUSDC', 'price': '0.00207400'}, {'symbol': 'JTOUSDC', 'price': '2.06100000'}, {'symbol': 'WIFUSDC', 'price': '0.88600000'}, {'symbol': 'TNSRBTC', 'price': '0.00000142'}, {'symbol': 'TNSRUSDT', 'price': '0.17680000'}, {'symbol': 'TNSRFDUSD', 'price': '0.17640000'}, {'symbol': 'TNSRTRY', 'price': '6.82000000'}, {'symbol': 'SAGABTC', 'price': '0.00000394'}, {'symbol': 'SAGAUSDT', 'price': '0.40890000'}, {'symbol': 'SAGABNB', 'price': '0.00062300'}, {'symbol': 'SAGAFDUSD', 'price': '0.40940000'}, {'symbol': 'SAGATRY', 'price': '15.83000000'}, {'symbol': 'USDTMXN', 'price': '19.51000000'}, {'symbol': 'CKBUSDC', 'price': '0.00583500'}, {'symbol': 'ENAUSDC', 'price': '0.40040000'}, {'symbol': 'ETHFIUSDC', 'price': '1.12200000'}, {'symbol': 'YGGUSDC', 'price': '0.23470000'}, {'symbol': 'USDTCZK', 'price': '22.90000000'}, {'symbol': 'TAOBTC', 'price': '0.00437100'}, {'symbol': 'TAOUSDT', 'price': '455.40000000'}, {'symbol': 'TAOFDUSD', 'price': '456.10000000'}, {'symbol': 'TAOTRY', 'price': '17471.00000000'}, {'symbol': 'CFXUSDC', 'price': '0.09920000'}, {'symbol': 'RNDRUSDC', 'price': '7.04100000'}, {'symbol': 'RUNEUSDC', 'price': '1.72100000'}, {'symbol': 'SAGAUSDC', 'price': '0.40900000'}, {'symbol': 'POLYXTRY', 'price': '6.39000000'}, {'symbol': 'OMNIBTC', 'price': '0.00002820'}, {'symbol': 'OMNIUSDT', 'price': '2.95000000'}, {'symbol': 'OMNIBNB', 'price': '0.01361000'}, {'symbol': 'OMNIFDUSD', 'price': '2.95000000'}, {'symbol': 'OMNITRY', 'price': '113.60000000'}, {'symbol': 'APTUSDC', 'price': '5.92900000'}, {'symbol': 'GALAUSDC', 'price': '0.02195000'}, {'symbol': 'OMNIBRL', 'price': '40.20000000'}, {'symbol': 'STXUSDC', 'price': '1.00400000'}, {'symbol': 'ICPUSDC', 'price': '5.60400000'}, {'symbol': 'OMNIUSDC', 'price': '2.94000000'}, {'symbol': 'PEPEBRL', 'price': '0.00007406'}, {'symbol': 'YGGTRY', 'price': '9.04000000'}, {'symbol': 'ADAJPY', 'price': '116.28000000'}, {'symbol': 'SHIBJPY', 'price': '0.00231700'}, {'symbol': 'SOLJPY', 'price': '25302.00000000'}, {'symbol': 'XRPJPY', 'price': '344.83000000'}, {'symbol': 'REZBTC', 'price': '0.00000018'}, {'symbol': 'REZUSDT', 'price': '0.01877000'}, {'symbol': 'REZBNB', 'price': '0.00008310'}, {'symbol': 'REZFDUSD', 'price': '0.03438000'}, {'symbol': 'REZTRY', 'price': '0.72400000'}, {'symbol': 'EGLDTRY', 'price': '751.50000000'}, {'symbol': 'PHBTRY', 'price': '27.08000000'}, {'symbol': 'RSRTRY', 'price': '0.38020000'}, {'symbol': 'BBBTC', 'price': '0.00000161'}, {'symbol': 'BBUSDT', 'price': '0.16810000'}, {'symbol': 'BBBNB', 'price': '0.00025560'}, {'symbol': 'BBFDUSD', 'price': '0.16740000'}, {'symbol': 'BBTRY', 'price': '6.48000000'}, {'symbol': 'FRONTUSDC', 'price': '0.88300000'}, {'symbol': 'PEOPLETRY', 'price': '0.80100000'}, {'symbol': 'TRBUSDC', 'price': '35.84000000'}, {'symbol': 'NOTUSDT', 'price': '0.00285300'}, {'symbol': 'NOTBNB', 'price': '0.00001353'}, {'symbol': 'NOTFDUSD', 'price': '0.00284900'}, {'symbol': 'NOTTRY', 'price': '0.11020000'}, {'symbol': 'ARKMUSDC', 'price': '0.70900000'}, {'symbol': 'ARUSDC', 'price': '8.31000000'}, {'symbol': 'BBUSDC', 'price': '0.16800000'}, {'symbol': 'CRVUSDC', 'price': '0.77760000'}, {'symbol': 'PEOPLEUSDC', 'price': '0.02075000'}, {'symbol': 'ARFDUSD', 'price': '8.26000000'}, {'symbol': 'ENAEUR', 'price': '0.27700000'}, {'symbol': 'PEPEEUR', 'price': '0.00001154'}, {'symbol': 'REZUSDC', 'price': '0.01876000'}, {'symbol': 'TRBFDUSD', 'price': '59.44000000'}, {'symbol': 'USDCTRY', 'price': '38.61000000'}, {'symbol': 'BTCMXN', 'price': '2024917.00000000'}, {'symbol': 'XRPMXN', 'price': '46.33000000'}, {'symbol': 'ENSUSDC', 'price': '23.46000000'}, {'symbol': 'LDOUSDC', 'price': '1.10900000'}, {'symbol': 'NOTUSDC', 'price': '0.00285300'}, {'symbol': 'NEARBRL', 'price': '18.34000000'}, {'symbol': 'HIGHTRY', 'price': '29.98000000'}, {'symbol': 'PEOPLEFDUSD', 'price': '0.02079000'}, {'symbol': 'TNSRUSDC', 'price': '0.17640000'}, {'symbol': 'USDTCOP', 'price': '4179.00000000'}, {'symbol': 'IOBTC', 'price': '0.00000980'}, {'symbol': 'IOUSDT', 'price': '1.02400000'}, {'symbol': 'IOBNB', 'price': '0.00155100'}, {'symbol': 'IOFDUSD', 'price': '1.02500000'}, {'symbol': 'IOTRY', 'price': '39.52000000'}, {'symbol': 'NOTBRL', 'price': '0.03755000'}, {'symbol': 'TRUTRY', 'price': '1.79600000'}, {'symbol': 'WIFEUR', 'price': '0.78700000'}, {'symbol': 'ZKBTC', 'price': '0.00000072'}, {'symbol': 'ZKUSDT', 'price': '0.07590000'}, {'symbol': 'ZKFDUSD', 'price': '0.07590000'}, {'symbol': 'ZKTRY', 'price': '2.92800000'}, {'symbol': 'LISTAUSDT', 'price': '0.20430000'}, {'symbol': 'LISTABNB', 'price': '0.00031120'}, {'symbol': 'LISTAFDUSD', 'price': '0.20420000'}, {'symbol': 'LISTATRY', 'price': '7.85000000'}, {'symbol': 'ZROBTC', 'price': '0.00002830'}, {'symbol': 'ZROUSDT', 'price': '2.95600000'}, {'symbol': 'ZROFDUSD', 'price': '2.95300000'}, {'symbol': 'ZROTRY', 'price': '114.10000000'}, {'symbol': 'LISTABRL', 'price': '2.17600000'}, {'symbol': 'BAKETRY', 'price': '5.70000000'}, {'symbol': 'WIFBRL', 'price': '5.03000000'}, {'symbol': 'ZKUSDC', 'price': '0.07590000'}, {'symbol': 'ZROUSDC', 'price': '2.95700000'}, {'symbol': 'IOUSDC', 'price': '1.02400000'}, {'symbol': '1000SATSUSDC', 'price': '0.00005180'}, {'symbol': 'BNXTRY', 'price': '65.30000000'}, {'symbol': 'ETHARS', 'price': '2910050.00000000'}, {'symbol': 'GUSDT', 'price': '0.01675000'}, {'symbol': 'GTRY', 'price': '0.64600000'}, {'symbol': 'BANANABTC', 'price': '0.00023580'}, {'symbol': 'BANANAUSDT', 'price': '24.67000000'}, {'symbol': 'BANANABNB', 'price': '0.03695000'}, {'symbol': 'BANANAFDUSD', 'price': '24.23000000'}, {'symbol': 'BANANATRY', 'price': '950.00000000'}, {'symbol': 'RENDERBTC', 'price': '0.00004991'}, {'symbol': 'RENDERUSDT', 'price': '5.20800000'}, {'symbol': 'RENDERFDUSD', 'price': '5.21700000'}, {'symbol': 'RENDERUSDC', 'price': '5.21000000'}, {'symbol': 'RENDERTRY', 'price': '201.20000000'}, {'symbol': 'RENDEREUR', 'price': '4.61700000'}, {'symbol': 'RENDERBRL', 'price': '29.51000000'}, {'symbol': 'TONBTC', 'price': '0.00003233'}, {'symbol': 'TONUSDT', 'price': '3.38200000'}, {'symbol': 'TONFDUSD', 'price': '3.38400000'}, {'symbol': 'TONTRY', 'price': '130.10000000'}, {'symbol': 'BONKBRL', 'price': '0.00012438'}, {'symbol': 'NOTEUR', 'price': '0.00283000'}, {'symbol': 'DOGEJPY', 'price': '34.00000000'}, {'symbol': 'MATICJPY', 'price': '54.46000000'}, {'symbol': 'NEARJPY', 'price': '464.60000000'}, {'symbol': 'TONUSDC', 'price': '3.38300000'}, {'symbol': 'AAVEFDUSD', 'price': '220.80000000'}, {'symbol': 'DOGSUSDT', 'price': '0.00021290'}, {'symbol': 'DOGSBNB', 'price': '0.00000064'}, {'symbol': 'DOGSFDUSD', 'price': '0.00021310'}, {'symbol': 'DOGSTRY', 'price': '0.00823000'}, {'symbol': 'EUREURI', 'price': '1.00010000'}, {'symbol': 'EURIUSDT', 'price': '1.12660000'}, {'symbol': 'DOGSBRL', 'price': '0.00100600'}, {'symbol': 'DOGSUSDC', 'price': '0.00021290'}, {'symbol': 'RAREBRL', 'price': '0.68690000'}, {'symbol': 'RAREUSDC', 'price': '0.07220000'}, {'symbol': 'SLFBTC', 'price': '0.00000204'}, {'symbol': 'SLFTRY', 'price': '8.23000000'}, {'symbol': 'SLFUSDC', 'price': '0.21320000'}, {'symbol': 'SLFUSDT', 'price': '0.21320000'}, {'symbol': 'AAVEUSDC', 'price': '220.25000000'}, {'symbol': 'SUNTRY', 'price': '0.74060000'}, {'symbol': 'STMXTRY', 'price': '0.16520000'}, {'symbol': 'POLBNB', 'price': '0.00039680'}, {'symbol': 'POLBRL', 'price': '1.47300000'}, {'symbol': 'POLBTC', 'price': '0.00000250'}, {'symbol': 'POLETH', 'price': '0.00010450'}, {'symbol': 'POLEUR', 'price': '0.23080000'}, {'symbol': 'POLFDUSD', 'price': '0.26130000'}, {'symbol': 'POLJPY', 'price': '37.89000000'}, {'symbol': 'POLTRY', 'price': '10.07000000'}, {'symbol': 'POLUSDC', 'price': '0.26080000'}, {'symbol': 'POLUSDT', 'price': '0.26090000'}, {'symbol': 'NEIROUSDT', 'price': '0.00037089'}, {'symbol': 'TURBOUSDT', 'price': '0.00583200'}, {'symbol': '1MBABYDOGEUSDT', 'price': '0.00169250'}, {'symbol': 'CATIUSDT', 'price': '0.10200000'}, {'symbol': 'CATIBNB', 'price': '0.00045600'}, {'symbol': 'CATIFDUSD', 'price': '0.10110000'}, {'symbol': 'CATITRY', 'price': '3.93000000'}, {'symbol': '1MBABYDOGEFDUSD', 'price': '0.00169030'}, {'symbol': '1MBABYDOGETRY', 'price': '0.06539000'}, {'symbol': 'CATIBRL', 'price': '1.91000000'}, {'symbol': 'BTCEURI', 'price': '92519.03000000'}, {'symbol': 'NEIROFDUSD', 'price': '0.00037207'}, {'symbol': 'NEIROTRY', 'price': '0.01433000'}, {'symbol': 'HMSTRUSDT', 'price': '0.00270500'}, {'symbol': 'HMSTRBNB', 'price': '0.00000387'}, {'symbol': 'HMSTRFDUSD', 'price': '0.00270800'}, {'symbol': 'HMSTRTRY', 'price': '0.10450000'}, {'symbol': 'EIGENBTC', 'price': '0.00001326'}, {'symbol': 'EIGENUSDT', 'price': '1.38300000'}, {'symbol': 'EIGENFDUSD', 'price': '1.38700000'}, {'symbol': 'EIGENTRY', 'price': '53.46000000'}, {'symbol': 'NEIROBRL', 'price': '0.00205300'}, {'symbol': 'NEIROEUR', 'price': '0.00034972'}, {'symbol': 'BNSOLSOL', 'price': '1.04970000'}, {'symbol': 'SCRUSDT', 'price': '0.41900000'}, {'symbol': 'SUIBRL', 'price': '22.66000000'}, {'symbol': 'TURBOTRY', 'price': '0.22520000'}, {'symbol': 'BNSOLUSDT', 'price': '182.60000000'}, {'symbol': 'LUMIAUSDT', 'price': '0.38200000'}, {'symbol': 'SCRBTC', 'price': '0.00000404'}, {'symbol': 'SCRFDUSD', 'price': '0.42100000'}, {'symbol': 'SCRTRY', 'price': '16.15000000'}, {'symbol': 'KAIAUSDT', 'price': '0.12410000'}, {'symbol': 'COWUSDT', 'price': '0.38060000'}, {'symbol': 'CETUSUSDT', 'price': '0.21140000'}, {'symbol': 'PNUTUSDT', 'price': '0.35450000'}, {'symbol': 'ACTUSDT', 'price': '0.05910000'}, {'symbol': 'ACTTRY', 'price': '2.29000000'}, {'symbol': 'COWTRY', 'price': '14.60000000'}, {'symbol': 'CETUSTRY', 'price': '8.17000000'}, {'symbol': 'TROYTRY', 'price': '0.00240000'}, {'symbol': 'PNUTTRY', 'price': '13.70000000'}, {'symbol': 'ACTFDUSD', 'price': '0.05920000'}, {'symbol': 'ACTUSDC', 'price': '0.05910000'}, {'symbol': 'NEIROUSDC', 'price': '0.00037083'}, {'symbol': 'PNUTBTC', 'price': '0.00000341'}, {'symbol': 'PNUTFDUSD', 'price': '0.35510000'}, {'symbol': 'PNUTUSDC', 'price': '0.35450000'}, {'symbol': 'USUALUSDT', 'price': '0.15840000'}, {'symbol': 'ACTBRL', 'price': '0.32200000'}, {'symbol': 'ACTEUR', 'price': '0.05200000'}, {'symbol': 'CATIUSDC', 'price': '0.10200000'}, {'symbol': 'ETHEURI', 'price': '2224.25000000'}, {'symbol': 'LUMIATRY', 'price': '14.52000000'}, {'symbol': 'PNUTBRL', 'price': '1.99300000'}, {'symbol': 'PNUTEUR', 'price': '0.31480000'}, {'symbol': 'APEFDUSD', 'price': '0.65520000'}, {'symbol': 'FDUSDUSDC', 'price': '0.99860000'}, {'symbol': 'HBARUSDC', 'price': '0.20724000'}, {'symbol': 'OMUSDC', 'price': '0.43220000'}, {'symbol': 'RAYUSDC', 'price': '3.14400000'}, {'symbol': 'TAOUSDC', 'price': '455.40000000'}, {'symbol': 'TURBOFDUSD', 'price': '0.00230900'}, {'symbol': 'THEBTC', 'price': '0.00000283'}, {'symbol': 'THEBNB', 'price': '0.00060430'}, {'symbol': 'THEFDUSD', 'price': '0.34110000'}, {'symbol': 'THETRY', 'price': '13.15200000'}, {'symbol': 'THEUSDT', 'price': '0.34100000'}, {'symbol': 'APEUSDC', 'price': '0.65520000'}, {'symbol': 'BOMEEUR', 'price': '0.00182800'}, {'symbol': 'EIGENUSDC', 'price': '1.38400000'}, {'symbol': 'HBARFDUSD', 'price': '0.20702000'}, {'symbol': 'MEMEUSDC', 'price': '0.00272100'}, {'symbol': 'TROYUSDC', 'price': '0.00006500'}, {'symbol': 'WLDEUR', 'price': '1.12200000'}, {'symbol': '1MBABYDOGEUSDC', 'price': '0.00169130'}, {'symbol': 'CETUSUSDC', 'price': '0.21140000'}, {'symbol': 'COWUSDC', 'price': '0.38050000'}, {'symbol': 'DYDXUSDC', 'price': '0.71720000'}, {'symbol': 'HMSTRUSDC', 'price': '0.00270800'}, {'symbol': 'TURBOUSDC', 'price': '0.00583300'}, {'symbol': 'ENABRL', 'price': '2.24800000'}, {'symbol': 'EOSFDUSD', 'price': '0.91130000'}, {'symbol': 'KAIAUSDC', 'price': '0.12410000'}, {'symbol': 'SANDUSDC', 'price': '0.35280000'}, {'symbol': 'XLMFDUSD', 'price': '0.30570000'}, {'symbol': 'CHZUSDC', 'price': '0.04789000'}, {'symbol': 'PYTHUSDC', 'price': '0.18590000'}, {'symbol': 'RSRUSDC', 'price': '0.00988600'}, {'symbol': 'RSRFDUSD', 'price': '0.00574400'}, {'symbol': 'WUSDC', 'price': '0.10120000'}, {'symbol': 'XTZUSDC', 'price': '0.66200000'}, {'symbol': 'ACXUSDT', 'price': '0.26190000'}, {'symbol': 'ORCAUSDT', 'price': '2.91400000'}, {'symbol': 'MOVEBTC', 'price': '0.00000221'}, {'symbol': 'MOVEUSDT', 'price': '0.23090000'}, {'symbol': 'MOVEBNB', 'price': '0.00034850'}, {'symbol': 'MOVEFDUSD', 'price': '0.23050000'}, {'symbol': 'MOVETRY', 'price': '8.91000000'}, {'symbol': 'MEBTC', 'price': '0.00001083'}, {'symbol': 'MEUSDT', 'price': '1.12900000'}, {'symbol': 'MEFDUSD', 'price': '1.13100000'}, {'symbol': 'METRY', 'price': '43.62000000'}, {'symbol': 'ACXUSDC', 'price': '0.26230000'}, {'symbol': 'ORCAUSDC', 'price': '2.91500000'}, {'symbol': 'ACXFDUSD', 'price': '0.26300000'}, {'symbol': 'ORCAFDUSD', 'price': '2.88500000'}, {'symbol': 'ACXTRY', 'price': '10.11000000'}, {'symbol': 'ORCATRY', 'price': '112.40000000'}, {'symbol': 'KSMTRY', 'price': '718.00000000'}, {'symbol': 'CELOTRY', 'price': '16.10000000'}, {'symbol': 'HIVEFDUSD', 'price': '0.26400000'}, {'symbol': 'HIVEUSDC', 'price': '0.26360000'}, {'symbol': 'IDEXFDUSD', 'price': '0.02762000'}, {'symbol': 'IDEXUSDC', 'price': '0.02803000'}, {'symbol': 'TLMFDUSD', 'price': '0.00631000'}, {'symbol': 'TLMUSDC', 'price': '0.00633000'}, {'symbol': 'VELODROMEUSDT', 'price': '0.06970000'}, {'symbol': 'VANAUSDT', 'price': '6.56900000'}, {'symbol': 'VANABNB', 'price': '0.00866000'}, {'symbol': 'VANAFDUSD', 'price': '6.52000000'}, {'symbol': 'VANATRY', 'price': '252.90000000'}, {'symbol': '1000CATUSDT', 'price': '0.01059000'}, {'symbol': '1000CATBNB', 'price': '0.00001593'}, {'symbol': '1000CATFDUSD', 'price': '0.01054000'}, {'symbol': '1000CATTRY', 'price': '0.40900000'}, {'symbol': 'PENGUUSDT', 'price': '0.01376000'}, {'symbol': 'PENGUBNB', 'price': '0.00000732'}, {'symbol': 'PENGUFDUSD', 'price': '0.01378900'}, {'symbol': 'PENGUTRY', 'price': '0.53120000'}, {'symbol': 'USUALBTC', 'price': '0.00000152'}, {'symbol': 'USUALFDUSD', 'price': '0.15800000'}, {'symbol': 'USUALTRY', 'price': '6.12000000'}, {'symbol': '1000CATUSDC', 'price': '0.01058000'}, {'symbol': 'PENGUUSDC', 'price': '0.01376300'}, {'symbol': 'BIOUSDT', 'price': '0.08620000'}, {'symbol': 'BIOBNB', 'price': '0.00013067'}, {'symbol': 'BIOFDUSD', 'price': '0.08580000'}, {'symbol': 'BIOTRY', 'price': '3.31100000'}, {'symbol': 'BIOUSDC', 'price': '0.08610000'}, {'symbol': 'HIVETRY', 'price': '10.16000000'}, {'symbol': 'MOVEUSDC', 'price': '0.23090000'}, {'symbol': 'PHATRY', 'price': '5.24000000'}, {'symbol': 'SUSHITRY', 'price': '31.34000000'}, {'symbol': 'DUSDT', 'price': '0.05007000'}, {'symbol': 'DTRY', 'price': '1.93200000'}, {'symbol': 'APTJPY', 'price': '860.30000000'}, {'symbol': 'SUIJPY', 'price': '579.95000000'}, {'symbol': 'XLMJPY', 'price': '44.34000000'}, {'symbol': 'PEPEJPY', 'price': '0.00189300'}, {'symbol': 'PHAUSDC', 'price': '0.13570000'}, {'symbol': 'USDCPLN', 'price': '3.74000000'}, {'symbol': 'STEEMUSDC', 'price': '0.15900000'}, {'symbol': 'USUALUSDC', 'price': '0.15840000'}, {'symbol': 'AIXBTUSDT', 'price': '0.19970000'}, {'symbol': 'AIXBTUSDC', 'price': '0.20000000'}, {'symbol': 'CGPTUSDT', 'price': '0.13150000'}, {'symbol': 'CGPTUSDC', 'price': '0.13050000'}, {'symbol': 'COOKIEUSDT', 'price': '0.17920000'}, {'symbol': 'COOKIEUSDC', 'price': '0.17790000'}, {'symbol': 'SBTC', 'price': '0.00000563'}, {'symbol': 'SBNB', 'price': '0.00088700'}, {'symbol': 'SETH', 'price': '0.00023490'}, {'symbol': 'SEUR', 'price': '0.51950000'}, {'symbol': 'SFDUSD', 'price': '0.58880000'}, {'symbol': 'STRY', 'price': '22.68000000'}, {'symbol': 'SUSDC', 'price': '0.58750000'}, {'symbol': 'SUSDT', 'price': '0.58710000'}, {'symbol': 'IOTXJPY', 'price': '3.12300000'}, {'symbol': 'SEIJPY', 'price': '37.98000000'}, {'symbol': 'SOLVUSDT', 'price': '0.04139000'}, {'symbol': 'SOLVBNB', 'price': '0.00006293'}, {'symbol': 'SOLVFDUSD', 'price': '0.04136000'}, {'symbol': 'SOLVTRY', 'price': '1.59800000'}, {'symbol': 'TRUMPUSDT', 'price': '13.78000000'}, {'symbol': 'TRUMPUSDC', 'price': '13.78000000'}, {'symbol': 'AIXBTTRY', 'price': '7.69000000'}, {'symbol': 'TRUMPTRY', 'price': '531.90000000'}, {'symbol': 'ANIMEUSDT', 'price': '0.02109000'}, {'symbol': 'ANIMEUSDC', 'price': '0.02109000'}, {'symbol': 'ANIMEBNB', 'price': '0.00003240'}, {'symbol': 'ANIMEFDUSD', 'price': '0.02077000'}, {'symbol': 'ANIMETRY', 'price': '0.81200000'}, {'symbol': 'BERABTC', 'price': '0.00004075'}, {'symbol': 'BERAUSDT', 'price': '4.24300000'}, {'symbol': 'BERAUSDC', 'price': '4.24300000'}, {'symbol': 'BERAFDUSD', 'price': '4.22500000'}, {'symbol': 'BERABNB', 'price': '0.00643900'}, {'symbol': 'BERATRY', 'price': '163.96000000'}, {'symbol': '1000CHEEMSUSDT', 'price': '0.00157000'}, {'symbol': '1000CHEEMSUSDC', 'price': '0.00156800'}, {'symbol': 'TSTUSDT', 'price': '0.06000000'}, {'symbol': 'TSTUSDC', 'price': '0.06000000'}, {'symbol': 'LAYERBTC', 'price': '0.00001145'}, {'symbol': 'LAYERUSDT', 'price': '1.18770000'}, {'symbol': 'LAYERUSDC', 'price': '1.18790000'}, {'symbol': 'LAYERBNB', 'price': '0.00182150'}, {'symbol': 'LAYERFDUSD', 'price': '1.19310000'}, {'symbol': 'LAYERTRY', 'price': '45.86000000'}, {'symbol': 'QTUMTRY', 'price': '96.90000000'}, {'symbol': 'TRUMPEUR', 'price': '12.21000000'}, {'symbol': 'VTHOTRY', 'price': '0.10770000'}, {'symbol': 'HEIBTC', 'price': '0.00000349'}, {'symbol': 'HEIUSDT', 'price': '0.36480000'}, {'symbol': 'CAKEUSDC', 'price': '2.42600000'}, {'symbol': 'HEIUSDC', 'price': '0.36350000'}, {'symbol': 'TRUMPFDUSD', 'price': '13.80000000'}, {'symbol': 'TSTFDUSD', 'price': '0.06000000'}, {'symbol': 'BNXUSDC', 'price': '1.77830000'}, {'symbol': 'LTCJPY', 'price': '14616.00000000'}, {'symbol': 'BCHJPY', 'price': '60016.00000000'}, {'symbol': 'LINKJPY', 'price': '2414.00000000'}, {'symbol': 'KAITOBTC', 'price': '0.00001662'}, {'symbol': 'KAITOUSDT', 'price': '1.73760000'}, {'symbol': 'KAITOUSDC', 'price': '1.73720000'}, {'symbol': 'KAITOBNB', 'price': '0.00263610'}, {'symbol': 'KAITOFDUSD', 'price': '1.73490000'}, {'symbol': 'KAITOTRY', 'price': '67.08300000'}, {'symbol': 'ETHMXN', 'price': '48285.00000000'}, {'symbol': 'KAITOBRL', 'price': '9.80800000'}, {'symbol': 'SOLMXN', 'price': '3388.00000000'}, {'symbol': 'BNBARS', 'price': '769459.00000000'}, {'symbol': 'SOLARS', 'price': '204316.00000000'}, {'symbol': 'TRUMPBRL', 'price': '78.09000000'}, {'symbol': 'TRXFDUSD', 'price': '0.26070000'}, {'symbol': 'TSTTRY', 'price': '2.31500000'}, {'symbol': 'SHELLBTC', 'price': '0.00000231'}, {'symbol': 'SHELLUSDT', 'price': '0.24140000'}, {'symbol': 'SHELLUSDC', 'price': '0.24080000'}, {'symbol': 'SHELLBNB', 'price': '0.00036180'}, {'symbol': 'SHELLFDUSD', 'price': '0.24050000'}, {'symbol': 'SHELLTRY', 'price': '9.32000000'}, {'symbol': 'REDUSDT', 'price': '0.44390000'}, {'symbol': 'GPSUSDT', 'price': '0.02480000'}, {'symbol': 'GPSUSDC', 'price': '0.02480000'}, {'symbol': 'GPSFDUSD', 'price': '0.02470000'}, {'symbol': 'GPSTRY', 'price': '0.95700000'}, {'symbol': 'GPSBNB', 'price': '0.00003770'}, {'symbol': 'REDBTC', 'price': '0.00000419'}, {'symbol': 'REDUSDC', 'price': '0.44360000'}, {'symbol': 'REDFDUSD', 'price': '0.44430000'}, {'symbol': 'REDTRY', 'price': '17.13000000'}, {'symbol': 'CHESSUSDC', 'price': '0.07730000'}, {'symbol': 'EGLDUSDC', 'price': '19.40000000'}, {'symbol': 'OSMOUSDC', 'price': '0.26080000'}, {'symbol': 'UTKUSDC', 'price': '0.03883000'}, {'symbol': 'TUSDC', 'price': '0.01873000'}, {'symbol': 'CVCUSDC', 'price': '0.11480000'}, {'symbol': 'EURIUSDC', 'price': '1.12680000'}, {'symbol': 'SYNUSDC', 'price': '0.27280000'}, {'symbol': 'USDCRON', 'price': '4.52800000'}, {'symbol': 'VELODROMEUSDC', 'price': '0.06970000'}, {'symbol': 'EPICUSDT', 'price': '1.43900000'}, {'symbol': 'DFUSDC', 'price': '0.05075000'}, {'symbol': 'EPICUSDC', 'price': '1.44200000'}, {'symbol': 'GMXUSDC', 'price': '16.21000000'}, {'symbol': 'MKRUSDC', 'price': '1819.00000000'}, {'symbol': 'RPLUSDC', 'price': '6.02000000'}, {'symbol': 'BMTUSDT', 'price': '0.10900000'}, {'symbol': 'BMTUSDC', 'price': '0.10900000'}, {'symbol': 'BMTBNB', 'price': '0.00016610'}, {'symbol': 'BMTFDUSD', 'price': '0.10730000'}, {'symbol': 'BMTTRY', 'price': '4.20100000'}, {'symbol': 'FORMUSDC', 'price': '2.41850000'}, {'symbol': 'FORMUSDT', 'price': '2.41050000'}, {'symbol': 'FORMTRY', 'price': '93.25000000'}, {'symbol': 'XUSDUSDT', 'price': '1.00010000'}, {'symbol': 'IOTAUSDC', 'price': '0.24600000'}, {'symbol': 'JUVUSDC', 'price': '1.23300000'}, {'symbol': 'THEUSDC', 'price': '0.34090000'}, {'symbol': 'VANRYUSDC', 'price': '0.04200000'}, {'symbol': 'USDCCZK', 'price': '22.08000000'}, {'symbol': 'NILUSDT', 'price': '0.50300000'}, {'symbol': 'NILBNB', 'price': '0.00075250'}, {'symbol': 'NILFDUSD', 'price': '0.50200000'}, {'symbol': 'NILUSDC', 'price': '0.50200000'}, {'symbol': 'NILTRY', 'price': '19.36000000'}, {'symbol': 'BEAMXUSDC', 'price': '0.00902000'}, {'symbol': 'VANAUSDC', 'price': '6.56500000'}, {'symbol': 'PARTIFDUSD', 'price': '0.35970000'}, {'symbol': 'PARTITRY', 'price': '13.85000000'}, {'symbol': 'PARTIUSDT', 'price': '0.35980000'}, {'symbol': 'PARTIUSDC', 'price': '0.35920000'}, {'symbol': 'PARTIBNB', 'price': '0.00054916'}, {'symbol': 'MUBARAKUSDT', 'price': '0.04500000'}, {'symbol': 'MUBARAKUSDC', 'price': '0.04500000'}, {'symbol': 'TUTUSDT', 'price': '0.02814000'}, {'symbol': 'BROCCOLI714USDT', 'price': '0.03647000'}, {'symbol': 'TUTUSDC', 'price': '0.02790000'}, {'symbol': 'BANANAS31USDT', 'price': '0.00492400'}, {'symbol': 'BANANAS31USDC', 'price': '0.00492900'}, {'symbol': 'BROCCOLI714USDC', 'price': '0.03645000'}, {'symbol': 'GUNUSDT', 'price': '0.05633000'}, {'symbol': 'GUNBNB', 'price': '0.00008567'}, {'symbol': 'GUNFDUSD', 'price': '0.05623000'}, {'symbol': 'GUNTRY', 'price': '2.17400000'}, {'symbol': 'THETAUSDC', 'price': '1.01300000'}, {'symbol': 'API3USDC', 'price': '0.92800000'}, {'symbol': 'AUCTIONTRY', 'price': '517.90000000'}, {'symbol': 'AUCTIONUSDC', 'price': '13.41000000'}, {'symbol': 'BANANAUSDC', 'price': '24.62000000'}, {'symbol': 'GUNUSDC', 'price': '0.05633000'}, {'symbol': 'QNTUSDC', 'price': '96.50000000'}, {'symbol': 'VETUSDC', 'price': '0.03093000'}, {'symbol': 'ZENUSDC', 'price': '10.57000000'}, {'symbol': 'BABYUSDT', 'price': '0.09428000'}, {'symbol': 'BABYUSDC', 'price': '0.09430000'}, {'symbol': 'BABYBNB', 'price': '0.00014204'}, {'symbol': 'BABYFDUSD', 'price': '0.09323000'}, {'symbol': 'BABYTRY', 'price': '3.64100000'}, {'symbol': 'ONDOUSDT', 'price': '1.03380000'}, {'symbol': 'ONDOUSDC', 'price': '1.03460000'}, {'symbol': 'BIGTIMEUSDT', 'price': '0.08240000'}, {'symbol': 'BIGTIMEUSDC', 'price': '0.08213000'}, {'symbol': 'VIRTUALUSDT', 'price': '1.94620000'}, {'symbol': 'VIRTUALUSDC', 'price': '1.94670000'}, {'symbol': 'KERNELBNB', 'price': '0.00025620'}, {'symbol': 'KERNELFDUSD', 'price': '0.17070000'}, {'symbol': 'KERNELTRY', 'price': '6.60000000'}, {'symbol': 'KERNELUSDC', 'price': '0.17030000'}, {'symbol': 'KERNELUSDT', 'price': '0.17090000'}, {'symbol': 'WCTTRY', 'price': '17.84000000'}, {'symbol': 'WCTFDUSD', 'price': '0.46390000'}, {'symbol': 'WCTBNB', 'price': '0.00070620'}, {'symbol': 'WCTUSDC', 'price': '0.46350000'}, {'symbol': 'WCTUSDT', 'price': '0.46350000'}, {'symbol': 'PAXGUSDC', 'price': '3330.00000000'}, {'symbol': 'ONDOTRY', 'price': '39.92000000'}, {'symbol': 'BABYEUR', 'price': '0.08265000'}, {'symbol': 'ACHUSDC', 'price': '0.02910000'}, {'symbol': 'GMTUSDC', 'price': '0.06340000'}, {'symbol': 'HYPERUSDT', 'price': '0.16900000'}, {'symbol': 'HYPERUSDC', 'price': '0.16890000'}, {'symbol': 'HYPERBNB', 'price': '0.00025550'}, {'symbol': 'HYPERFDUSD', 'price': '0.16780000'}, {'symbol': 'HYPERTRY', 'price': '6.49000000'}, {'symbol': 'INITUSDT', 'price': '1.08710000'}, {'symbol': 'INITUSDC', 'price': '1.08660000'}, {'symbol': 'INITBNB', 'price': '0.00164000'}, {'symbol': 'INITFDUSD', 'price': '1.07680000'}, {'symbol': 'INITTRY', 'price': '41.95000000'}, {'symbol': 'SIGNUSDT', 'price': '0.08663000'}, {'symbol': 'SIGNUSDC', 'price': '0.08658000'}, {'symbol': 'SIGNBNB', 'price': '0.00013017'}, {'symbol': 'SIGNFDUSD', 'price': '0.08653000'}, {'symbol': 'SIGNTRY', 'price': '3.34300000'}, {'symbol': 'STOUSDT', 'price': '0.13750000'}, {'symbol': 'STOUSDC', 'price': '0.13740000'}, {'symbol': 'STOBNB', 'price': '0.00020879'}, {'symbol': 'STOFDUSD', 'price': '0.13740000'}, {'symbol': 'STOTRY', 'price': '5.31100000'}, {'symbol': 'ENJUSDC', 'price': '0.09560000'}, {'symbol': 'VIRTUALTRY', 'price': '75.00000000'}, {'symbol': 'SYRUPUSDT', 'price': '0.31200000'}, {'symbol': 'SYRUPUSDC', 'price': '0.31220000'}, {'symbol': 'KMNOUSDT', 'price': '0.08254000'}, {'symbol': 'KMNOUSDC', 'price': '0.08257000'}, {'symbol': 'SXTUSDT', 'price': '0.13150000'}, {'symbol': 'SXTUSDC', 'price': '0.13150000'}, {'symbol': 'SXTBNB', 'price': '0.00019969'}, {'symbol': 'SXTFDUSD', 'price': '0.13150000'}, {'symbol': 'SXTTRY', 'price': '5.08500000'}]\n"
     ]
    }
   ],
   "source": [
    "def get_all_prices():\n",
    "    url = \"https://api.binance.com/api/v3/ticker/price\"\n",
    "    response = requests.get(url)\n",
    "    return response.json()\n",
    "\n",
    "prices = get_all_prices()\n",
    "print(prices)"
   ]
  },
  {
   "cell_type": "markdown",
   "id": "6e201048",
   "metadata": {},
   "source": [
    "# Стрим тикеров через websockets\n",
    "https://developers.binance.com/docs/binance-spot-api-docs/web-socket-streams"
   ]
  },
  {
   "cell_type": "code",
   "execution_count": null,
   "id": "58b58769",
   "metadata": {},
   "outputs": [],
   "source": [
    "symbols = [\"btcusdt\", \"ethusdt\", \"solusdt\"]\n",
    "streams = \"/\".join([f\"{s}@ticker\" for s in symbols])\n",
    "url = f\"wss://stream.binance.com:9443/stream?streams={streams}\"\n",
    "\n",
    "async def listen():\n",
    "    async with websockets.connect(url) as websocket:\n",
    "        while True:\n",
    "            data = await websocket.recv()\n",
    "            parsed = json.loads(data)\n",
    "            symbol = parsed[\"data\"][\"s\"]\n",
    "            price = parsed[\"data\"][\"c\"]\n",
    "            print(f\"{symbol}: {price}\")\n",
    "\n",
    "asyncio.run(listen())"
   ]
  },
  {
   "cell_type": "markdown",
   "id": "e4a40836",
   "metadata": {},
   "source": [
    "#### Формат ответа\n",
    "\n",
    "```json\n",
    "{\n",
    "    'stream': 'solusdt@ticker',\n",
    "    'data': {\n",
    "        \"e\": \"24hrTicker\",  // Event type\n",
    "        \"E\": 1672515782136, // Event time\n",
    "        \"s\": \"BNBBTC\",      // Symbol\n",
    "        \"p\": \"0.0015\",      // Price change\n",
    "        \"P\": \"250.00\",      // Price change percent\n",
    "        \"w\": \"0.0018\",      // Weighted average price\n",
    "        \"x\": \"0.0009\",      // First trade(F)-1 price (first trade before the 24hr rolling window)\n",
    "        \"c\": \"0.0025\",      // Last price\n",
    "        \"Q\": \"10\",          // Last quantity\n",
    "        \"b\": \"0.0024\",      // Best bid price\n",
    "        \"B\": \"10\",          // Best bid quantity\n",
    "        \"a\": \"0.0026\",      // Best ask price\n",
    "        \"A\": \"100\",         // Best ask quantity\n",
    "        \"o\": \"0.0010\",      // Open price\n",
    "        \"h\": \"0.0025\",      // High price\n",
    "        \"l\": \"0.0010\",      // Low price\n",
    "        \"v\": \"10000\",       // Total traded base asset volume\n",
    "        \"q\": \"18\",          // Total traded quote asset volume\n",
    "        \"O\": 0,             // Statistics open time\n",
    "        \"C\": 86400000,      // Statistics close time\n",
    "        \"F\": 0,             // First trade ID\n",
    "        \"L\": 18150,         // Last trade Id\n",
    "        \"n\": 18151          // Total number of trades\n",
    "    }\n",
    "}\n",
    "```"
   ]
  },
  {
   "cell_type": "markdown",
   "id": "f6db3cc3",
   "metadata": {},
   "source": [
    "# Получаем минутные свечи "
   ]
  },
  {
   "cell_type": "code",
   "execution_count": null,
   "id": "215ab012",
   "metadata": {},
   "outputs": [],
   "source": [
    "symbols = [\"btcusdt\", \"ethusdt\", \"solusdt\"]\n",
    "streams = \"/\".join([f\"{s}@kline_1m\" for s in symbols])\n",
    "url = f\"wss://stream.binance.com:9443/stream?streams={streams}\"\n",
    "\n",
    "async def listen():\n",
    "    async with websockets.connect(url) as ws:\n",
    "        while True:\n",
    "            msg = await ws.recv()\n",
    "            parsed = json.loads(msg)\n",
    "            data = parsed[\"data\"][\"k\"] # kline data\n",
    "            if data[\"x\"]:  # x=True означает, что свеча закрыта (complete)\n",
    "                symbol = data[\"s\"]\n",
    "                open_price = float(data[\"o\"])\n",
    "                close_price = float(data[\"c\"])\n",
    "                print(symbol, open_price, close_price)\n",
    "\n",
    "asyncio.run(listen())"
   ]
  },
  {
   "cell_type": "markdown",
   "id": "6331aebb",
   "metadata": {},
   "source": [
    "#### Формат ответа\n",
    "```json\n",
    "{\n",
    "    'stream': 'solusdt@kline_1m',\n",
    "    'data': {\n",
    "        \"e\": \"kline\",         // Event type\n",
    "        \"E\": 1672515782136,   // Event time\n",
    "        \"s\": \"BNBBTC\",        // Symbol\n",
    "        \"k\": {\n",
    "            \"t\": 1672515780000, // Kline start time\n",
    "            \"T\": 1672515839999, // Kline close time\n",
    "            \"s\": \"BNBBTC\",      // Symbol\n",
    "            \"i\": \"1m\",          // Interval\n",
    "            \"f\": 100,           // First trade ID\n",
    "            \"L\": 200,           // Last trade ID\n",
    "            \"o\": \"0.0010\",      // Open price\n",
    "            \"c\": \"0.0020\",      // Close price\n",
    "            \"h\": \"0.0025\",      // High price\n",
    "            \"l\": \"0.0015\",      // Low price\n",
    "            \"v\": \"1000\",        // Base asset volume\n",
    "            \"n\": 100,           // Number of trades\n",
    "            \"x\": false,         // Is this kline closed?\n",
    "            \"q\": \"1.0000\",      // Quote asset volume\n",
    "            \"V\": \"500\",         // Taker buy base asset volume\n",
    "            \"Q\": \"0.500\",       // Taker buy quote asset volume\n",
    "            \"B\": \"123456\"       // Ignore\n",
    "        }\n",
    "    }\n",
    "}\n",
    "```"
   ]
  },
  {
   "cell_type": "code",
   "execution_count": 1,
   "id": "22860106",
   "metadata": {},
   "outputs": [
    {
     "name": "stdout",
     "output_type": "stream",
     "text": [
      "     ticker            datetime    open    high     low   close    volume\n",
      "0  SOL/USDT 2025-03-01 00:00:00  148.18  148.23  147.85  147.85  5974.582\n",
      "1  SOL/USDT 2025-03-01 00:01:00  147.86  147.98  147.68  147.77  5389.290\n",
      "2  SOL/USDT 2025-03-01 00:02:00  147.77  147.77  147.42  147.60  6629.311\n",
      "3  SOL/USDT 2025-03-01 00:03:00  147.59  147.60  147.41  147.45  1836.477\n",
      "4  SOL/USDT 2025-03-01 00:04:00  147.45  147.59  147.24  147.26  3683.697\n"
     ]
    }
   ],
   "source": [
    "import pandas as pd\n",
    "\n",
    "print(pd.read_parquet('/home/koshkidadanet/My Files/FireflyX/03_05_1m.parquet').head())\n",
    "\n",
    "df = pd.read_parquet('/home/koshkidadanet/My Files/FireflyX/03_05_1m.parquet')"
   ]
  },
  {
   "cell_type": "code",
   "execution_count": 2,
   "id": "e8810135",
   "metadata": {},
   "outputs": [],
   "source": [
    "df['date'] = df['datetime'].dt.date"
   ]
  },
  {
   "cell_type": "code",
   "execution_count": 5,
   "id": "44d9e66d",
   "metadata": {},
   "outputs": [],
   "source": [
    "plot_df = df.loc[\n",
    "    # (df.ticker == 'XRP/USDT') & (df.datetime.between('2025-03-02 14:00:00', '2025-03-02 18:00:00'))\n",
    "    # |(df.ticker == 'SOL/USDT') & (df.datetime.between('2025-03-02 14:30:00', '2025-03-02 18:30:00'))\n",
    "    (df.ticker == 'ADA/USDT') & (df.datetime.between('2025-03-02 15:00:00', '2025-03-02 19:00:00'))\n",
    "]\n",
    "\n",
    "# 2025-03-02"
   ]
  },
  {
   "cell_type": "code",
   "execution_count": 67,
   "id": "b4f84c60",
   "metadata": {},
   "outputs": [],
   "source": [
    "import json\n",
    "\n",
    "tickers = plot_df['ticker'].unique()\n",
    "\n",
    "# Разбиваем по тикерам\n",
    "ticker_dfs = {\n",
    "    ticker: plot_df[plot_df['ticker'] == ticker].sort_values('datetime').reset_index(drop=True)\n",
    "    for ticker in tickers\n",
    "}\n",
    "\n",
    "lengths = [len(df_) for df_ in ticker_dfs.values()]\n",
    "if len(set(lengths)) != 1:\n",
    "    raise ValueError(\"Количество свечей у разных тикеров не совпадает\")\n",
    "\n",
    "n_rows = lengths[0]\n",
    "result = []\n",
    "\n",
    "for i in range(n_rows):\n",
    "    for ticker in tickers:\n",
    "        row = ticker_dfs[ticker].iloc[i]\n",
    "        result.append({\n",
    "            's': ticker.replace('/', '').lower(),\n",
    "            'o': float(row['open']),\n",
    "            'c': float(row['close']),\n",
    "            'datetime': row['datetime'].isoformat()\n",
    "        })\n",
    "\n",
    "# Сохраняем в JSON\n",
    "with open('candles.json', 'w') as f:\n",
    "    json.dump(result, f, indent=2)\n",
    "\n",
    "# Загрузка при необходимости\n",
    "with open('candles.json', 'r') as f:\n",
    "    loaded_result = json.load(f)"
   ]
  },
  {
   "cell_type": "code",
   "execution_count": 8,
   "id": "32053a7c",
   "metadata": {},
   "outputs": [
    {
     "data": {
      "application/vnd.plotly.v1+json": {
       "config": {
        "plotlyServerURL": "https://plot.ly"
       },
       "data": [
        {
         "close": {
          "bdata": "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",
          "dtype": "f8"
         },
         "high": {
          "bdata": "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",
          "dtype": "f8"
         },
         "low": {
          "bdata": "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",
          "dtype": "f8"
         },
         "name": "OHLC",
         "open": {
          "bdata": "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",
          "dtype": "f8"
         },
         "type": "candlestick",
         "x": [
          "2025-03-02T15:00:00.000000000",
          "2025-03-02T15:01:00.000000000",
          "2025-03-02T15:02:00.000000000",
          "2025-03-02T15:03:00.000000000",
          "2025-03-02T15:04:00.000000000",
          "2025-03-02T15:05:00.000000000",
          "2025-03-02T15:06:00.000000000",
          "2025-03-02T15:07:00.000000000",
          "2025-03-02T15:08:00.000000000",
          "2025-03-02T15:09:00.000000000",
          "2025-03-02T15:10:00.000000000",
          "2025-03-02T15:11:00.000000000",
          "2025-03-02T15:12:00.000000000",
          "2025-03-02T15:13:00.000000000",
          "2025-03-02T15:14:00.000000000",
          "2025-03-02T15:15:00.000000000",
          "2025-03-02T15:16:00.000000000",
          "2025-03-02T15:17:00.000000000",
          "2025-03-02T15:18:00.000000000",
          "2025-03-02T15:19:00.000000000",
          "2025-03-02T15:20:00.000000000",
          "2025-03-02T15:21:00.000000000",
          "2025-03-02T15:22:00.000000000",
          "2025-03-02T15:23:00.000000000",
          "2025-03-02T15:24:00.000000000",
          "2025-03-02T15:25:00.000000000",
          "2025-03-02T15:26:00.000000000",
          "2025-03-02T15:27:00.000000000",
          "2025-03-02T15:28:00.000000000",
          "2025-03-02T15:29:00.000000000",
          "2025-03-02T15:30:00.000000000",
          "2025-03-02T15:31:00.000000000",
          "2025-03-02T15:32:00.000000000",
          "2025-03-02T15:33:00.000000000",
          "2025-03-02T15:34:00.000000000",
          "2025-03-02T15:35:00.000000000",
          "2025-03-02T15:36:00.000000000",
          "2025-03-02T15:37:00.000000000",
          "2025-03-02T15:38:00.000000000",
          "2025-03-02T15:39:00.000000000",
          "2025-03-02T15:40:00.000000000",
          "2025-03-02T15:41:00.000000000",
          "2025-03-02T15:42:00.000000000",
          "2025-03-02T15:43:00.000000000",
          "2025-03-02T15:44:00.000000000",
          "2025-03-02T15:45:00.000000000",
          "2025-03-02T15:46:00.000000000",
          "2025-03-02T15:47:00.000000000",
          "2025-03-02T15:48:00.000000000",
          "2025-03-02T15:49:00.000000000",
          "2025-03-02T15:50:00.000000000",
          "2025-03-02T15:51:00.000000000",
          "2025-03-02T15:52:00.000000000",
          "2025-03-02T15:53:00.000000000",
          "2025-03-02T15:54:00.000000000",
          "2025-03-02T15:55:00.000000000",
          "2025-03-02T15:56:00.000000000",
          "2025-03-02T15:57:00.000000000",
          "2025-03-02T15:58:00.000000000",
          "2025-03-02T15:59:00.000000000",
          "2025-03-02T16:00:00.000000000",
          "2025-03-02T16:01:00.000000000",
          "2025-03-02T16:02:00.000000000",
          "2025-03-02T16:03:00.000000000",
          "2025-03-02T16:04:00.000000000",
          "2025-03-02T16:05:00.000000000",
          "2025-03-02T16:06:00.000000000",
          "2025-03-02T16:07:00.000000000",
          "2025-03-02T16:08:00.000000000",
          "2025-03-02T16:09:00.000000000",
          "2025-03-02T16:10:00.000000000",
          "2025-03-02T16:11:00.000000000",
          "2025-03-02T16:12:00.000000000",
          "2025-03-02T16:13:00.000000000",
          "2025-03-02T16:14:00.000000000",
          "2025-03-02T16:15:00.000000000",
          "2025-03-02T16:16:00.000000000",
          "2025-03-02T16:17:00.000000000",
          "2025-03-02T16:18:00.000000000",
          "2025-03-02T16:19:00.000000000",
          "2025-03-02T16:20:00.000000000",
          "2025-03-02T16:21:00.000000000",
          "2025-03-02T16:22:00.000000000",
          "2025-03-02T16:23:00.000000000",
          "2025-03-02T16:24:00.000000000",
          "2025-03-02T16:25:00.000000000",
          "2025-03-02T16:26:00.000000000",
          "2025-03-02T16:27:00.000000000",
          "2025-03-02T16:28:00.000000000",
          "2025-03-02T16:29:00.000000000",
          "2025-03-02T16:30:00.000000000",
          "2025-03-02T16:31:00.000000000",
          "2025-03-02T16:32:00.000000000",
          "2025-03-02T16:33:00.000000000",
          "2025-03-02T16:34:00.000000000",
          "2025-03-02T16:35:00.000000000",
          "2025-03-02T16:36:00.000000000",
          "2025-03-02T16:37:00.000000000",
          "2025-03-02T16:38:00.000000000",
          "2025-03-02T16:39:00.000000000",
          "2025-03-02T16:40:00.000000000",
          "2025-03-02T16:41:00.000000000",
          "2025-03-02T16:42:00.000000000",
          "2025-03-02T16:43:00.000000000",
          "2025-03-02T16:44:00.000000000",
          "2025-03-02T16:45:00.000000000",
          "2025-03-02T16:46:00.000000000",
          "2025-03-02T16:47:00.000000000",
          "2025-03-02T16:48:00.000000000",
          "2025-03-02T16:49:00.000000000",
          "2025-03-02T16:50:00.000000000",
          "2025-03-02T16:51:00.000000000",
          "2025-03-02T16:52:00.000000000",
          "2025-03-02T16:53:00.000000000",
          "2025-03-02T16:54:00.000000000",
          "2025-03-02T16:55:00.000000000",
          "2025-03-02T16:56:00.000000000",
          "2025-03-02T16:57:00.000000000",
          "2025-03-02T16:58:00.000000000",
          "2025-03-02T16:59:00.000000000",
          "2025-03-02T17:00:00.000000000",
          "2025-03-02T17:01:00.000000000",
          "2025-03-02T17:02:00.000000000",
          "2025-03-02T17:03:00.000000000",
          "2025-03-02T17:04:00.000000000",
          "2025-03-02T17:05:00.000000000",
          "2025-03-02T17:06:00.000000000",
          "2025-03-02T17:07:00.000000000",
          "2025-03-02T17:08:00.000000000",
          "2025-03-02T17:09:00.000000000",
          "2025-03-02T17:10:00.000000000",
          "2025-03-02T17:11:00.000000000",
          "2025-03-02T17:12:00.000000000",
          "2025-03-02T17:13:00.000000000",
          "2025-03-02T17:14:00.000000000",
          "2025-03-02T17:15:00.000000000",
          "2025-03-02T17:16:00.000000000",
          "2025-03-02T17:17:00.000000000",
          "2025-03-02T17:18:00.000000000",
          "2025-03-02T17:19:00.000000000",
          "2025-03-02T17:20:00.000000000",
          "2025-03-02T17:21:00.000000000",
          "2025-03-02T17:22:00.000000000",
          "2025-03-02T17:23:00.000000000",
          "2025-03-02T17:24:00.000000000",
          "2025-03-02T17:25:00.000000000",
          "2025-03-02T17:26:00.000000000",
          "2025-03-02T17:27:00.000000000",
          "2025-03-02T17:28:00.000000000",
          "2025-03-02T17:29:00.000000000",
          "2025-03-02T17:30:00.000000000",
          "2025-03-02T17:31:00.000000000",
          "2025-03-02T17:32:00.000000000",
          "2025-03-02T17:33:00.000000000",
          "2025-03-02T17:34:00.000000000",
          "2025-03-02T17:35:00.000000000",
          "2025-03-02T17:36:00.000000000",
          "2025-03-02T17:37:00.000000000",
          "2025-03-02T17:38:00.000000000",
          "2025-03-02T17:39:00.000000000",
          "2025-03-02T17:40:00.000000000",
          "2025-03-02T17:41:00.000000000",
          "2025-03-02T17:42:00.000000000",
          "2025-03-02T17:43:00.000000000",
          "2025-03-02T17:44:00.000000000",
          "2025-03-02T17:45:00.000000000",
          "2025-03-02T17:46:00.000000000",
          "2025-03-02T17:47:00.000000000",
          "2025-03-02T17:48:00.000000000",
          "2025-03-02T17:49:00.000000000",
          "2025-03-02T17:50:00.000000000",
          "2025-03-02T17:51:00.000000000",
          "2025-03-02T17:52:00.000000000",
          "2025-03-02T17:53:00.000000000",
          "2025-03-02T17:54:00.000000000",
          "2025-03-02T17:55:00.000000000",
          "2025-03-02T17:56:00.000000000",
          "2025-03-02T17:57:00.000000000",
          "2025-03-02T17:58:00.000000000",
          "2025-03-02T17:59:00.000000000",
          "2025-03-02T18:00:00.000000000",
          "2025-03-02T18:01:00.000000000",
          "2025-03-02T18:02:00.000000000",
          "2025-03-02T18:03:00.000000000",
          "2025-03-02T18:04:00.000000000",
          "2025-03-02T18:05:00.000000000",
          "2025-03-02T18:06:00.000000000",
          "2025-03-02T18:07:00.000000000",
          "2025-03-02T18:08:00.000000000",
          "2025-03-02T18:09:00.000000000",
          "2025-03-02T18:10:00.000000000",
          "2025-03-02T18:11:00.000000000",
          "2025-03-02T18:12:00.000000000",
          "2025-03-02T18:13:00.000000000",
          "2025-03-02T18:14:00.000000000",
          "2025-03-02T18:15:00.000000000",
          "2025-03-02T18:16:00.000000000",
          "2025-03-02T18:17:00.000000000",
          "2025-03-02T18:18:00.000000000",
          "2025-03-02T18:19:00.000000000",
          "2025-03-02T18:20:00.000000000",
          "2025-03-02T18:21:00.000000000",
          "2025-03-02T18:22:00.000000000",
          "2025-03-02T18:23:00.000000000",
          "2025-03-02T18:24:00.000000000",
          "2025-03-02T18:25:00.000000000",
          "2025-03-02T18:26:00.000000000",
          "2025-03-02T18:27:00.000000000",
          "2025-03-02T18:28:00.000000000",
          "2025-03-02T18:29:00.000000000",
          "2025-03-02T18:30:00.000000000",
          "2025-03-02T18:31:00.000000000",
          "2025-03-02T18:32:00.000000000",
          "2025-03-02T18:33:00.000000000",
          "2025-03-02T18:34:00.000000000",
          "2025-03-02T18:35:00.000000000",
          "2025-03-02T18:36:00.000000000",
          "2025-03-02T18:37:00.000000000",
          "2025-03-02T18:38:00.000000000",
          "2025-03-02T18:39:00.000000000",
          "2025-03-02T18:40:00.000000000",
          "2025-03-02T18:41:00.000000000",
          "2025-03-02T18:42:00.000000000",
          "2025-03-02T18:43:00.000000000",
          "2025-03-02T18:44:00.000000000",
          "2025-03-02T18:45:00.000000000",
          "2025-03-02T18:46:00.000000000",
          "2025-03-02T18:47:00.000000000",
          "2025-03-02T18:48:00.000000000",
          "2025-03-02T18:49:00.000000000",
          "2025-03-02T18:50:00.000000000",
          "2025-03-02T18:51:00.000000000",
          "2025-03-02T18:52:00.000000000",
          "2025-03-02T18:53:00.000000000",
          "2025-03-02T18:54:00.000000000",
          "2025-03-02T18:55:00.000000000",
          "2025-03-02T18:56:00.000000000",
          "2025-03-02T18:57:00.000000000",
          "2025-03-02T18:58:00.000000000",
          "2025-03-02T18:59:00.000000000",
          "2025-03-02T19:00:00.000000000"
         ]
        }
       ],
       "layout": {
        "template": {
         "data": {
          "bar": [
           {
            "error_x": {
             "color": "#2a3f5f"
            },
            "error_y": {
             "color": "#2a3f5f"
            },
            "marker": {
             "line": {
              "color": "#E5ECF6",
              "width": 0.5
             },
             "pattern": {
              "fillmode": "overlay",
              "size": 10,
              "solidity": 0.2
             }
            },
            "type": "bar"
           }
          ],
          "barpolar": [
           {
            "marker": {
             "line": {
              "color": "#E5ECF6",
              "width": 0.5
             },
             "pattern": {
              "fillmode": "overlay",
              "size": 10,
              "solidity": 0.2
             }
            },
            "type": "barpolar"
           }
          ],
          "carpet": [
           {
            "aaxis": {
             "endlinecolor": "#2a3f5f",
             "gridcolor": "white",
             "linecolor": "white",
             "minorgridcolor": "white",
             "startlinecolor": "#2a3f5f"
            },
            "baxis": {
             "endlinecolor": "#2a3f5f",
             "gridcolor": "white",
             "linecolor": "white",
             "minorgridcolor": "white",
             "startlinecolor": "#2a3f5f"
            },
            "type": "carpet"
           }
          ],
          "choropleth": [
           {
            "colorbar": {
             "outlinewidth": 0,
             "ticks": ""
            },
            "type": "choropleth"
           }
          ],
          "contour": [
           {
            "colorbar": {
             "outlinewidth": 0,
             "ticks": ""
            },
            "colorscale": [
             [
              0,
              "#0d0887"
             ],
             [
              0.1111111111111111,
              "#46039f"
             ],
             [
              0.2222222222222222,
              "#7201a8"
             ],
             [
              0.3333333333333333,
              "#9c179e"
             ],
             [
              0.4444444444444444,
              "#bd3786"
             ],
             [
              0.5555555555555556,
              "#d8576b"
             ],
             [
              0.6666666666666666,
              "#ed7953"
             ],
             [
              0.7777777777777778,
              "#fb9f3a"
             ],
             [
              0.8888888888888888,
              "#fdca26"
             ],
             [
              1,
              "#f0f921"
             ]
            ],
            "type": "contour"
           }
          ],
          "contourcarpet": [
           {
            "colorbar": {
             "outlinewidth": 0,
             "ticks": ""
            },
            "type": "contourcarpet"
           }
          ],
          "heatmap": [
           {
            "colorbar": {
             "outlinewidth": 0,
             "ticks": ""
            },
            "colorscale": [
             [
              0,
              "#0d0887"
             ],
             [
              0.1111111111111111,
              "#46039f"
             ],
             [
              0.2222222222222222,
              "#7201a8"
             ],
             [
              0.3333333333333333,
              "#9c179e"
             ],
             [
              0.4444444444444444,
              "#bd3786"
             ],
             [
              0.5555555555555556,
              "#d8576b"
             ],
             [
              0.6666666666666666,
              "#ed7953"
             ],
             [
              0.7777777777777778,
              "#fb9f3a"
             ],
             [
              0.8888888888888888,
              "#fdca26"
             ],
             [
              1,
              "#f0f921"
             ]
            ],
            "type": "heatmap"
           }
          ],
          "histogram": [
           {
            "marker": {
             "pattern": {
              "fillmode": "overlay",
              "size": 10,
              "solidity": 0.2
             }
            },
            "type": "histogram"
           }
          ],
          "histogram2d": [
           {
            "colorbar": {
             "outlinewidth": 0,
             "ticks": ""
            },
            "colorscale": [
             [
              0,
              "#0d0887"
             ],
             [
              0.1111111111111111,
              "#46039f"
             ],
             [
              0.2222222222222222,
              "#7201a8"
             ],
             [
              0.3333333333333333,
              "#9c179e"
             ],
             [
              0.4444444444444444,
              "#bd3786"
             ],
             [
              0.5555555555555556,
              "#d8576b"
             ],
             [
              0.6666666666666666,
              "#ed7953"
             ],
             [
              0.7777777777777778,
              "#fb9f3a"
             ],
             [
              0.8888888888888888,
              "#fdca26"
             ],
             [
              1,
              "#f0f921"
             ]
            ],
            "type": "histogram2d"
           }
          ],
          "histogram2dcontour": [
           {
            "colorbar": {
             "outlinewidth": 0,
             "ticks": ""
            },
            "colorscale": [
             [
              0,
              "#0d0887"
             ],
             [
              0.1111111111111111,
              "#46039f"
             ],
             [
              0.2222222222222222,
              "#7201a8"
             ],
             [
              0.3333333333333333,
              "#9c179e"
             ],
             [
              0.4444444444444444,
              "#bd3786"
             ],
             [
              0.5555555555555556,
              "#d8576b"
             ],
             [
              0.6666666666666666,
              "#ed7953"
             ],
             [
              0.7777777777777778,
              "#fb9f3a"
             ],
             [
              0.8888888888888888,
              "#fdca26"
             ],
             [
              1,
              "#f0f921"
             ]
            ],
            "type": "histogram2dcontour"
           }
          ],
          "mesh3d": [
           {
            "colorbar": {
             "outlinewidth": 0,
             "ticks": ""
            },
            "type": "mesh3d"
           }
          ],
          "parcoords": [
           {
            "line": {
             "colorbar": {
              "outlinewidth": 0,
              "ticks": ""
             }
            },
            "type": "parcoords"
           }
          ],
          "pie": [
           {
            "automargin": true,
            "type": "pie"
           }
          ],
          "scatter": [
           {
            "fillpattern": {
             "fillmode": "overlay",
             "size": 10,
             "solidity": 0.2
            },
            "type": "scatter"
           }
          ],
          "scatter3d": [
           {
            "line": {
             "colorbar": {
              "outlinewidth": 0,
              "ticks": ""
             }
            },
            "marker": {
             "colorbar": {
              "outlinewidth": 0,
              "ticks": ""
             }
            },
            "type": "scatter3d"
           }
          ],
          "scattercarpet": [
           {
            "marker": {
             "colorbar": {
              "outlinewidth": 0,
              "ticks": ""
             }
            },
            "type": "scattercarpet"
           }
          ],
          "scattergeo": [
           {
            "marker": {
             "colorbar": {
              "outlinewidth": 0,
              "ticks": ""
             }
            },
            "type": "scattergeo"
           }
          ],
          "scattergl": [
           {
            "marker": {
             "colorbar": {
              "outlinewidth": 0,
              "ticks": ""
             }
            },
            "type": "scattergl"
           }
          ],
          "scattermap": [
           {
            "marker": {
             "colorbar": {
              "outlinewidth": 0,
              "ticks": ""
             }
            },
            "type": "scattermap"
           }
          ],
          "scattermapbox": [
           {
            "marker": {
             "colorbar": {
              "outlinewidth": 0,
              "ticks": ""
             }
            },
            "type": "scattermapbox"
           }
          ],
          "scatterpolar": [
           {
            "marker": {
             "colorbar": {
              "outlinewidth": 0,
              "ticks": ""
             }
            },
            "type": "scatterpolar"
           }
          ],
          "scatterpolargl": [
           {
            "marker": {
             "colorbar": {
              "outlinewidth": 0,
              "ticks": ""
             }
            },
            "type": "scatterpolargl"
           }
          ],
          "scatterternary": [
           {
            "marker": {
             "colorbar": {
              "outlinewidth": 0,
              "ticks": ""
             }
            },
            "type": "scatterternary"
           }
          ],
          "surface": [
           {
            "colorbar": {
             "outlinewidth": 0,
             "ticks": ""
            },
            "colorscale": [
             [
              0,
              "#0d0887"
             ],
             [
              0.1111111111111111,
              "#46039f"
             ],
             [
              0.2222222222222222,
              "#7201a8"
             ],
             [
              0.3333333333333333,
              "#9c179e"
             ],
             [
              0.4444444444444444,
              "#bd3786"
             ],
             [
              0.5555555555555556,
              "#d8576b"
             ],
             [
              0.6666666666666666,
              "#ed7953"
             ],
             [
              0.7777777777777778,
              "#fb9f3a"
             ],
             [
              0.8888888888888888,
              "#fdca26"
             ],
             [
              1,
              "#f0f921"
             ]
            ],
            "type": "surface"
           }
          ],
          "table": [
           {
            "cells": {
             "fill": {
              "color": "#EBF0F8"
             },
             "line": {
              "color": "white"
             }
            },
            "header": {
             "fill": {
              "color": "#C8D4E3"
             },
             "line": {
              "color": "white"
             }
            },
            "type": "table"
           }
          ]
         },
         "layout": {
          "annotationdefaults": {
           "arrowcolor": "#2a3f5f",
           "arrowhead": 0,
           "arrowwidth": 1
          },
          "autotypenumbers": "strict",
          "coloraxis": {
           "colorbar": {
            "outlinewidth": 0,
            "ticks": ""
           }
          },
          "colorscale": {
           "diverging": [
            [
             0,
             "#8e0152"
            ],
            [
             0.1,
             "#c51b7d"
            ],
            [
             0.2,
             "#de77ae"
            ],
            [
             0.3,
             "#f1b6da"
            ],
            [
             0.4,
             "#fde0ef"
            ],
            [
             0.5,
             "#f7f7f7"
            ],
            [
             0.6,
             "#e6f5d0"
            ],
            [
             0.7,
             "#b8e186"
            ],
            [
             0.8,
             "#7fbc41"
            ],
            [
             0.9,
             "#4d9221"
            ],
            [
             1,
             "#276419"
            ]
           ],
           "sequential": [
            [
             0,
             "#0d0887"
            ],
            [
             0.1111111111111111,
             "#46039f"
            ],
            [
             0.2222222222222222,
             "#7201a8"
            ],
            [
             0.3333333333333333,
             "#9c179e"
            ],
            [
             0.4444444444444444,
             "#bd3786"
            ],
            [
             0.5555555555555556,
             "#d8576b"
            ],
            [
             0.6666666666666666,
             "#ed7953"
            ],
            [
             0.7777777777777778,
             "#fb9f3a"
            ],
            [
             0.8888888888888888,
             "#fdca26"
            ],
            [
             1,
             "#f0f921"
            ]
           ],
           "sequentialminus": [
            [
             0,
             "#0d0887"
            ],
            [
             0.1111111111111111,
             "#46039f"
            ],
            [
             0.2222222222222222,
             "#7201a8"
            ],
            [
             0.3333333333333333,
             "#9c179e"
            ],
            [
             0.4444444444444444,
             "#bd3786"
            ],
            [
             0.5555555555555556,
             "#d8576b"
            ],
            [
             0.6666666666666666,
             "#ed7953"
            ],
            [
             0.7777777777777778,
             "#fb9f3a"
            ],
            [
             0.8888888888888888,
             "#fdca26"
            ],
            [
             1,
             "#f0f921"
            ]
           ]
          },
          "colorway": [
           "#636efa",
           "#EF553B",
           "#00cc96",
           "#ab63fa",
           "#FFA15A",
           "#19d3f3",
           "#FF6692",
           "#B6E880",
           "#FF97FF",
           "#FECB52"
          ],
          "font": {
           "color": "#2a3f5f"
          },
          "geo": {
           "bgcolor": "white",
           "lakecolor": "white",
           "landcolor": "#E5ECF6",
           "showlakes": true,
           "showland": true,
           "subunitcolor": "white"
          },
          "hoverlabel": {
           "align": "left"
          },
          "hovermode": "closest",
          "mapbox": {
           "style": "light"
          },
          "paper_bgcolor": "white",
          "plot_bgcolor": "#E5ECF6",
          "polar": {
           "angularaxis": {
            "gridcolor": "white",
            "linecolor": "white",
            "ticks": ""
           },
           "bgcolor": "#E5ECF6",
           "radialaxis": {
            "gridcolor": "white",
            "linecolor": "white",
            "ticks": ""
           }
          },
          "scene": {
           "xaxis": {
            "backgroundcolor": "#E5ECF6",
            "gridcolor": "white",
            "gridwidth": 2,
            "linecolor": "white",
            "showbackground": true,
            "ticks": "",
            "zerolinecolor": "white"
           },
           "yaxis": {
            "backgroundcolor": "#E5ECF6",
            "gridcolor": "white",
            "gridwidth": 2,
            "linecolor": "white",
            "showbackground": true,
            "ticks": "",
            "zerolinecolor": "white"
           },
           "zaxis": {
            "backgroundcolor": "#E5ECF6",
            "gridcolor": "white",
            "gridwidth": 2,
            "linecolor": "white",
            "showbackground": true,
            "ticks": "",
            "zerolinecolor": "white"
           }
          },
          "shapedefaults": {
           "line": {
            "color": "#2a3f5f"
           }
          },
          "ternary": {
           "aaxis": {
            "gridcolor": "white",
            "linecolor": "white",
            "ticks": ""
           },
           "baxis": {
            "gridcolor": "white",
            "linecolor": "white",
            "ticks": ""
           },
           "bgcolor": "#E5ECF6",
           "caxis": {
            "gridcolor": "white",
            "linecolor": "white",
            "ticks": ""
           }
          },
          "title": {
           "x": 0.05
          },
          "xaxis": {
           "automargin": true,
           "gridcolor": "white",
           "linecolor": "white",
           "ticks": "",
           "title": {
            "standoff": 15
           },
           "zerolinecolor": "white",
           "zerolinewidth": 2
          },
          "yaxis": {
           "automargin": true,
           "gridcolor": "white",
           "linecolor": "white",
           "ticks": "",
           "title": {
            "standoff": 15
           },
           "zerolinecolor": "white",
           "zerolinewidth": 2
          }
         }
        },
        "title": {
         "text": "BTC/USDT Свечной график"
        },
        "xaxis": {
         "title": {
          "text": "Время"
         }
        },
        "yaxis": {
         "title": {
          "text": "Цена (USDT)"
         }
        }
       }
      }
     },
     "metadata": {},
     "output_type": "display_data"
    }
   ],
   "source": [
    "import plotly.graph_objs as go\n",
    "\n",
    "fig = go.Figure(\n",
    "    data=[go.Candlestick(\n",
    "        x=plot_df['datetime'],\n",
    "        open=plot_df['open'],\n",
    "        high=plot_df['high'],\n",
    "        low=plot_df['low'],\n",
    "        close=plot_df['close'],\n",
    "        name='OHLC'\n",
    "    )]\n",
    ")\n",
    "\n",
    "fig.update_layout(\n",
    "    title='BTC/USDT Свечной график',\n",
    "    xaxis_title='Время',\n",
    "    yaxis_title='Цена (USDT)'\n",
    ")\n",
    "\n",
    "fig.show()"
   ]
  }
 ],
 "metadata": {
  "kernelspec": {
   "display_name": ".venv",
   "language": "python",
   "name": "python3"
  },
  "language_info": {
   "codemirror_mode": {
    "name": "ipython",
    "version": 3
   },
   "file_extension": ".py",
   "mimetype": "text/x-python",
   "name": "python",
   "nbconvert_exporter": "python",
   "pygments_lexer": "ipython3",
   "version": "3.12.3"
  }
 },
 "nbformat": 4,
 "nbformat_minor": 5
}
